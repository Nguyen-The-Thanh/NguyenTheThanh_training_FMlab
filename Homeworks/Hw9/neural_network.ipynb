{
  "nbformat": 4,
  "nbformat_minor": 0,
  "metadata": {
    "kernelspec": {
      "display_name": "Python [conda env:root] *",
      "language": "python",
      "name": "conda-root-py"
    },
    "language_info": {
      "codemirror_mode": {
        "name": "ipython",
        "version": 3
      },
      "file_extension": ".py",
      "mimetype": "text/x-python",
      "name": "python",
      "nbconvert_exporter": "python",
      "pygments_lexer": "ipython3",
      "version": "3.7.10"
    },
    "colab": {
      "provenance": [],
      "include_colab_link": true
    }
  },
  "cells": [
    {
      "cell_type": "markdown",
      "metadata": {
        "id": "view-in-github",
        "colab_type": "text"
      },
      "source": [
        "<a href=\"https://colab.research.google.com/github/Nguyen-The-Thanh/NguyenTheThanh_training_FMlab/blob/main/Homeworks/Hw9/neural_network.ipynb\" target=\"_parent\"><img src=\"https://colab.research.google.com/assets/colab-badge.svg\" alt=\"Open In Colab\"/></a>"
      ]
    },
    {
      "cell_type": "markdown",
      "metadata": {
        "id": "3x9uySjxDhZ0"
      },
      "source": [
        "# Neural Network Example\n",
        "\n",
        "Xây dựng neural network với hai tầng ẩn (hidden layer). Các trọng số và mối liên hệ giữa các tầng ẩn được thiết lập và cài đặt bằng việc sử dụng API của thư viện PyTorch"
      ]
    },
    {
      "cell_type": "markdown",
      "metadata": {
        "id": "t_U1OnHRDhZ4"
      },
      "source": [
        "## Neural Network Overview\n",
        "\n",
        "<img src=\"http://cs231n.github.io/assets/nn1/neural_net2.jpeg\" alt=\"nn\" style=\"width: 400px;\"/>\n",
        "\n",
        "## MNIST Dataset Overview\n",
        "\n"
      ]
    },
    {
      "cell_type": "code",
      "metadata": {
        "id": "qdOjSpvgDhZ5"
      },
      "source": [
        "from __future__ import absolute_import, division, print_function\n",
        "\n",
        "import torch\n",
        "import torch.nn as nn\n",
        "import torch.nn.functional as F\n",
        "import torch.optim as optim\n",
        "import torchvision\n",
        "import torchvision.transforms as transforms\n",
        "from torch.autograd import Variable\n",
        "import numpy as np"
      ],
      "execution_count": 1,
      "outputs": []
    },
    {
      "cell_type": "code",
      "metadata": {
        "id": "VozvoFF6gXDB"
      },
      "source": [
        "# Chuẩn bị dữ liệu\n",
        "from tensorflow.keras.datasets import mnist\n",
        "(x_train, y_train), (x_test, y_test) = mnist.load_data()\n",
        "# Chuyển đổi sang định dạng float32.\n",
        "x_train, x_test = np.array(x_train, np.float32), np.array(x_test, np.float32)\n",
        "# Chuẩn hóa ảnh từ from [0, 255] to [0, 1].\n",
        "x_train, x_test = x_train / 255, x_test / 255\n",
        "x_train, x_test, y_train, y_test = torch.from_numpy(x_train), torch.from_numpy(x_test), torch.from_numpy(y_train).type(torch.LongTensor), torch.from_numpy(y_test).type(torch.LongTensor)"
      ],
      "execution_count": 3,
      "outputs": []
    },
    {
      "cell_type": "code",
      "metadata": {
        "id": "2l0-L8j1pTAo"
      },
      "source": [
        "# MNIST dataset parameters.\n",
        "num_classes = 10 # total classes (0-9 digits).\n",
        "num_features = 784 # data features (img shape: 28*28).\n",
        "\n",
        "# Network parameters.\n",
        "n_hidden_1 = 128 # 1st layer number of neurons.\n",
        "# n_hidden_2 = 256 # 2nd layer number of neurons."
      ],
      "execution_count": 4,
      "outputs": []
    },
    {
      "cell_type": "code",
      "metadata": {
        "id": "DmRW7160DhZ5"
      },
      "source": [
        "batch_size = 16"
      ],
      "execution_count": 5,
      "outputs": []
    },
    {
      "cell_type": "code",
      "metadata": {
        "id": "jlCutM-HgnGm"
      },
      "source": [
        "trainloader = []\n",
        "for (i,j) in zip(x_train, y_train):\n",
        "    trainloader.append([i,j])\n",
        "trainloader = torch.utils.data.DataLoader(trainloader, shuffle=True, batch_size=batch_size)\n",
        "\n",
        "testloader = []\n",
        "for (i,j) in zip(x_test, y_test):\n",
        "    testloader.append([i,j])\n",
        "testloader = torch.utils.data.DataLoader(testloader, shuffle=True, batch_size=batch_size)"
      ],
      "execution_count": 6,
      "outputs": []
    },
    {
      "cell_type": "markdown",
      "metadata": {
        "id": "2ozBMqxygTt3"
      },
      "source": [
        "## Hiển thị một vài ví dụ"
      ]
    },
    {
      "cell_type": "code",
      "metadata": {
        "id": "OKzi3NK4INqd",
        "colab": {
          "base_uri": "https://localhost:8080/",
          "height": 230
        },
        "outputId": "2e03ee54-afc8-42c8-bf44-153d83bfc537"
      },
      "source": [
        "import matplotlib.pyplot as plt\n",
        "%matplotlib inline\n",
        "\n",
        "dataiter = iter(trainloader)\n",
        "images, labels = dataiter.__next__()\n",
        "images = images.numpy()\n",
        "\n",
        "# hiển thị dữ liệu theo từng batch và nhãn tương ứng\n",
        "fig = plt.figure(figsize=(25, 4))\n",
        "for idx in np.arange(batch_size):\n",
        "    ax = fig.add_subplot(2, int(batch_size/2), idx+1, xticks=[], yticks=[])\n",
        "    ax.imshow(np.squeeze(images[idx]), cmap='gray')\n",
        "    ax.set_title(str(labels[idx].item()))"
      ],
      "execution_count": 9,
      "outputs": [
        {
          "output_type": "display_data",
          "data": {
            "text/plain": [
              "<Figure size 2500x400 with 16 Axes>"
            ],
            "image/png": "[encoded data removed]"
          },
          "metadata": {}
        }
      ]
    },
    {
      "cell_type": "code",
      "metadata": {
        "id": "Rql7CBYODhZ6",
        "colab": {
          "base_uri": "https://localhost:8080/"
        },
        "outputId": "d55680db-60b4-46c2-84ff-c68c81cbe5c0"
      },
      "source": [
        "import torch.nn as nn\n",
        "import torch.nn.functional as F\n",
        "\n",
        "## định nghĩa mạng\n",
        "class MLPModel(nn.Module):\n",
        "    def __init__(self):\n",
        "        super(MLPModel, self).__init__()\n",
        "        self.fc1 = nn.Linear(num_features, n_hidden_1)\n",
        "        # linear layer (n_hidden -> hidden_2)\n",
        "        self.fc2 = nn.Linear(n_hidden_1, num_classes)\n",
        "\n",
        "    def forward(self, x):\n",
        "        # chuyển từ định dạng ma trận thành vector\n",
        "        x = x.view(-1, 28 * 28)\n",
        "        # add hidden layer, with relu activation function\n",
        "        x = F.relu(self.fc1(x))\n",
        "        x = F.relu(self.fc2(x))\n",
        "        return x\n",
        "\n",
        "# initialize the NN\n",
        "model = MLPModel()\n",
        "print(model)"
      ],
      "execution_count": 11,
      "outputs": [
        {
          "output_type": "stream",
          "name": "stdout",
          "text": [
            "MLPModel(\n",
            "  (fc1): Linear(in_features=784, out_features=128, bias=True)\n",
            "  (fc2): Linear(in_features=128, out_features=10, bias=True)\n",
            ")\n"
          ]
        }
      ]
    },
    {
      "cell_type": "code",
      "metadata": {
        "id": "hCTP3kWMng7e"
      },
      "source": [
        "import torch.optim as optim\n",
        "# trong hàm loss cross entropy đã áp dụng hàm soft max cho vector đầu ra\n",
        "criterion = nn.CrossEntropyLoss()\n",
        "optimizer = optim.SGD(model.parameters(), lr=0.01)"
      ],
      "execution_count": 12,
      "outputs": []
    },
    {
      "cell_type": "code",
      "metadata": {
        "id": "F08Eg4vfmtOQ"
      },
      "source": [
        "def accuracy():\n",
        "    correct = 0\n",
        "    total = 0\n",
        "    # since we're not training, we don't need to calculate the gradients for our outputs\n",
        "    with torch.no_grad():\n",
        "        for data in testloader:\n",
        "            images, labels = data\n",
        "            # calculate outputs by running images through the network\n",
        "            outputs = model(images)\n",
        "            # the class with the highest energy is what we choose as prediction\n",
        "            _, predicted = torch.max(outputs.data, 1)\n",
        "            total += labels.size(0)\n",
        "            correct += (predicted == labels).sum().item()\n",
        "\n",
        "    return correct/total"
      ],
      "execution_count": 13,
      "outputs": []
    },
    {
      "cell_type": "code",
      "metadata": {
        "id": "NDl_S1CynsUR",
        "colab": {
          "base_uri": "https://localhost:8080/"
        },
        "outputId": "82b2c848-cc4b-48e5-d9fc-1921e5c25d27"
      },
      "source": [
        "losses = []\n",
        "for epoch in range(40):  # loop over the dataset multiple times\n",
        "\n",
        "    running_loss = 0.0\n",
        "    for i, data in enumerate(trainloader, 0):\n",
        "        # get the inputs; data is a list of [inputs, labels]\n",
        "        inputs, labels = data\n",
        "\n",
        "        # zero the parameter gradients\n",
        "        optimizer.zero_grad()\n",
        "\n",
        "        # forward + backward + optimize\n",
        "        outputs = model(inputs)\n",
        "        loss = criterion(outputs, labels)\n",
        "        loss.backward()\n",
        "        optimizer.step()\n",
        "\n",
        "        # print statistics\n",
        "        running_loss += loss.item()\n",
        "    losses.append(running_loss)\n",
        "    if epoch % 10 == 9:\n",
        "        print('Iteration: %d, accuracy: %.3f' %(epoch + 1, accuracy()))\n",
        "\n",
        "print('Finished Training')"
      ],
      "execution_count": 15,
      "outputs": [
        {
          "output_type": "stream",
          "name": "stdout",
          "text": [
            "Iteration: 10, accuracy: 0.973\n",
            "Iteration: 20, accuracy: 0.978\n",
            "Iteration: 30, accuracy: 0.979\n",
            "Iteration: 40, accuracy: 0.980\n",
            "Finished Training\n"
          ]
        }
      ]
    },
    {
      "cell_type": "code",
      "metadata": {
        "colab": {
          "base_uri": "https://localhost:8080/",
          "height": 430
        },
        "id": "wULStpofn6KQ",
        "outputId": "c20743e7-fe3e-4c4e-bc75-5e76e3f73018"
      },
      "source": [
        "# Biểu đồ biểu diễn độ biến thiên của hàm mất mát qua các vòng lặp\n",
        "plt.plot([i for i in range(len(losses))], losses, label='Loss line')\n",
        "# plt.plot(X, np.array(W * X + b), label='Fitted line')\n",
        "plt.legend()\n",
        "plt.show()"
      ],
      "execution_count": 16,
      "outputs": [
        {
          "output_type": "display_data",
          "data": {
            "text/plain": [
              "<Figure size 640x480 with 1 Axes>"
            ],
            "image/png": "[encoded data removed]"
          },
          "metadata": {}
        }
      ]
    },
    {
      "cell_type": "markdown",
      "metadata": {
        "id": "r9TNrG3r0OYV"
      },
      "source": [
        "## Bài tập\n",
        "\n",
        "*   Tiến hành huấn luyện mô hình với số lượng epoch lần lượt là 50, 100, 150.Rút ra nhận xét.\n",
        "\n"
      ]
    },
    {
      "cell_type": "markdown",
      "metadata": {
        "id": "ByD_DioQ0n58"
      },
      "source": [
        "\n",
        "\n",
        "*   Hiển thị một số kết quả\n",
        "\n"
      ]
    },
    {
      "cell_type": "code",
      "metadata": {
        "id": "EPVrejvmDhZ_",
        "colab": {
          "base_uri": "https://localhost:8080/",
          "height": 230
        },
        "outputId": "27ae7ed7-67e3-4b66-e481-d471d53d91f0"
      },
      "source": [
        "# obtain one batch of test images\n",
        "dataiter = iter(testloader)\n",
        "images, labels = dataiter.__next__()\n",
        "\n",
        "# get sample outputs\n",
        "output = model(images)\n",
        "# convert output probabilities to predicted class\n",
        "_, preds = torch.max(output, 1)\n",
        "# prep images for display\n",
        "images = images.numpy()\n",
        "\n",
        "# plot the images in the batch, along with predicted and true labels\n",
        "fig = plt.figure(figsize=(25, 4))\n",
        "for idx in np.arange(batch_size):\n",
        "    ax = fig.add_subplot(2, int(batch_size/2), idx+1, xticks=[], yticks=[])\n",
        "    ax.imshow(np.squeeze(images[idx]), cmap='gray')\n",
        "    ax.set_title(\"{} ({})\".format(str(preds[idx].item()), str(labels[idx].item())),\n",
        "                 color=(\"green\" if preds[idx]==labels[idx] else \"red\"))"
      ],
      "execution_count": 19,
      "outputs": [
        {
          "output_type": "display_data",
          "data": {
            "text/plain": [
              "<Figure size 2500x400 with 16 Axes>"
            ],
            "image/png": "[encoded data removed]"
          },
          "metadata": {}
        }
      ]
    },
    {
      "cell_type": "markdown",
      "source": [
        "Epochs = 100"
      ],
      "metadata": {
        "id": "fw7vPZAA2wdn"
      }
    },
    {
      "cell_type": "code",
      "metadata": {
        "id": "M64NL8UXhe00",
        "colab": {
          "base_uri": "https://localhost:8080/"
        },
        "outputId": "c7bb20ac-c619-4827-df8f-81a795655b90"
      },
      "source": [
        "losses1 = []\n",
        "for epoch in range(100):  # loop over the dataset multiple times\n",
        "\n",
        "    running_loss = 0.0\n",
        "    for i, data in enumerate(trainloader, 0):\n",
        "        # get the inputs; data is a list of [inputs, labels]\n",
        "        inputs, labels = data\n",
        "\n",
        "        # zero the parameter gradients\n",
        "        optimizer.zero_grad()\n",
        "\n",
        "        # forward + backward + optimize\n",
        "        outputs = model(inputs)\n",
        "        loss = criterion(outputs, labels)\n",
        "        loss.backward()\n",
        "        optimizer.step()\n",
        "\n",
        "        # print statistics\n",
        "        running_loss += loss.item()\n",
        "    losses1.append(running_loss)\n",
        "    if epoch % 10 == 9:\n",
        "        print('Iteration: %d, accuracy: %.3f' %(epoch + 1, accuracy()))\n",
        "\n",
        "print('Finished Training')"
      ],
      "execution_count": 20,
      "outputs": [
        {
          "output_type": "stream",
          "name": "stdout",
          "text": [
            "Iteration: 10, accuracy: 0.980\n",
            "Iteration: 20, accuracy: 0.981\n",
            "Iteration: 30, accuracy: 0.980\n",
            "Iteration: 40, accuracy: 0.981\n",
            "Iteration: 50, accuracy: 0.981\n",
            "Iteration: 60, accuracy: 0.980\n",
            "Iteration: 70, accuracy: 0.980\n",
            "Iteration: 80, accuracy: 0.981\n",
            "Iteration: 90, accuracy: 0.981\n",
            "Iteration: 100, accuracy: 0.980\n",
            "Finished Training\n"
          ]
        }
      ]
    },
    {
      "cell_type": "code",
      "source": [
        "plt.plot([i for i in range(len(losses1))], losses1, label='Loss line')\n",
        "plt.legend()\n",
        "plt.show()"
      ],
      "metadata": {
        "colab": {
          "base_uri": "https://localhost:8080/",
          "height": 430
        },
        "id": "y5WgdTHe3NEg",
        "outputId": "2937eac4-f1dc-41fe-921a-6b6824bb2b32"
      },
      "execution_count": 22,
      "outputs": [
        {
          "output_type": "display_data",
          "data": {
            "text/plain": [
              "<Figure size 640x480 with 1 Axes>"
            ],
            "image/png": "[encoded data removed]"
          },
          "metadata": {}
        }
      ]
    },
    {
      "cell_type": "markdown",
      "metadata": {
        "id": "LZnmFyT3yvBd"
      },
      "source": [
        "## Bài tập\n",
        "\n",
        "*   Thiết lập thêm 3 mạng nơ ron với số tầng ẩn lần lượt là 3,5 (số lượng nơ ron của các tầng tùy ý). Với mỗi mạng mới được sinh ra, áp dụng learning-rate lần lượt bằng 0.1, 0,05, 0.001 để huấn luyện. Huấn luyện qua khoảng 100 epoch.\n",
        "*   Chia tập train hiện có thành 2 phần. **85%** dữ liệu làm tập **train**, **15%** còn lại làm tập **dev**. Huấn luyện các mô hình tạo ra ở bước trên với tập **train** mới, sau đó kiểm thử trên tập **dev**.\n",
        "* Dùng các model kiểm thử trên tập **test**. So sánh model cho kết quả tốt nhất khi kiểm thử trên 2 tập này và rút ra nhận xét về vai trò của tập **dev**\n",
        "\n"
      ]
    },
    {
      "cell_type": "code",
      "metadata": {
        "id": "kHagR4zz1_Ek"
      },
      "source": [
        "from torch.utils.data import random_split, DataLoader, TensorDataset\n",
        "\n",
        "train_dataset = TensorDataset(x_train, y_train)\n",
        "train_data, dev_data = random_split(train_dataset, [int(0.85 * len(train_dataset)), int(0.15 * len(train_dataset))])"
      ],
      "execution_count": 23,
      "outputs": []
    },
    {
      "cell_type": "code",
      "source": [
        "train_loader = DataLoader(train_data, batch_size = batch_size, shuffle = True)\n",
        "dev_loader = DataLoader(dev_data, batch_size = batch_size, shuffle = False)"
      ],
      "metadata": {
        "id": "DWtjtBsC5JhP"
      },
      "execution_count": 24,
      "outputs": []
    },
    {
      "cell_type": "code",
      "source": [
        "class MLP_3Layers(nn.Module):\n",
        "    def __init__(self):\n",
        "        super(MLP_3Layers, self).__init__()\n",
        "        self.fc1 = nn.Linear(num_features, 256)\n",
        "        self.fc2 = nn.Linear(256, 128)\n",
        "        self.fc3 = nn.Linear(128, 64)\n",
        "        self.fc4 = nn.Linear(64, 10)\n",
        "\n",
        "    def forward(self, x):\n",
        "        x = x.view(-1, 28*28)\n",
        "        x = F.relu(self.fc1(x))\n",
        "        x = F.relu(self.fc2(x))\n",
        "        x = F.relu(self.fc3(x))\n",
        "        x = self.fc4(x)\n",
        "        return x\n",
        "\n",
        "model_1 = MLP_3Layers()\n",
        "model_2 = MLP_3Layers()\n",
        "print(model_1)\n",
        "print(model_2)"
      ],
      "metadata": {
        "colab": {
          "base_uri": "https://localhost:8080/"
        },
        "id": "2_quLHld5JB_",
        "outputId": "d9668b95-6a4e-4691-8805-d73db340c570"
      },
      "execution_count": 25,
      "outputs": [
        {
          "output_type": "stream",
          "name": "stdout",
          "text": [
            "MLP_3Layers(\n",
            "  (fc1): Linear(in_features=784, out_features=256, bias=True)\n",
            "  (fc2): Linear(in_features=256, out_features=128, bias=True)\n",
            "  (fc3): Linear(in_features=128, out_features=64, bias=True)\n",
            "  (fc4): Linear(in_features=64, out_features=10, bias=True)\n",
            ")\n",
            "MLP_3Layers(\n",
            "  (fc1): Linear(in_features=784, out_features=256, bias=True)\n",
            "  (fc2): Linear(in_features=256, out_features=128, bias=True)\n",
            "  (fc3): Linear(in_features=128, out_features=64, bias=True)\n",
            "  (fc4): Linear(in_features=64, out_features=10, bias=True)\n",
            ")\n"
          ]
        }
      ]
    },
    {
      "cell_type": "code",
      "source": [
        "criterion = nn.CrossEntropyLoss()\n",
        "optimizer = optim.SGD(model_1.parameters(), lr = 0.1)\n",
        "optimizer = optim.SGD(model_2.parameters(), lr = 0.05)"
      ],
      "metadata": {
        "id": "uyVuXtoH6c5J"
      },
      "execution_count": 26,
      "outputs": []
    },
    {
      "cell_type": "code",
      "source": [
        "class MLP_5Layers(nn.Module):\n",
        "    def __init__(self):\n",
        "        super(MLP_5Layers, self).__init__()\n",
        "        self.fc1 = nn.Linear(num_features, 512)\n",
        "        self.fc2 = nn.Linear(512, 256)\n",
        "        self.fc3 = nn.Linear(256, 128)\n",
        "        self.fc4 = nn.Linear(128, 64)\n",
        "        self.fc5 = nn.Linear(64, 32)\n",
        "        self.fc6 = nn.Linear(32, 10)\n",
        "\n",
        "    def forward(self, x):\n",
        "        x = x.view(-1, 28*28)\n",
        "        x = F.relu(self.fc1(x))\n",
        "        x = F.relu(self.fc2(x))\n",
        "        x = F.relu(self.fc3(x))\n",
        "        x = F.relu(self.fc4(x))\n",
        "        x = F.relu(self.fc5(x))\n",
        "        x = self.fc6(x)\n",
        "        return x\n",
        "\n",
        "model_3 = MLP_5Layers()\n",
        "print(model_3)"
      ],
      "metadata": {
        "colab": {
          "base_uri": "https://localhost:8080/"
        },
        "id": "_X5wCVkX6dja",
        "outputId": "b863f364-b49b-4890-be29-43727a7c0384"
      },
      "execution_count": 27,
      "outputs": [
        {
          "output_type": "stream",
          "name": "stdout",
          "text": [
            "MLP_5Layers(\n",
            "  (fc1): Linear(in_features=784, out_features=512, bias=True)\n",
            "  (fc2): Linear(in_features=512, out_features=256, bias=True)\n",
            "  (fc3): Linear(in_features=256, out_features=128, bias=True)\n",
            "  (fc4): Linear(in_features=128, out_features=64, bias=True)\n",
            "  (fc5): Linear(in_features=64, out_features=32, bias=True)\n",
            "  (fc6): Linear(in_features=32, out_features=10, bias=True)\n",
            ")\n"
          ]
        }
      ]
    },
    {
      "cell_type": "code",
      "source": [
        "criterion = nn.CrossEntropyLoss()\n",
        "optimizer = optim.SGD(model_3.parameters(), lr = 0.001)"
      ],
      "metadata": {
        "id": "jIYbsklQ6dW9"
      },
      "execution_count": 28,
      "outputs": []
    },
    {
      "cell_type": "code",
      "source": [
        "def acc(model, data_loader):\n",
        "    model.eval()\n",
        "    correct, total = 0, 0\n",
        "    with torch.no_grad():\n",
        "        for images, labels in data_loader:\n",
        "            images = images.view(-1, 28*28)\n",
        "            outputs = model(images)\n",
        "            _, predicted = torch.max(outputs.data, 1)\n",
        "            total += labels.size(0)\n",
        "            correct += (predicted == labels).sum().item()\n",
        "    return 100 * correct / total\n",
        "\n",
        "models_to_test = {\n",
        "    \"3 hidden layers NN\": MLP_3Layers,\n",
        "    \"5 hidden layers NN\": MLP_5Layers\n",
        "}\n",
        "\n",
        "learning_rates = [0.1, 0.05, 0.001]\n",
        "num_epochs = 20\n",
        "\n",
        "results = []\n",
        "best_dev_acc = 0\n",
        "best_model_info = {}\n",
        "\n",
        "for name, model_class in models_to_test.items():\n",
        "    for lr in learning_rates:\n",
        "        print(f\"\\n- Training {name} | Learning Rate = {lr}\")\n",
        "\n",
        "        # Khởi tạo model, loss, optimizer\n",
        "        model = model_class()\n",
        "        criterion = nn.CrossEntropyLoss()\n",
        "        optimizer = optim.SGD(model.parameters(), lr = lr)\n",
        "\n",
        "        # Huấn luyện mô hình\n",
        "        for epoch in range(num_epochs):\n",
        "            model.train()\n",
        "            running_loss = 0.0\n",
        "            for images, labels in train_loader:\n",
        "                images = images.view(-1, 28*28)\n",
        "                optimizer.zero_grad()\n",
        "                outputs = model(images)\n",
        "                loss = criterion(outputs, labels)\n",
        "                loss.backward()\n",
        "                optimizer.step()\n",
        "                running_loss += loss.item()\n",
        "\n",
        "            if (epoch + 1) % 10 == 0:\n",
        "                print(f\"Epoch [{epoch+1}], Loss: {running_loss/len(train_loader):.4f}\")\n",
        "\n",
        "        # Kiểm thử trên tập dev\n",
        "        dev_acc = acc(model, dev_loader)\n",
        "        print(f\"Accuracy on validation set: {dev_acc:.2f}%\")\n",
        "        print(\"------------------------------------------------------\")\n",
        "\n",
        "        # Lưu kết quả\n",
        "        results.append({'model': name, 'lr': lr, 'dev_accuracy': dev_acc})\n",
        "\n",
        "        if dev_acc > best_dev_acc:\n",
        "            best_dev_acc = dev_acc\n",
        "            best_model_info = {\n",
        "                \"name\": name,\n",
        "                \"lr\": lr,\n",
        "                \"dev_acc\": dev_acc,\n",
        "                \"model_state\": model.state_dict(),\n",
        "                \"model_class\": model_class\n",
        "            }\n",
        "\n",
        "print(\"---------------------------------\")\n",
        "print(\"\\n- Model tốt nhất:\")\n",
        "print(f\"Model: {best_model_info['name']} | Learning Rate: {best_model_info['lr']} | Dev Accuracy: {best_model_info['dev_acc']:.2f}%\")"
      ],
      "metadata": {
        "colab": {
          "base_uri": "https://localhost:8080/"
        },
        "id": "YL4myy7E6dK6",
        "outputId": "c2e2fedc-a648-4f03-ed5e-639b258c350a"
      },
      "execution_count": 31,
      "outputs": [
        {
          "output_type": "stream",
          "name": "stdout",
          "text": [
            "\n",
            "- Training 3 hidden layers NN | Learning Rate = 0.1\n",
            "Epoch [10], Loss: 0.0195\n",
            "Epoch [20], Loss: 0.0060\n",
            "Accuracy on validation set: 98.21%\n",
            "------------------------------------------------------\n",
            "\n",
            "- Training 3 hidden layers NN | Learning Rate = 0.05\n",
            "Epoch [10], Loss: 0.0172\n",
            "Epoch [20], Loss: 0.0002\n",
            "Accuracy on validation set: 98.00%\n",
            "------------------------------------------------------\n",
            "\n",
            "- Training 3 hidden layers NN | Learning Rate = 0.001\n",
            "Epoch [10], Loss: 0.4118\n",
            "Epoch [20], Loss: 0.2638\n",
            "Accuracy on validation set: 92.22%\n",
            "------------------------------------------------------\n",
            "\n",
            "- Training 5 hidden layers NN | Learning Rate = 0.1\n",
            "Epoch [10], Loss: 0.0221\n",
            "Epoch [20], Loss: 0.0057\n",
            "Accuracy on validation set: 97.56%\n",
            "------------------------------------------------------\n",
            "\n",
            "- Training 5 hidden layers NN | Learning Rate = 0.05\n",
            "Epoch [10], Loss: 0.0192\n",
            "Epoch [20], Loss: 0.0067\n",
            "Accuracy on validation set: 97.63%\n",
            "------------------------------------------------------\n",
            "\n",
            "- Training 5 hidden layers NN | Learning Rate = 0.001\n",
            "Epoch [10], Loss: 2.2689\n",
            "Epoch [20], Loss: 0.4291\n",
            "Accuracy on validation set: 88.76%\n",
            "------------------------------------------------------\n",
            "---------------------------------\n",
            "\n",
            "- Model tốt nhất:\n",
            "Model: 3 hidden layers NN | Learning Rate: 0.1 | Dev Accuracy: 98.21%\n"
          ]
        }
      ]
    }
  ]
}