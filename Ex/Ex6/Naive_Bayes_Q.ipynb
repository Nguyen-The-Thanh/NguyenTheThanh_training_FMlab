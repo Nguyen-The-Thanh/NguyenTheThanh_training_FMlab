{
  "cells": [
    {
      "cell_type": "markdown",
      "metadata": {
        "id": "view-in-github",
        "colab_type": "text"
      },
      "source": [
        "<a href=\"https://colab.research.google.com/github/Nguyen-The-Thanh/NguyenTheThanh_training_FMlab/blob/main/Ex/Ex6/Naive_Bayes_Q.ipynb\" target=\"_parent\"><img src=\"https://colab.research.google.com/assets/colab-badge.svg\" alt=\"Open In Colab\"/></a>"
      ]
    },
    {
      "cell_type": "markdown",
      "metadata": {
        "id": "LijPfBPXkebb"
      },
      "source": [
        "# Bài toán phân loại sử dụng Naive Bayes\n",
        "\n",
        "Mục tiêu:\n",
        "\n",
        "- Xây dựng được mô hình nb sử dụng thư viện sklearn.\n",
        "- Ứng dụng, hiểu cách áp dụng mô hình nb vào giải quyết bài toán thực tế (vd: phân loại văn bản)\n",
        "- Sử dụng độ đo Accuracy để làm độ đo đánh giá chất lượng mô hình.\n",
        "\n",
        "Vấn đề:\n",
        "- Có một tập các văn bản dạng text không có nhãn, làm sao để biết văn bản này là thuộc về thể loại nào, pháp luật, đời sống, văn học, thể thao ...\n",
        "- => Xây dựng mô hình học máy có thể phân loại các thể loại của văn bản chỉ dựa trên nội dung.  \n",
        "\n",
        "Dữ liệu:\n",
        "- Có tập các văn bản và nhãn tương ứng của từng văn bản trong một khoảng thời gian\n",
        "- Tập các nhãn - 10 nhãn văn bản:\n",
        "    > Giải trí, Khoa học - Công nghệ, Kinh tế, Pháp luật, Sức khỏe, Thể thao, Thời sự, Tin khác, Độc giả, Đời sống - Xã hội\n",
        "- Ví dụ văn bản nhãn **thể thao**:\n",
        "    > \"Dân_trí Real Madrid đã dẫn trước trong cả trận đấu , nhưng họ vẫn phải chấp_nhận bị Dortmund cầm hòa 2-2 ở Bernabeu . Real Madrid chấp_nhận đứng thứ_hai ở bảng F Champions League ...\"\n",
        "\n",
        "Bài toán:\n",
        "- Input: tập các từ trong văn bản 1 mẫu dữ liệu $X = [x_1, x_2, ... x_n]$\n",
        "- Output: nhãn $y$ là 1 trong 10 nhãn trên"
      ]
    },
    {
      "cell_type": "markdown",
      "metadata": {
        "id": "IqGqHaHZ6FU0"
      },
      "source": [
        "# Nội dung thực hành"
      ]
    },
    {
      "cell_type": "markdown",
      "metadata": {
        "id": "82jlDZZj6H0z"
      },
      "source": [
        "1. Nếu sử dụng GColab, cần kết nối với server và Gdrive(nếu sử dụng dữ liệu trong drive)"
      ]
    },
    {
      "cell_type": "markdown",
      "metadata": {
        "id": "pj1pLKZ86TDH"
      },
      "source": [
        "2. Import các thư viện cần thiết, cài thêm một số thư viện chưa sẵn có"
      ]
    },
    {
      "cell_type": "code",
      "execution_count": 1,
      "metadata": {
        "colab": {
          "base_uri": "https://localhost:8080/"
        },
        "id": "QxQXkouYkebh",
        "outputId": "5d6b5512-9efe-4280-988c-9cfd22c61cc8"
      },
      "outputs": [
        {
          "output_type": "stream",
          "name": "stdout",
          "text": [
            "Collecting pyvi\n",
            "  Downloading pyvi-0.1.1-py2.py3-none-any.whl.metadata (2.5 kB)\n",
            "Requirement already satisfied: scikit-learn in /usr/local/lib/python3.12/dist-packages (from pyvi) (1.6.1)\n",
            "Collecting sklearn-crfsuite (from pyvi)\n",
            "  Downloading sklearn_crfsuite-0.5.0-py2.py3-none-any.whl.metadata (4.9 kB)\n",
            "Requirement already satisfied: numpy>=1.19.5 in /usr/local/lib/python3.12/dist-packages (from scikit-learn->pyvi) (2.0.2)\n",
            "Requirement already satisfied: scipy>=1.6.0 in /usr/local/lib/python3.12/dist-packages (from scikit-learn->pyvi) (1.16.2)\n",
            "Requirement already satisfied: joblib>=1.2.0 in /usr/local/lib/python3.12/dist-packages (from scikit-learn->pyvi) (1.5.2)\n",
            "Requirement already satisfied: threadpoolctl>=3.1.0 in /usr/local/lib/python3.12/dist-packages (from scikit-learn->pyvi) (3.6.0)\n",
            "Collecting python-crfsuite>=0.9.7 (from sklearn-crfsuite->pyvi)\n",
            "  Downloading python_crfsuite-0.9.11-cp312-cp312-manylinux_2_17_x86_64.manylinux2014_x86_64.whl.metadata (4.3 kB)\n",
            "Requirement already satisfied: tabulate>=0.4.2 in /usr/local/lib/python3.12/dist-packages (from sklearn-crfsuite->pyvi) (0.9.0)\n",
            "Requirement already satisfied: tqdm>=2.0 in /usr/local/lib/python3.12/dist-packages (from sklearn-crfsuite->pyvi) (4.67.1)\n",
            "Downloading pyvi-0.1.1-py2.py3-none-any.whl (8.5 MB)\n",
            "\u001b[2K   \u001b[90m━━━━━━━━━━━━━━━━━━━━━━━━━━━━━━━━━━━━━━━━\u001b[0m \u001b[32m8.5/8.5 MB\u001b[0m \u001b[31m69.6 MB/s\u001b[0m eta \u001b[36m0:00:00\u001b[0m\n",
            "\u001b[?25hDownloading sklearn_crfsuite-0.5.0-py2.py3-none-any.whl (10 kB)\n",
            "Downloading python_crfsuite-0.9.11-cp312-cp312-manylinux_2_17_x86_64.manylinux2014_x86_64.whl (1.3 MB)\n",
            "\u001b[2K   \u001b[90m━━━━━━━━━━━━━━━━━━━━━━━━━━━━━━━━━━━━━━━━\u001b[0m \u001b[32m1.3/1.3 MB\u001b[0m \u001b[31m59.9 MB/s\u001b[0m eta \u001b[36m0:00:00\u001b[0m\n",
            "\u001b[?25hInstalling collected packages: python-crfsuite, sklearn-crfsuite, pyvi\n",
            "Successfully installed python-crfsuite-0.9.11 pyvi-0.1.1 sklearn-crfsuite-0.5.0\n"
          ]
        }
      ],
      "source": [
        "# Cài đặt thư viện xử lý ngôn ngữ cho tiếng Việt!\n",
        "!pip install pyvi"
      ]
    },
    {
      "cell_type": "code",
      "execution_count": 2,
      "metadata": {
        "id": "lKp1z1cHkebk"
      },
      "outputs": [],
      "source": [
        "import matplotlib.pyplot as plt\n",
        "import numpy as np\n",
        "\n",
        "#from sklearn.datasets import load_files\n",
        "from pyvi import ViTokenizer # Tách từ tiếng Việt\n",
        "\n",
        "\n",
        "import sklearn.naive_bayes as naive_bayes\n",
        "from sklearn.datasets import load_files\n",
        "from sklearn.feature_extraction.text import CountVectorizer, TfidfVectorizer\n",
        "from sklearn.feature_extraction.text import TfidfTransformer\n",
        "from sklearn.model_selection import train_test_split, GridSearchCV\n",
        "from sklearn.pipeline import Pipeline\n",
        "from sklearn.model_selection import ShuffleSplit\n",
        "from sklearn.model_selection import learning_curve\n",
        "\n",
        "%matplotlib inline"
      ]
    },
    {
      "cell_type": "markdown",
      "metadata": {
        "id": "k-qNL6tkkebl"
      },
      "source": [
        "3. Load dữ liệu từ thư mục đã crawl từ trước\n",
        "\n",
        ">Cấu trúc thư mục như sau\n",
        "- data/news_1135/\n",
        "    - Kinh tế:\n",
        "        - bài báo 1.txt\n",
        "        - bài báo 2.txt\n",
        "    - Pháp luật\n",
        "        - bài báo 3.txt\n",
        "        - bài báo 4.txt"
      ]
    },
    {
      "cell_type": "code",
      "execution_count": 4,
      "metadata": {
        "colab": {
          "base_uri": "https://localhost:8080/"
        },
        "id": "9Z3C3XqNkebm",
        "outputId": "3f478909-d7b6-4c30-d36b-e38a8a5525c7"
      },
      "outputs": [
        {
          "output_type": "stream",
          "name": "stdout",
          "text": [
            "['data/news_1135/Thể thao/2e62de81ade8318f66cc740f5ede5607ea1bf002.txt'\n",
            " 'data/news_1135/Thể thao/f9bd156031140a7db52ae51de4561f234a0eb277.txt'\n",
            " 'data/news_1135/Thể thao/aeeb3b3b0dfc936de928f0b004259aca70aa4efa.txt']\n",
            "\n",
            "Tong so file: 224\n",
            "Danh sách 10 nhãn và id tương ứng:  [(0, 'Giải trí'), (1, 'Khoa học - Công nghệ'), (2, 'Kinh tế'), (3, 'Pháp luật'), (4, 'Sức khỏe'), (5, 'Thể thao'), (6, 'Thời sự')]\n"
          ]
        }
      ],
      "source": [
        "data_train = load_files(container_path=\"data/news_1135/\", encoding=\"utf-8\")\n",
        "\n",
        "print(data_train.filenames[0:3])\n",
        "print()\n",
        "\n",
        "print(\"Tong so file: {}\" .format( len(data_train.filenames)))\n",
        "print(\"Danh sách 10 nhãn và id tương ứng: \", [(idx, name) for idx, name in enumerate(data_train.target_names[0:10])] )\n"
      ]
    },
    {
      "cell_type": "code",
      "execution_count": 11,
      "metadata": {
        "id": "JA2ZGlfykebo",
        "colab": {
          "base_uri": "https://localhost:8080/"
        },
        "outputId": "3dde5af7-99e8-4973-bd2d-abc5bd7decd9"
      },
      "outputs": [
        {
          "output_type": "stream",
          "name": "stdout",
          "text": [
            "Dân_trí Sáng 5/12 , giải quần_vợt các tay_vợt xuất_sắc Việt_Nam - Cúp Vietravel 2016 đã chính_thức khai_mạc tại TP Vinh - Nghệ_An . Tham_dự giải hơn 30 tay_vợt xuất_sắc nhất của Liên_đoàn quần_vợt Việt_Nam . Dự lễ khai_mạc có ông Nguyễn Trọng Hổ - Vụ_trưởng Vụ thể_thao thành_tích cao II ; Đoàn Quốc Cường - Trưởng bộ_môn quần_vợt Liên_đoàn quần_vợt Việt_Nam ; Nguyễn Quốc Kỳ - Tổng_Giám_đốc Viettravel , Phó_Chủ_tịch kiêm Tổng_thư_ký Liên_đoàn quần_vợt Việt_Nam cùng lãnh_đạo tỉnh Nghệ_An . Giải quần_vợt các cây_vợt xuất_sắc Việt_Nam - Cup Vietravel 2016 do Liên_đoàn Quần_vợt Việt_Nam VTF phối_hợp với Sở VH - TT - DL và Liên_đoàn quần_vợt Nghệ_An NTF tổ_chức ; là giải đấu chuyên_nghiệp quốc_gia lần đầu_tiên được tổ_chức tại Nghệ_An . Ông Nguyễn Quốc Kỳ - PCT kiêm TTK Liên_đoàn quần_vợt Việt_Nam Tham_gia giải lần này có 22 VĐV nam , 9 VĐV nữ có điểm xếp_hạng cao nhất của bộ_môn quần_vợt chuyên_nghiệp , đến từ các trung_tâm quần_vợt lớn trong cả nước như : Thành_phố Hồ Chí Minh ; Bình_Dương ; Hà_Nội , Đà_Nẵng ... Trong đó , những tên_tuổi lớn của làng quần_vợt chuyên_nghiệp Việt_Nam như : Lý Hoàng Nam ; Phạm Minh Tuấn ; Hoàng Thành_Trung ; Trịnh Linh Giang ; Trần Thị Tâm Hảo ; Nguyễn Thị Bé Xuyên ... Các VĐV thi_đấu ở 4 nội_dung gồm : Đơn_nam ; đôi_nam ; đơn_nữ và đôi_nữ theo thể_thức đấu_loại trực_tiếp . Giải đấu là dịp để khích_lệ phong_trào tập_luyện môn Tennis trên địa_bàn tỉnh , là cơ_sở để Nghệ_An hướng đến tổ_chức những giải đấu lớn của quần_vợt chuyên_nghiệp Việt_Nam trong thời_gian tới ; góp_phần quảng_bá hình_ảnh quê_hương Nghệ_An đến với khán_giả cả nước . Phát_biểu tại lễ khai_mạc , ông Huỳnh Thanh_Điền - Phó_Chủ_tịch UBND tỉnh Nghệ_An khẳng_định : Giải quần_vợt các cây_vợt xuất_sắc Việt_Nam Cúp Vietravel 2016 lần đầu_tiên được tổ_chức tại Nghệ_An là bước_tiến mới của phong_trào phát_triển môn quần_vợt tại tỉnh Nghệ_An . Đây là dịp để góp_phần quảng_bá hình_ảnh quê_hương Chủ_tịch Hồ Chí Minh đến với khán_giả cả nước . Giải đấu cũng là cơ_hội rất tốt để Liên_đoàn quần_vợt Nghệ_An ( NTF ) nâng_cao vị_thế của mình trong làng quần_vợt cả nước . Giải Quần_vợt các cây_vợt xuất_sắc Việt_Nam Cúp Vietravel 2016 khởi tranh vòng đấu bảng vào ngày 5-10 / 12 tại sân CLB Trường_Sơn , TP Vinh . Tổng_giá_trị tiền_thưởng lên tới trên 300 triệu đồng . Dịp này , Ban tổ_chức giải đã trao 10 triệu đồng ủng_hộ Trung_tâm bảo_trợ xã_hội tỉnh Nghệ_An . Nguyễn Duy\n",
            "Giải trí\n"
          ]
        }
      ],
      "source": [
        "### bài tập ###\n",
        "# yêu cầu: Hiển thị nội dung, và nhãn của văn bản đầu tiên trong tập train.\n",
        "# gợi ý: tự làm.\n",
        "###############\n",
        "# code\n",
        "print(data_train.data[0])\n",
        "print(data_train.target_names[0])\n",
        "\n",
        "\n",
        "###############"
      ]
    },
    {
      "cell_type": "markdown",
      "metadata": {
        "id": "XV0pQNzBkebp"
      },
      "source": [
        "##  Tiền xử lý dữ liệu đưa dữ liệu từ dạng text về dạng ma trận\n",
        "\n",
        "- Thử nghiệm để kiểm tra hoạt động chuyển hoá dữ liệu về dạng ma trận"
      ]
    },
    {
      "cell_type": "code",
      "execution_count": 12,
      "metadata": {
        "colab": {
          "base_uri": "https://localhost:8080/"
        },
        "id": "SS12JkxRkebp",
        "outputId": "8598512b-68d1-4fba-82e0-90a94b1a68a0",
        "scrolled": true
      },
      "outputs": [
        {
          "output_type": "stream",
          "name": "stdout",
          "text": [
            "Danh sách 10 từ dừng đầu tiên (từ không mang ý nghĩa phân loại):  ['a_lô', 'a_ha', 'ai', 'ai_ai', 'ai_nấy', 'ai_đó', 'alô', 'amen', 'anh', 'anh_ấy']\n",
            "\n",
            "10 từ đầu tiên trong từ điển:\n",
            "\n",
            "1 :  ('dân_trí', 1910)\n",
            "2 :  ('12', 31)\n",
            "3 :  ('giải', 2248)\n",
            "4 :  ('quần_vợt', 5047)\n",
            "5 :  ('tay_vợt', 5655)\n",
            "6 :  ('xuất_sắc', 7201)\n",
            "7 :  ('việt_nam', 6947)\n",
            "8 :  ('cúp', 1574)\n",
            "9 :  ('vietravel', 6912)\n",
            "10 :  ('2016', 124)\n",
            "11 :  ('chính_thức', 1196)\n",
            "\n"
          ]
        }
      ],
      "source": [
        "# load dữ liệu các stopwords\n",
        "with open(\"data/vietnamese-stopwords.txt\",encoding=\"utf8\") as f:\n",
        "    stopwords = f.readlines()\n",
        "stopwords = [x.strip().replace(\" \", \"_\") for x in stopwords]\n",
        "print(\"Danh sách 10 từ dừng đầu tiên (từ không mang ý nghĩa phân loại): \", stopwords[:10])\n",
        "print()\n",
        "\n",
        "#\n",
        "# Transforming data\n",
        "# Chuyển hoá dữ liệu text về dạng vector tfidf\n",
        "#     - loại bỏ từ dừng\n",
        "#     - sinh từ điển\n",
        "module_count_vector = CountVectorizer(stop_words=stopwords)\n",
        "model_rf_preprocess = Pipeline([('vect', module_count_vector),\n",
        "                    ('tfidf', TfidfTransformer()),\n",
        "                    ])\n",
        "# Hàm thực hiện chuyển đổi dữ liệu text thành dữ liệu số dạng ma trận\n",
        "# Input: Dữ liệu 2 chiều dạng numpy.array, mảng nhãn id dạng numpy.array\n",
        "\n",
        "# Tiền xử lý với Bag of words\n",
        "data_bow = module_count_vector.fit_transform(data_train.data, data_train.target)\n",
        "# Tiền xử lý với TF-IDF\n",
        "data_tfidf = model_rf_preprocess.fit_transform(data_train.data, data_train.target)\n",
        "\n",
        "print(\"10 từ đầu tiên trong từ điển:\\n\")\n",
        "i = 0\n",
        "for k,v in module_count_vector.vocabulary_.items():\n",
        "    i+=1\n",
        "    print(i, \": \", (k, v))\n",
        "    if i > 10:\n",
        "        break\n",
        "print()"
      ]
    },
    {
      "cell_type": "markdown",
      "metadata": {
        "id": "bqwgTiUNkebq"
      },
      "source": [
        "## Chia dữ liệu làm 2 phần training và testing\n",
        "\n",
        "- Training chiếm 80 % dữ liệu\n",
        "- Testing chiếm 20 % dữ liệu"
      ]
    },
    {
      "cell_type": "code",
      "execution_count": 13,
      "metadata": {
        "colab": {
          "base_uri": "https://localhost:8080/"
        },
        "id": "L59agolRkebq",
        "outputId": "a78d777d-45d6-4fd7-aead-e69fbb47fff9"
      },
      "outputs": [
        {
          "output_type": "stream",
          "name": "stdout",
          "text": [
            "Dữ liệu training =  (179, 7972) (179,)\n",
            "Dữ liệu testing =  (45, 7972) (45,)\n",
            "\n",
            "Danh sách nhãn và id tương ứng:  [(0, 'Giải trí'), (1, 'Khoa học - Công nghệ'), (2, 'Kinh tế'), (3, 'Pháp luật'), (4, 'Sức khỏe'), (5, 'Thể thao'), (6, 'Thời sự')]\n"
          ]
        }
      ],
      "source": [
        "from sklearn.model_selection import train_test_split\n",
        "\n",
        "# chia dữ liệu thành 2 phần sử dụng hàm train_test_split.\n",
        "test_size = 0.2\n",
        "# Bow\n",
        "X_train_bow, X_test_bow, y_train_bow, y_test_bow = train_test_split(data_bow, data_train.target, test_size=test_size, random_state=30)\n",
        "# Tf-idf\n",
        "X_train_tfidf, X_test_tfidf, y_train_tfidf, y_test_tfidf = train_test_split(data_tfidf, data_train.target, test_size=test_size, random_state=30)\n",
        "\n",
        "\n",
        "# hiển thị một số thông tin về dữ liệu\n",
        "print(\"Dữ liệu training = \", X_train_bow.shape, y_train_bow.shape)\n",
        "print(\"Dữ liệu testing = \", X_test_bow.shape, y_test_bow.shape)\n",
        "\n",
        "print()\n",
        "print(\"Danh sách nhãn và id tương ứng: \", [(idx, name) for idx, name in enumerate(data_train.target_names)] )"
      ]
    },
    {
      "cell_type": "code",
      "execution_count": 25,
      "metadata": {
        "id": "8XlfkQfPkebr",
        "colab": {
          "base_uri": "https://localhost:8080/"
        },
        "outputId": "d4c4f7ac-3014-4d9c-cf89-dd9e323fdcb4"
      },
      "outputs": [
        {
          "output_type": "stream",
          "name": "stdout",
          "text": [
            "5: 'Thể thao'\n",
            "5: 'Thể thao'\n",
            "4: 'Sức khỏe'\n",
            "6: 'Thời sự'\n",
            "5: 'Thể thao'\n"
          ]
        }
      ],
      "source": [
        "### bài tập ###\n",
        "# yêu cầu: Hiển thị ra id, tên nhãn của 5 văn bản đầu tiên trong tập train.\n",
        "# gợi ý: lấy dữ liệu id từ biến y_train, mapping với thứ tự nằm trong mảng data_train.target_names\n",
        "###############\n",
        "# code\n",
        "for i in range(5):\n",
        "  print(str(y_train_bow[i])+\": '\"+str(data_train.target_names[y_train_bow[i]])+\"'\")\n",
        "\n",
        "\n",
        "###############"
      ]
    },
    {
      "cell_type": "markdown",
      "metadata": {
        "id": "Z3PR74Afkebs"
      },
      "source": [
        "## Training Naive Bayes model\n",
        "\n",
        "Sử dụng thư viện sklearn để xây dựng 2 mô hình\n",
        "- `naive_bayes.MultinomialNB(alpha= 0.1)`: giá trị làm mịn alpha= 0.1\n",
        "- `naive_bayes.GaussianNB()`"
      ]
    },
    {
      "cell_type": "markdown",
      "metadata": {
        "id": "yXT1bxAgrQEc"
      },
      "source": [
        "### Multinomial Naive Bayes\n",
        "- Sử dụng Bag of words"
      ]
    },
    {
      "cell_type": "code",
      "execution_count": 26,
      "metadata": {
        "colab": {
          "base_uri": "https://localhost:8080/"
        },
        "id": "kByo28zMkebt",
        "outputId": "b2e246e4-69f9-46ae-ce00-d3528e8a907b"
      },
      "outputs": [
        {
          "output_type": "stream",
          "name": "stdout",
          "text": [
            "- Training ...\n",
            "- Train size = (179, 7972)\n",
            "- model_MNB - train complete\n"
          ]
        }
      ],
      "source": [
        "print(\"- Training ...\")\n",
        "\n",
        "\n",
        "# X_train.shape\n",
        "print(\"- Train size = {}\".format(X_train_bow.shape))\n",
        "model_MNB = naive_bayes.MultinomialNB(alpha= 0.1)\n",
        "model_MNB.fit(X_train_bow, y_train_bow)\n",
        "\n",
        "print(\"- model_MNB - train complete\")\n"
      ]
    },
    {
      "cell_type": "markdown",
      "metadata": {
        "id": "b3gx2ZUNr0fh"
      },
      "source": [
        "### 2.2. Gaussian Naive Bayes\n",
        "- Sử dụng TF-IDF"
      ]
    },
    {
      "cell_type": "code",
      "execution_count": 33,
      "metadata": {
        "id": "PXs7PcZpr7oV",
        "colab": {
          "base_uri": "https://localhost:8080/"
        },
        "outputId": "234572f0-8744-4a5d-b250-3e06745fdb71"
      },
      "outputs": [
        {
          "output_type": "stream",
          "name": "stdout",
          "text": [
            "- Train size = (179, 7972)\n",
            "model_GNB - traincomplete\n"
          ]
        }
      ],
      "source": [
        "### bài tập ###\n",
        "# yêu cầu: huấn luyện một mô hình Gaussian Naive Bayes tương tự như trên\n",
        "# gợi ý: naive_bayes.GaussianNB(var_smoothing=1e-3)\n",
        "###############\n",
        "# code\n",
        "print(\"- Train size = {}\".format(X_train_tfidf.shape))\n",
        "model_GNB = naive_bayes.GaussianNB(var_smoothing = 1e-3)\n",
        "model_GNB.fit(X_train_tfidf.toarray(), y_train_tfidf)\n",
        "print(\"model_GNB - traincomplete\")\n"
      ]
    },
    {
      "cell_type": "markdown",
      "metadata": {
        "id": "IN11fsCy9JQv"
      },
      "source": [
        "## Testing Naive Bayes model\n",
        "\n",
        "\n",
        "Thực hiện dự đoán nhãn cho từng văn bản trong tập test\n",
        "\n",
        "Độ đo đánh giá:\n",
        "> accuracy = tổng số văn bản dự đoán đúng  / tổng số văn bản có trong tập test  "
      ]
    },
    {
      "cell_type": "code",
      "execution_count": 34,
      "metadata": {
        "id": "J-97FYLe9JQw"
      },
      "outputs": [],
      "source": [
        "# Sử dụng thư viện tính accuracy_score trong sklearn\n",
        "from sklearn.metrics import accuracy_score"
      ]
    },
    {
      "cell_type": "code",
      "execution_count": 35,
      "metadata": {
        "colab": {
          "base_uri": "https://localhost:8080/"
        },
        "id": "vF-jd2mv9JQw",
        "outputId": "fed4d4a5-6c78-4dc5-c40a-0b82ccbb7b96"
      },
      "outputs": [
        {
          "output_type": "stream",
          "name": "stdout",
          "text": [
            "- Testing ...\n",
            "- Acc = 0.9555555555555556\n"
          ]
        }
      ],
      "source": [
        "print(\"- Testing ...\")\n",
        "y_pred_bow = model_MNB.predict(X_test_bow)\n",
        "print(\"- Acc = {}\".format(accuracy_score(y_test_bow, y_pred_bow)))"
      ]
    },
    {
      "cell_type": "code",
      "execution_count": 36,
      "metadata": {
        "id": "GWgRZwL5t5FS",
        "colab": {
          "base_uri": "https://localhost:8080/"
        },
        "outputId": "abb519d2-ef41-4752-88ee-e107c07068c4"
      },
      "outputs": [
        {
          "output_type": "stream",
          "name": "stdout",
          "text": [
            "- Acc = 0.9555555555555556\n"
          ]
        }
      ],
      "source": [
        "#Test tương tự cho GNB?\n",
        "\n",
        "###code\n",
        "y_pred_iftdf = model_GNB.predict(X_test_tfidf.toarray())\n",
        "print(\"- Acc = {}\".format(accuracy_score(y_test_tfidf, y_pred_iftdf)))\n",
        "\n",
        "##########"
      ]
    },
    {
      "cell_type": "markdown",
      "metadata": {
        "id": "wJOCiVq_kebw"
      },
      "source": [
        "## 5. Thực hiện sử dụng model đã được train để infer 1 văn bản mới\n",
        "- Dữ liệu mới đến ở dạng dữ liệu thô => cần tiền xử lý dữ liệu về dạng dữ_liệu_ma_trận\n",
        "- infer sử dụng hàm model.predict(dữ_liệu_ma_trận)"
      ]
    },
    {
      "cell_type": "code",
      "execution_count": 37,
      "metadata": {
        "colab": {
          "base_uri": "https://localhost:8080/"
        },
        "id": "fxxeXRrm9JQx",
        "outputId": "1cd898bd-fa91-4d7a-e2d3-505453125ad4"
      },
      "outputs": [
        {
          "output_type": "stream",
          "name": "stdout",
          "text": [
            "Trường đại_học bách_khoa hà_nội\n"
          ]
        }
      ],
      "source": [
        "a = ViTokenizer.tokenize(\"Trường đại học bách khoa hà nội\")\n",
        "print(a)"
      ]
    },
    {
      "cell_type": "code",
      "execution_count": 38,
      "metadata": {
        "colab": {
          "base_uri": "https://localhost:8080/"
        },
        "id": "F-eLhYlvkeby",
        "outputId": "a3a34e21-a5c8-4473-8bcf-f5700f8d4bc9"
      },
      "outputs": [
        {
          "output_type": "stream",
          "name": "stdout",
          "text": [
            "Công Phượng ghi_bàn cho đội_tuyển Việt_Nam\n",
            "<Compressed Sparse Row sparse matrix of dtype 'int64'\n",
            "\twith 5 stored elements and shape (1, 7972)>\n",
            "  Coords\tValues\n",
            "  (0, 1538)\t1\n",
            "  (0, 2177)\t1\n",
            "  (0, 4837)\t1\n",
            "  (0, 6947)\t1\n",
            "  (0, 7877)\t1\n",
            "\n",
            "Danh sách nhãn và id tương ứng:  [(0, 'Giải trí'), (1, 'Khoa học - Công nghệ'), (2, 'Kinh tế'), (3, 'Pháp luật'), (4, 'Sức khỏe'), (5, 'Thể thao'), (6, 'Thời sự')]\n"
          ]
        }
      ],
      "source": [
        "# tiền xử lý dữ liệu sử dụng module module_count_vector.\n",
        "van_ban_moi = ViTokenizer.tokenize(\"Công Phượng ghi bàn cho đội tuyển Việt Nam\")\n",
        "#van_ban_moi = [\"Công_phượng ghi_bàn cho đội_tuyển Việt_nam\"]\n",
        "print(van_ban_moi)\n",
        "input_data_preprocessed = module_count_vector.transform([van_ban_moi])\n",
        "print(input_data_preprocessed)\n",
        "\n",
        "print()\n",
        "print(\"Danh sách nhãn và id tương ứng: \", [(idx, name) for idx, name in enumerate(data_train.target_names)] )\n",
        "\n"
      ]
    },
    {
      "cell_type": "code",
      "execution_count": 41,
      "metadata": {
        "id": "nVL21His9JQz",
        "colab": {
          "base_uri": "https://localhost:8080/"
        },
        "outputId": "29e19945-0c5e-4bb2-b820-86180c04ffd3"
      },
      "outputs": [
        {
          "output_type": "stream",
          "name": "stdout",
          "text": [
            "[5] Thể thao\n"
          ]
        }
      ],
      "source": [
        "### bài tập ###\n",
        "# yêu cầu: dự đoán nhãn của 1 văn bản mới. Sử dụng mô hình Multinomial NB\n",
        "# gợi ý: thực hiện code suy diễn mô hình từ tiền xử lý (bước 1) => infer (bước 4). (Chú ý: không training lại - ko gọi lại hàm fit.)\n",
        "###############\n",
        "# code\n",
        "y_pred = model_MNB.predict(input_data_preprocessed)\n",
        "print(y_pred, data_train.target_names[y_pred[0]])\n",
        "\n",
        "###############"
      ]
    },
    {
      "cell_type": "markdown",
      "metadata": {
        "id": "6JUggDUZ9yDE"
      },
      "source": [
        "## Quan sát độ chính xác trên tập test của GNB khi thay đổi tham số var_smoothing"
      ]
    },
    {
      "cell_type": "code",
      "execution_count": 47,
      "metadata": {
        "id": "vmVcevE6-WtV",
        "colab": {
          "base_uri": "https://localhost:8080/",
          "height": 517
        },
        "outputId": "de5f6261-8a76-4b15-95a4-9ee867270ef4"
      },
      "outputs": [
        {
          "output_type": "stream",
          "name": "stdout",
          "text": [
            "0.1 0.9555555555555556\n",
            "0.01 0.9555555555555556\n",
            "0.001 0.9555555555555556\n",
            "0.0001 0.9555555555555556\n",
            "1e-05 0.9555555555555556\n"
          ]
        },
        {
          "output_type": "display_data",
          "data": {
            "text/plain": [
              "<Figure size 640x480 with 1 Axes>"
            ],
            "image/png": "[encoded data removed]"
          },
          "metadata": {}
        }
      ],
      "source": [
        "var_smoothings = [1e-1, 1e-2, 1e-3, 1e-4, 1e-5]\n",
        "accs = []\n",
        "\n",
        "for var_smoothing in var_smoothings:\n",
        "  model_GNB = naive_bayes.GaussianNB(var_smoothing=1e-3)\n",
        "  model_GNB.fit(X_train_tfidf.toarray(), y_train_tfidf)\n",
        "\n",
        "  #Hoàn thiện thêm phần code ở đây để ghi nhận acc tương ứng trong từng trường hợp\n",
        "  y_pred_tfidf = model_GNB.predict(X_test_tfidf.toarray())\n",
        "  acc = accuracy_score(y_test_tfidf, y_pred_tfidf)\n",
        "  accs.append(acc)\n",
        "\n",
        "#Minh họa tương quan bằng đồ thị::\n",
        "#Gợi ý: barplot, lineplot, ...\n",
        "#code here\n",
        "import seaborn as sns\n",
        "sns.lineplot(x=var_smoothings, y=accs)\n",
        "\n",
        "############\n",
        "\n",
        "for i in range(len(accs)):\n",
        "  print(var_smoothings[i], accs[i])"
      ]
    }
  ],
  "metadata": {
    "colab": {
      "collapsed_sections": [
        "Z3PR74Afkebs"
      ],
      "provenance": [],
      "include_colab_link": true
    },
    "kernelspec": {
      "display_name": "Python 3",
      "language": "python",
      "name": "python3"
    },
    "language_info": {
      "codemirror_mode": {
        "name": "ipython",
        "version": 3
      },
      "file_extension": ".py",
      "mimetype": "text/x-python",
      "name": "python",
      "nbconvert_exporter": "python",
      "pygments_lexer": "ipython3",
      "version": "3.8.10"
    }
  },
  "nbformat": 4,
  "nbformat_minor": 0
}