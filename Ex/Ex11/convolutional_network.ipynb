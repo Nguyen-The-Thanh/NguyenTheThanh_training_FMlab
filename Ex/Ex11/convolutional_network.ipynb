{
  "nbformat": 4,
  "nbformat_minor": 0,
  "metadata": {
    "colab": {
      "provenance": [],
      "include_colab_link": true
    },
    "kernelspec": {
      "name": "python3",
      "display_name": "Python 3"
    },
    "language_info": {
      "name": "python"
    },
    "accelerator": "GPU"
  },
  "cells": [
    {
      "cell_type": "markdown",
      "metadata": {
        "id": "view-in-github",
        "colab_type": "text"
      },
      "source": [
        "<a href=\"https://colab.research.google.com/github/Nguyen-The-Thanh/NguyenTheThanh_training_FMlab/blob/main/Ex/Ex11/convolutional_network.ipynb\" target=\"_parent\"><img src=\"https://colab.research.google.com/assets/colab-badge.svg\" alt=\"Open In Colab\"/></a>"
      ]
    },
    {
      "cell_type": "markdown",
      "metadata": {
        "id": "xrR5fQm7p_Zs"
      },
      "source": [
        "#  Bài tâp về mạng tích chập\n",
        "\n",
        "Trong bài này, chúng ta sẽ xây dựng một mạng tích chập sử dụng torch và thử train&test với tập MNIST nhé.\n"
      ]
    },
    {
      "cell_type": "markdown",
      "metadata": {
        "id": "ff69GG6MqBL4"
      },
      "source": [
        "## Tổng quan một mạng CNN cơ bản\n",
        "\n",
        "![CNN](http://personal.ie.cuhk.edu.hk/~ccloy/project_target_code/images/fig3.png)\n",
        "\n",
        "## MNIST dataset\n",
        "\n",
        "Trong bài tập này, chúng ta sẽ sử dựng tập MNIST rất nổi tiếng vể  các chữ số viết tay từ 0->9. Tập dataset này bao gồm 60000 ảnh cho training và 10000 ảnh cho testing. Các bức ảnh này đều đã được căn giữa và chỉnh với kích thước cố định là 28x28.\n",
        "\n",
        "Trong phần tiền xử lý, chúng ta sẽ cần chuẩn hóa các giá trị pixel của mỗi ảnh về khoảng [0,1], kiểu dữ liệu sẽ là float32\n",
        "\n",
        "<!-- ![MNIST Dataset](http://neuralnetworksanddeeplearning.com/images/mnist_100_digits.png) -->\n",
        "\n",
        "Chi tiết tại: http://yann.lecun.com/exdb/mnist/"
      ]
    },
    {
      "cell_type": "markdown",
      "metadata": {
        "id": "azKN_M4XqLOg"
      },
      "source": [
        "# Some configs\n",
        "\n",
        "- Chúng ta sẽ setup một số hyper-parameters cũng như một số giá trị cần dùng theo hướng dẫn nhé\n",
        "- Ở đây, mình muốn các bạn sử dụng Cuda, hãy vào runtime, rồi change the runtime type sang GPU nhé"
      ]
    },
    {
      "cell_type": "code",
      "metadata": {
        "id": "GZ19LKc1sWwt"
      },
      "source": [
        "# Trước hết, chúng ta import một số thư viện cần thiết đã\n",
        "import torch\n",
        "import torch.nn as nn\n",
        "import torch.nn.functional as F\n",
        "import torch.optim as optim\n",
        "from torchvision import datasets, transforms\n",
        "import numpy as np\n",
        "import matplotlib.pyplot as plt\n",
        "import random"
      ],
      "execution_count": 27,
      "outputs": []
    },
    {
      "cell_type": "code",
      "metadata": {
        "id": "5JhKH6cNqF2X"
      },
      "source": [
        "# Số classes trong tập MNIST\n",
        "num_classes = 10\n",
        "\n",
        "# Số epoch\n",
        "epochs = 2\n",
        "\n",
        "# Các tham số cần thiết cho quá trình traning.\n",
        "learning_rate = 0.001\n",
        "batch_size = 128\n",
        "display_step = 50\n",
        "\n",
        "# Path lưu best model\n",
        "checkpoint = 'model.pth' # có thể để dạng *.pth\n",
        "\n",
        "# device chúng ta dùng cuda\n",
        "device = 'cuda' if torch.cuda.is_available() else 'cpu'\n",
        "assert device == 'cuda'"
      ],
      "execution_count": 28,
      "outputs": []
    },
    {
      "cell_type": "markdown",
      "metadata": {
        "id": "ebUhHkCoqNUP"
      },
      "source": [
        "# Dataloader\n"
      ]
    },
    {
      "cell_type": "code",
      "metadata": {
        "id": "ifrA3N7qqIGR"
      },
      "source": [
        "# Transform image\n",
        "transform=transforms.Compose([\n",
        "    transforms.ToTensor(),\n",
        "    transforms.Normalize((0.5,), (0.5,))\n",
        "    ])\n",
        "\n",
        "# load dataset từ torchvision.datasets\n",
        "train_dataset = datasets.MNIST('../data', train=True, download=True,transform=transform)\n",
        "test_dataset = datasets.MNIST('../data', train=False,transform=transform)\n",
        "train_loader = torch.utils.data.DataLoader(train_dataset,batch_size=128)\n",
        "test_loader = torch.utils.data.DataLoader(test_dataset,batch_size=128)"
      ],
      "execution_count": 29,
      "outputs": []
    },
    {
      "cell_type": "markdown",
      "metadata": {
        "id": "J6EMkw45qTuh"
      },
      "source": [
        "# Model\n",
        "\n",
        "- Trong bài này, chúng ta sẽ định nghĩa một class Net, nó sẽ có cấu trúc như hình ở đầu notebook\n",
        "- Bạn hãy chỉnh các tham số cho phù hợp nhé :)"
      ]
    },
    {
      "cell_type": "code",
      "metadata": {
        "id": "Geui1VFQwVXk"
      },
      "source": [
        "class Net(nn.Module):\n",
        "  def __init__(self):\n",
        "\n",
        "    super(Net,self).__init__()\n",
        "    self.dropout = nn.Dropout()\n",
        "    self.relu = nn.ReLU()\n",
        "    self.conv1 = nn.Conv2d(1,32,3,1)\n",
        "    self.maxpool1 = nn.MaxPool2d(2)\n",
        "    self.conv2 = nn.Conv2d(32,64,3,1)\n",
        "    self.maxpool2 = nn.MaxPool2d(2)\n",
        "    self.conv3 = nn.Conv2d(64,64,3,1)\n",
        "    self.maxpool3 = nn.MaxPool2d(2)\n",
        "    self.fc1 = nn.Linear(64, 64)\n",
        "    self.fc2 = nn.Linear(64, 32)\n",
        "    self.fc3 = nn.Linear(32, num_classes)\n",
        "\n",
        "  def forward(self,x):\n",
        "    x = self.conv1(x)\n",
        "    x = self.relu(x)\n",
        "    x = self.maxpool1(x)\n",
        "    x = self.conv2(x)\n",
        "    x = self.relu(x)\n",
        "    x = self.maxpool2(x)\n",
        "    x = self.conv3(x)\n",
        "    x = self.relu(x)\n",
        "    x = self.maxpool3(x)\n",
        "    x = self.dropout(x)\n",
        "    x = nn.Flatten()(x)\n",
        "    x = self.fc1(x)\n",
        "    x = self.relu(x)\n",
        "    x = self.dropout(x)\n",
        "    x = self.fc2(x)\n",
        "    x = self.relu(x)\n",
        "    x = self.dropout(x)\n",
        "    x = self.fc3(x)# bạn hãy xem xet quá trình forward nhé\n",
        "    return x"
      ],
      "execution_count": 30,
      "outputs": []
    },
    {
      "cell_type": "code",
      "metadata": {
        "id": "6nFITKwwqtx8"
      },
      "source": [
        "# call model\n",
        "model = Net().to(device)\n",
        "\n",
        "# load lại pretrained model (nếu có)\n",
        "try:\n",
        "  model.load_state_dict(torch.load(checkpoint))\n",
        "except:\n",
        "  print(\"!!! Hãy train để có checkpoint file\")"
      ],
      "execution_count": 31,
      "outputs": []
    },
    {
      "cell_type": "code",
      "metadata": {
        "id": "7ycsK9EWz1vc",
        "colab": {
          "base_uri": "https://localhost:8080/"
        },
        "outputId": "6b689bcd-1dc8-42e0-9e53-13e13d4ff580"
      },
      "source": [
        "criterion = nn.CrossEntropyLoss()\n",
        "optimizer = optim.Adam(model.parameters(), lr=learning_rate)\n",
        "best_val_loss = 999\n",
        "\n",
        "for epoch in range(1,epochs):\n",
        "    # Quá trình training\n",
        "    model.train()\n",
        "    for batch_idx, (data, target) in enumerate(train_loader):\n",
        "        data, target = data.to(device), target.to(device) # Add this line to move data to GPU\n",
        "        optimizer.zero_grad()\n",
        "        output = model(data)\n",
        "        loss = criterion(output,target)\n",
        "        loss.backward()\n",
        "        optimizer.step()\n",
        "        if batch_idx % display_step == 0:\n",
        "            print('Train Epoch: {} [{}/{} ({:.0f}%)]\\tTrain Loss: {:.6f}'.format(\n",
        "                epoch, batch_idx * len(data), len(train_loader.dataset),\n",
        "                100. * batch_idx / len(train_loader), loss.item()))\n",
        "    # Quá trình testing\n",
        "    model.eval()\n",
        "    test_loss = 0\n",
        "    correct = 0\n",
        "    # set no grad cho quá trình testing\n",
        "    with torch.no_grad():\n",
        "        for data, target in test_loader:\n",
        "            data, target = data.to(device), target.to(device) # Add this line to move data to GPU\n",
        "            output = model(data)\n",
        "            output = F.log_softmax(output,dim=1) # log softmax using F, chu y dim\n",
        "            test_loss += criterion(output,target)\n",
        "            pred = output.argmax(dim = 1,keepdim = True) # argmax để lấy predicted label, chú ý keepdim = True\n",
        "            correct += pred.eq(target.view_as(pred)).sum().item()\n",
        "    test_loss /= len(test_loader.dataset)\n",
        "    if test_loss < best_val_loss:\n",
        "      best_val_loss = test_loss\n",
        "      torch.save(model.state_dict(), checkpoint)  # Lưu lại model\n",
        "      print(\"***********    TEST_ACC = {}%    ***********\".format(correct))"
      ],
      "execution_count": 32,
      "outputs": [
        {
          "output_type": "stream",
          "name": "stdout",
          "text": [
            "Train Epoch: 1 [0/60000 (0%)]\tTrain Loss: 0.621141\n",
            "Train Epoch: 1 [6400/60000 (11%)]\tTrain Loss: 0.740689\n",
            "Train Epoch: 1 [12800/60000 (21%)]\tTrain Loss: 0.680677\n",
            "Train Epoch: 1 [19200/60000 (32%)]\tTrain Loss: 0.480418\n",
            "Train Epoch: 1 [25600/60000 (43%)]\tTrain Loss: 0.703485\n",
            "Train Epoch: 1 [32000/60000 (53%)]\tTrain Loss: 0.598640\n",
            "Train Epoch: 1 [38400/60000 (64%)]\tTrain Loss: 0.671084\n",
            "Train Epoch: 1 [44800/60000 (75%)]\tTrain Loss: 0.559981\n",
            "Train Epoch: 1 [51200/60000 (85%)]\tTrain Loss: 0.616655\n",
            "Train Epoch: 1 [57600/60000 (96%)]\tTrain Loss: 0.657068\n",
            "***********    TEST_ACC = 9636%    ***********\n"
          ]
        }
      ]
    },
    {
      "cell_type": "code",
      "metadata": {
        "id": "KC0dpWjs1Ivj",
        "colab": {
          "base_uri": "https://localhost:8080/"
        },
        "outputId": "4b465e24-0220-4e02-c00c-d91756250ec8"
      },
      "source": [
        "# load lại model đã train\n",
        "model.load_state_dict(torch.load(checkpoint))\n",
        "# set eval phase\n",
        "model.eval()"
      ],
      "execution_count": 33,
      "outputs": [
        {
          "output_type": "execute_result",
          "data": {
            "text/plain": [
              "Net(\n",
              "  (dropout): Dropout(p=0.5, inplace=False)\n",
              "  (relu): ReLU()\n",
              "  (conv1): Conv2d(1, 32, kernel_size=(3, 3), stride=(1, 1))\n",
              "  (maxpool1): MaxPool2d(kernel_size=2, stride=2, padding=0, dilation=1, ceil_mode=False)\n",
              "  (conv2): Conv2d(32, 64, kernel_size=(3, 3), stride=(1, 1))\n",
              "  (maxpool2): MaxPool2d(kernel_size=2, stride=2, padding=0, dilation=1, ceil_mode=False)\n",
              "  (conv3): Conv2d(64, 64, kernel_size=(3, 3), stride=(1, 1))\n",
              "  (maxpool3): MaxPool2d(kernel_size=2, stride=2, padding=0, dilation=1, ceil_mode=False)\n",
              "  (fc1): Linear(in_features=64, out_features=64, bias=True)\n",
              "  (fc2): Linear(in_features=64, out_features=32, bias=True)\n",
              "  (fc3): Linear(in_features=32, out_features=10, bias=True)\n",
              ")"
            ]
          },
          "metadata": {},
          "execution_count": 33
        }
      ]
    },
    {
      "cell_type": "code",
      "metadata": {
        "id": "y-GONBPt1xPd"
      },
      "source": [
        "item = iter(test_loader)"
      ],
      "execution_count": 34,
      "outputs": []
    },
    {
      "cell_type": "code",
      "metadata": {
        "id": "CC260iYZ1xwt"
      },
      "source": [
        "data,target = item.__next__() # lấy một batch ra"
      ],
      "execution_count": 35,
      "outputs": []
    },
    {
      "cell_type": "code",
      "metadata": {
        "id": "WyMQrWz21zpl"
      },
      "source": [
        "test_idx = random.choice(range(len(data))) # lấy index của một phần tử của một batch"
      ],
      "execution_count": 36,
      "outputs": []
    },
    {
      "cell_type": "code",
      "metadata": {
        "id": "NUm6QR-B10Uh"
      },
      "source": [
        "data = data[test_idx]\n",
        "target = target[test_idx]\n",
        "assert data.shape == (1,28,28)"
      ],
      "execution_count": 37,
      "outputs": []
    },
    {
      "cell_type": "code",
      "metadata": {
        "id": "kejuKZIY11hM"
      },
      "source": [
        "# thử predict\n",
        "\n",
        "def plot(data,model):\n",
        "  data = torch.unsqueeze(data,dim=0) # unsqueeze data\n",
        "  data = data.to(model.conv1.weight.device) # Move data to the same device as the model\n",
        "  output = model(data)\n",
        "  output = F.log_softmax(output,dim=1) # log softmax, chú ý dim\n",
        "  pred = output.argmax(dim=1,keepdim=True) # argmax, chú ý keepdim\n",
        "  print(\"Predict Number : \", pred[0][0].cpu().numpy()) # Move to CPU before converting to NumPy\n",
        "  plt.imshow(data[0][0].cpu(),cmap='gray') # Move data back to CPU for plotting\n",
        "  plt.show()"
      ],
      "execution_count": 40,
      "outputs": []
    },
    {
      "cell_type": "code",
      "metadata": {
        "colab": {
          "base_uri": "https://localhost:8080/",
          "height": 447
        },
        "id": "EAvIv7Mj2L3K",
        "outputId": "c4d8a1cb-31c5-4f69-b97c-93f4fe9d524c"
      },
      "source": [
        "plot(data,model)"
      ],
      "execution_count": 41,
      "outputs": [
        {
          "output_type": "stream",
          "name": "stdout",
          "text": [
            "Predict Number :  6\n"
          ]
        },
        {
          "output_type": "display_data",
          "data": {
            "text/plain": [
              "<Figure size 640x480 with 1 Axes>"
            ],
            "image/png": "[encoded data removed]"
          },
          "metadata": {}
        }
      ]
    }
  ]
}