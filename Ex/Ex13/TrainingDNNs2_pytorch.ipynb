{
  "nbformat": 4,
  "nbformat_minor": 0,
  "metadata": {
    "accelerator": "GPU",
    "colab": {
      "provenance": [],
      "include_colab_link": true
    },
    "kernelspec": {
      "display_name": "Python 3",
      "name": "python3"
    }
  },
  "cells": [
    {
      "cell_type": "markdown",
      "metadata": {
        "id": "view-in-github",
        "colab_type": "text"
      },
      "source": [
        "<a href=\"https://colab.research.google.com/github/Nguyen-The-Thanh/NguyenTheThanh_training_FMlab/blob/main/Ex/Ex13/TrainingDNNs2_pytorch.ipynb\" target=\"_parent\"><img src=\"https://colab.research.google.com/assets/colab-badge.svg\" alt=\"Open In Colab\"/></a>"
      ]
    },
    {
      "cell_type": "markdown",
      "source": [
        "# Training Deep Neural Networks (Tiếp)\n",
        "Trong buổi này, chúng ta tiếp tục làm quen với một số kỹ thuật huấn luyện mạng nơ-ron"
      ],
      "metadata": {
        "id": "9dW-dnoOkkAp"
      }
    },
    {
      "cell_type": "code",
      "execution_count": 1,
      "source": [
        "!nvidia-smi\n",
        "\n",
        "import torch\n",
        "import torch.nn as nn\n",
        "import torch.optim as optim\n",
        "import numpy as np\n",
        "import glob\n",
        "import cv2\n",
        "import torch.nn.functional as F\n",
        "from torch.autograd import Variable\n",
        "\n",
        "import torchvision\n",
        "import torchvision.transforms as transforms\n",
        "\n",
        "from torch.nn import CrossEntropyLoss, Dropout, Softmax, Linear, Conv2d, LayerNorm\n",
        "import matplotlib.pyplot as plt\n",
        "from torchsummary import summary"
      ],
      "outputs": [
        {
          "output_type": "stream",
          "name": "stdout",
          "text": [
            "Sat Nov  1 23:38:29 2025       \n",
            "+-----------------------------------------------------------------------------------------+\n",
            "| NVIDIA-SMI 550.54.15              Driver Version: 550.54.15      CUDA Version: 12.4     |\n",
            "|-----------------------------------------+------------------------+----------------------+\n",
            "| GPU  Name                 Persistence-M | Bus-Id          Disp.A | Volatile Uncorr. ECC |\n",
            "| Fan  Temp   Perf          Pwr:Usage/Cap |           Memory-Usage | GPU-Util  Compute M. |\n",
            "|                                         |                        |               MIG M. |\n",
            "|=========================================+========================+======================|\n",
            "|   0  Tesla T4                       Off |   00000000:00:04.0 Off |                    0 |\n",
            "| N/A   43C    P8              9W /   70W |       0MiB /  15360MiB |      0%      Default |\n",
            "|                                         |                        |                  N/A |\n",
            "+-----------------------------------------+------------------------+----------------------+\n",
            "                                                                                         \n",
            "+-----------------------------------------------------------------------------------------+\n",
            "| Processes:                                                                              |\n",
            "|  GPU   GI   CI        PID   Type   Process name                              GPU Memory |\n",
            "|        ID   ID                                                               Usage      |\n",
            "|=========================================================================================|\n",
            "|  No running processes found                                                             |\n",
            "+-----------------------------------------------------------------------------------------+\n"
          ]
        }
      ],
      "metadata": {
        "colab": {
          "base_uri": "https://localhost:8080/"
        },
        "id": "dALhhAr_5agu",
        "outputId": "cfb1316c-b4f8-441c-a494-a05517aead39"
      }
    },
    {
      "cell_type": "markdown",
      "source": [
        "### 1. Cài đặt BatchNorm"
      ],
      "metadata": {
        "id": "Doqa-Juc4rls"
      }
    },
    {
      "cell_type": "code",
      "execution_count": 3,
      "source": [
        "def compare_bn(bn1, bn2):\n",
        "    err = False\n",
        "    if not torch.allclose(bn1.running_mean, bn2.running_mean):\n",
        "        print('Diff in running_mean: {} vs {}'.format(\n",
        "            bn1.running_mean, bn2.running_mean))\n",
        "        err = True\n",
        "\n",
        "    if not torch.allclose(bn1.running_var, bn2.running_var):\n",
        "        print('Diff in running_var: {} vs {}'.format(\n",
        "            bn1.running_var, bn2.running_var))\n",
        "        err = True\n",
        "\n",
        "    if bn1.affine and bn2.affine:\n",
        "        if not torch.allclose(bn1.weight, bn2.weight):\n",
        "            print('Diff in weight: {} vs {}'.format(\n",
        "                bn1.weight, bn2.weight))\n",
        "            err = True\n",
        "\n",
        "        if not torch.allclose(bn1.bias, bn2.bias):\n",
        "            print('Diff in bias: {} vs {}'.format(\n",
        "                bn1.bias, bn2.bias))\n",
        "            err = True\n",
        "\n",
        "    if not err:\n",
        "        print('All parameters are equal!')\n",
        "\n",
        "\n",
        "class MyBatchNorm2d(nn.BatchNorm2d):\n",
        "    def __init__(self, num_features, eps=1e-5, momentum=0.1,\n",
        "                 affine=True, track_running_stats=True):\n",
        "        super(MyBatchNorm2d, self).__init__(\n",
        "            num_features, eps, momentum, affine, track_running_stats)\n",
        "\n",
        "    def forward(self, input):\n",
        "        self._check_input_dim(input)\n",
        "\n",
        "        exponential_average_factor = 0.0\n",
        "\n",
        "        if self.training and self.track_running_stats:\n",
        "            if self.num_batches_tracked is not None:\n",
        "                self.num_batches_tracked += 1\n",
        "                if self.momentum is None:  # use cumulative moving average\n",
        "                    exponential_average_factor = 1.0 / float(self.num_batches_tracked)\n",
        "                else:  # use exponential moving average\n",
        "                    exponential_average_factor = self.momentum\n",
        "\n",
        "        # calculate running estimates\n",
        "        if self.training:\n",
        "            mean = input.mean([0, 2, 3])\n",
        "            # use biased var in train\n",
        "            var = input.var([0, 2, 3], unbiased=False)\n",
        "            n = input.numel() / input.size(1)\n",
        "            with torch.no_grad():\n",
        "                self.running_mean = exponential_average_factor * mean\\\n",
        "                    + (1 - exponential_average_factor) * self.running_mean\n",
        "                # update running_var with unbiased var\n",
        "                self.running_var = exponential_average_factor * var * n / (n - 1)\\\n",
        "                    + (1 - exponential_average_factor) * self.running_var\n",
        "        else:\n",
        "            mean = self.running_mean\n",
        "            var = self.running_var\n",
        "\n",
        "        # Chuẩn hoá input\n",
        "        input = (input - mean[None, :, None, None]) / (torch.sqrt(var[None, :, None, None] + self.eps))\n",
        "        if self.affine:\n",
        "            # Biến đổi input sau khi chuẩn hoá\n",
        "            input = input * self.weight[None, :, None, None] + self.bias[None, :, None, None]\n",
        "\n",
        "        return input\n",
        "\n",
        "\n",
        "# Init BatchNorm layers\n",
        "my_bn = MyBatchNorm2d(3, affine=True)\n",
        "bn = nn.BatchNorm2d(3, affine=True)\n",
        "\n",
        "compare_bn(my_bn, bn)  # weight and bias should be different\n",
        "# Load weight and bias\n",
        "my_bn.load_state_dict(bn.state_dict())\n",
        "compare_bn(my_bn, bn)\n",
        "\n",
        "# Run train\n",
        "for _ in range(10):\n",
        "    scale = torch.randint(1, 10, (1,)).float()\n",
        "    bias = torch.randint(-10, 10, (1,)).float()\n",
        "    x = torch.randn(10, 3, 100, 100) * scale + bias\n",
        "    out1 = my_bn(x)\n",
        "    out2 = bn(x)\n",
        "    compare_bn(my_bn, bn)\n",
        "\n",
        "    torch.allclose(out1, out2)\n",
        "    print('Max diff: ', (out1 - out2).abs().max())\n",
        "\n",
        "# Run eval\n",
        "my_bn.eval()\n",
        "bn.eval()\n",
        "for _ in range(10):\n",
        "    scale = torch.randint(1, 10, (1,)).float()\n",
        "    bias = torch.randint(-10, 10, (1,)).float()\n",
        "    x = torch.randn(10, 3, 100, 100) * scale + bias\n",
        "    out1 = my_bn(x)\n",
        "    out2 = bn(x)\n",
        "    compare_bn(my_bn, bn)\n",
        "\n",
        "    torch.allclose(out1, out2)"
      ],
      "outputs": [
        {
          "output_type": "stream",
          "name": "stdout",
          "text": [
            "All parameters are equal!\n",
            "All parameters are equal!\n",
            "All parameters are equal!\n",
            "Max diff:  tensor(4.7684e-07, grad_fn=<MaxBackward1>)\n",
            "All parameters are equal!\n",
            "Max diff:  tensor(4.7684e-07, grad_fn=<MaxBackward1>)\n",
            "All parameters are equal!\n",
            "Max diff:  tensor(4.7684e-07, grad_fn=<MaxBackward1>)\n",
            "All parameters are equal!\n",
            "Max diff:  tensor(4.7684e-07, grad_fn=<MaxBackward1>)\n",
            "All parameters are equal!\n",
            "Max diff:  tensor(4.7684e-07, grad_fn=<MaxBackward1>)\n",
            "All parameters are equal!\n",
            "Max diff:  tensor(4.7684e-07, grad_fn=<MaxBackward1>)\n",
            "All parameters are equal!\n",
            "Max diff:  tensor(4.7684e-07, grad_fn=<MaxBackward1>)\n",
            "All parameters are equal!\n",
            "Max diff:  tensor(4.7684e-07, grad_fn=<MaxBackward1>)\n",
            "All parameters are equal!\n",
            "Max diff:  tensor(4.7684e-07, grad_fn=<MaxBackward1>)\n",
            "All parameters are equal!\n",
            "Max diff:  tensor(4.7684e-07, grad_fn=<MaxBackward1>)\n",
            "All parameters are equal!\n",
            "All parameters are equal!\n",
            "All parameters are equal!\n",
            "All parameters are equal!\n",
            "All parameters are equal!\n",
            "All parameters are equal!\n",
            "All parameters are equal!\n",
            "All parameters are equal!\n",
            "All parameters are equal!\n",
            "All parameters are equal!\n"
          ]
        }
      ],
      "metadata": {
        "id": "1PdGnjmyOM47",
        "colab": {
          "base_uri": "https://localhost:8080/"
        },
        "outputId": "a8ed4ccf-b6d8-4787-c6ba-929bc6be11d1"
      }
    },
    {
      "cell_type": "markdown",
      "source": [
        "### 2. Cài đặt chiến lược thay đổi tốc độ học: Warm-up + Cosine Annealing LR"
      ],
      "metadata": {
        "id": "njZw8LOwCrsg"
      }
    },
    {
      "cell_type": "code",
      "execution_count": 24,
      "source": [
        "def load_data(data_dir=\"./data\"):\n",
        "    transform = transforms.Compose([\n",
        "        transforms.ToTensor(),\n",
        "        transforms.Normalize((0.5, 0.5, 0.5), (0.5, 0.5, 0.5)),\n",
        "    ])\n",
        "\n",
        "    trainset = torchvision.datasets.CIFAR10(\n",
        "        root=data_dir, train=True, download=True, transform=transform)\n",
        "\n",
        "    testset = torchvision.datasets.CIFAR10(\n",
        "        root=data_dir, train=False, download=True, transform=transform)\n",
        "\n",
        "    return trainset, testset\n",
        "\n",
        "class Net(nn.Module):\n",
        "    def __init__(self, l1=120, l2=84):\n",
        "        super(Net, self).__init__()\n",
        "        self.conv1 = nn.Conv2d(3, 6, 5)\n",
        "        self.pool = nn.MaxPool2d(2, 2)\n",
        "        self.conv2 = nn.Conv2d(6, 16, 5)\n",
        "        self.fc1 = nn.Linear(16 * 5 * 5, l1)\n",
        "        self.fc2 = nn.Linear(l1, l2)\n",
        "        self.fc3 = nn.Linear(l2, 10)\n",
        "        self.softmax = nn.Softmax(dim=1)\n",
        "\n",
        "    def forward(self, x):\n",
        "        x = self.pool(F.relu(self.conv1(x)))\n",
        "        x = self.pool(F.relu(self.conv2(x)))\n",
        "        x = x.view(-1, 16 * 5 * 5)\n",
        "        x = F.relu(self.fc1(x))\n",
        "        x = F.relu(self.fc2(x))\n",
        "        x = self.fc3(x)\n",
        "        x = self.softmax(x)\n",
        "\n",
        "        return x"
      ],
      "outputs": [],
      "metadata": {
        "id": "ptNpnOaYCuK6"
      }
    },
    {
      "cell_type": "code",
      "execution_count": 25,
      "source": [
        "trainset, testset = load_data('./data')\n",
        "trainloader = torch.utils.data.DataLoader(\n",
        "    trainset,\n",
        "    batch_size=128,\n",
        "    shuffle=True,\n",
        ")\n",
        "\n",
        "epochs = 30\n",
        "warm_epoch = 5\n",
        "init_lr = 1e-1\n",
        "last_lr = 1e-5\n",
        "T_max = epochs\n",
        "T_cur = 0\n",
        "lr_list = [0]\n",
        "\n",
        "net = Net()\n",
        "device = \"cpu\"\n",
        "if torch.cuda.is_available():\n",
        "    device = \"cuda:0\"\n",
        "    if torch.cuda.device_count() > 1:\n",
        "        net = nn.DataParallel(net)\n",
        "net.to(device)\n",
        "\n",
        "criterion = nn.CrossEntropyLoss()\n",
        "optimizer = optim.SGD(net.parameters(), lr=init_lr, momentum=0.9)"
      ],
      "outputs": [],
      "metadata": {
        "id": "mS4soUx9iwvh"
      }
    },
    {
      "cell_type": "code",
      "execution_count": 26,
      "source": [
        "for epoch in range(1, epochs+1):  # loop over the dataset multiple times\n",
        "    running_loss = 0.0\n",
        "    epoch_steps = 0\n",
        "    T_cur += 1\n",
        "\n",
        "    # warm-up and cosine annealing lr\n",
        "    if epoch <= warm_epoch:\n",
        "      optimizer.param_groups[0]['lr'] = (1.0 * epoch) / warm_epoch * init_lr\n",
        "    else:\n",
        "    # cosine annealing lr\n",
        "      optimizer.param_groups[0]['lr'] = last_lr + (init_lr - last_lr) * (1 + np.cos(T_cur * np.pi / T_max)) / 2\n",
        "\n",
        "\n",
        "    for i, data in enumerate(trainloader, 0):\n",
        "        # get the inputs; data is a list of [inputs, labels]\n",
        "        inputs, labels = data\n",
        "        inputs, labels = inputs.to(device), labels.to(device)\n",
        "\n",
        "        # zero the parameter gradients\n",
        "        optimizer.zero_grad()\n",
        "\n",
        "        # forward + backward + optimize\n",
        "        outputs = net(inputs)\n",
        "        loss = criterion(outputs, labels)\n",
        "        loss.backward()\n",
        "        optimizer.step()\n",
        "\n",
        "        # print statistics\n",
        "        running_loss += loss.item()\n",
        "        epoch_steps += 1\n",
        "        if i + 1 == len(trainloader):\n",
        "            print(\"[Epoch %d] loss: %.3f\" % (epoch, running_loss / epoch_steps))\n",
        "            running_loss = 0.0\n",
        "\n",
        "    lr_list.append(optimizer.param_groups[0]['lr'])\n",
        "\n",
        "print(\"Finished Training\")"
      ],
      "outputs": [
        {
          "output_type": "stream",
          "name": "stdout",
          "text": [
            "[Epoch 1] loss: 2.302\n",
            "[Epoch 2] loss: 2.227\n",
            "[Epoch 3] loss: 2.121\n",
            "[Epoch 4] loss: 2.105\n",
            "[Epoch 5] loss: 2.284\n",
            "[Epoch 6] loss: 2.353\n",
            "[Epoch 7] loss: 2.358\n",
            "[Epoch 8] loss: 2.324\n",
            "[Epoch 9] loss: 2.311\n",
            "[Epoch 10] loss: 2.322\n",
            "[Epoch 11] loss: 2.318\n",
            "[Epoch 12] loss: 2.326\n",
            "[Epoch 13] loss: 2.324\n",
            "[Epoch 14] loss: 2.322\n",
            "[Epoch 15] loss: 2.314\n",
            "[Epoch 16] loss: 2.302\n",
            "[Epoch 17] loss: 2.301\n",
            "[Epoch 18] loss: 2.299\n",
            "[Epoch 19] loss: 2.299\n",
            "[Epoch 20] loss: 2.300\n",
            "[Epoch 21] loss: 2.300\n",
            "[Epoch 22] loss: 2.301\n",
            "[Epoch 23] loss: 2.301\n",
            "[Epoch 24] loss: 2.301\n",
            "[Epoch 25] loss: 2.297\n",
            "[Epoch 26] loss: 2.297\n",
            "[Epoch 27] loss: 2.297\n",
            "[Epoch 28] loss: 2.297\n",
            "[Epoch 29] loss: 2.297\n",
            "[Epoch 30] loss: 2.297\n",
            "Finished Training\n"
          ]
        }
      ],
      "metadata": {
        "id": "ubn7Gcqg0tAC",
        "colab": {
          "base_uri": "https://localhost:8080/"
        },
        "outputId": "988f67d6-0658-49f0-963d-16e9605c20ef"
      }
    },
    {
      "cell_type": "code",
      "execution_count": 28,
      "source": [
        "plt.figure(figsize=(12, 6))\n",
        "plt.plot(list(range(len(lr_list))), lr_list, label=\"lr\")\n",
        "plt.xlabel(\"Epoch\", fontsize=14)\n",
        "plt.ylabel(\"Learning rate\", fontsize=14)\n",
        "plt.show()"
      ],
      "outputs": [
        {
          "output_type": "display_data",
          "data": {
            "text/plain": [
              "<Figure size 1200x600 with 1 Axes>"
            ],
            "image/png": "[encoded data removed]"
          },
          "metadata": {}
        }
      ],
      "metadata": {
        "colab": {
          "base_uri": "https://localhost:8080/",
          "height": 547
        },
        "id": "8T-wth2107T6",
        "outputId": "86a45567-2f67-484f-a4d5-a773e6e46ef3"
      }
    },
    {
      "cell_type": "markdown",
      "source": [
        "### 3. Tuning siêu tham số"
      ],
      "metadata": {
        "id": "lumzKlKrCuj5"
      }
    },
    {
      "cell_type": "markdown",
      "source": [
        "Cài đặt thư viện ray"
      ],
      "metadata": {
        "id": "4ni2H2RayJsG"
      }
    },
    {
      "cell_type": "code",
      "execution_count": 29,
      "source": [
        "!pip install ray"
      ],
      "outputs": [
        {
          "output_type": "stream",
          "name": "stdout",
          "text": [
            "Requirement already satisfied: ray in /usr/local/lib/python3.12/dist-packages (2.51.1)\n",
            "Requirement already satisfied: click!=8.3.0,>=7.0 in /usr/local/lib/python3.12/dist-packages (from ray) (8.2.1)\n",
            "Requirement already satisfied: filelock in /usr/local/lib/python3.12/dist-packages (from ray) (3.20.0)\n",
            "Requirement already satisfied: jsonschema in /usr/local/lib/python3.12/dist-packages (from ray) (4.25.1)\n",
            "Requirement already satisfied: msgpack<2.0.0,>=1.0.0 in /usr/local/lib/python3.12/dist-packages (from ray) (1.1.2)\n",
            "Requirement already satisfied: packaging in /usr/local/lib/python3.12/dist-packages (from ray) (25.0)\n",
            "Requirement already satisfied: protobuf>=3.20.3 in /usr/local/lib/python3.12/dist-packages (from ray) (5.29.5)\n",
            "Requirement already satisfied: pyyaml in /usr/local/lib/python3.12/dist-packages (from ray) (6.0.3)\n",
            "Requirement already satisfied: requests in /usr/local/lib/python3.12/dist-packages (from ray) (2.32.4)\n",
            "Requirement already satisfied: attrs>=22.2.0 in /usr/local/lib/python3.12/dist-packages (from jsonschema->ray) (25.4.0)\n",
            "Requirement already satisfied: jsonschema-specifications>=2023.03.6 in /usr/local/lib/python3.12/dist-packages (from jsonschema->ray) (2025.9.1)\n",
            "Requirement already satisfied: referencing>=0.28.4 in /usr/local/lib/python3.12/dist-packages (from jsonschema->ray) (0.37.0)\n",
            "Requirement already satisfied: rpds-py>=0.7.1 in /usr/local/lib/python3.12/dist-packages (from jsonschema->ray) (0.28.0)\n",
            "Requirement already satisfied: charset_normalizer<4,>=2 in /usr/local/lib/python3.12/dist-packages (from requests->ray) (3.4.4)\n",
            "Requirement already satisfied: idna<4,>=2.5 in /usr/local/lib/python3.12/dist-packages (from requests->ray) (3.11)\n",
            "Requirement already satisfied: urllib3<3,>=1.21.1 in /usr/local/lib/python3.12/dist-packages (from requests->ray) (2.5.0)\n",
            "Requirement already satisfied: certifi>=2017.4.17 in /usr/local/lib/python3.12/dist-packages (from requests->ray) (2025.10.5)\n",
            "Requirement already satisfied: typing-extensions>=4.4.0 in /usr/local/lib/python3.12/dist-packages (from referencing>=0.28.4->jsonschema->ray) (4.15.0)\n"
          ]
        }
      ],
      "metadata": {
        "colab": {
          "base_uri": "https://localhost:8080/"
        },
        "id": "m_SIswTeFf8s",
        "outputId": "ad0bf5a5-e90a-48a8-d3eb-b712dc46b8a1"
      }
    },
    {
      "cell_type": "code",
      "execution_count": 30,
      "source": [
        "import os\n",
        "from ray.tune import CLIReporter\n",
        "from ray import tune\n",
        "from torch.utils.data import random_split\n",
        "from functools import partial"
      ],
      "outputs": [],
      "metadata": {
        "id": "-eA-AZqOJc21"
      }
    },
    {
      "cell_type": "markdown",
      "source": [
        "Viết hàm huấn luyện mô hình nơ-ron trên tập CIFAR10"
      ],
      "metadata": {
        "id": "uIiIkVcMyJsI"
      }
    },
    {
      "cell_type": "code",
      "execution_count": 31,
      "source": [
        "def train_cifar(config, checkpoint_dir=None, data_dir=None):\n",
        "    net = Net(config[\"l1\"], config[\"l2\"])\n",
        "\n",
        "    device = \"cpu\"\n",
        "    if torch.cuda.is_available():\n",
        "        device = \"cuda:0\"\n",
        "        if torch.cuda.device_count() > 1:\n",
        "            net = nn.DataParallel(net)\n",
        "    net.to(device)\n",
        "\n",
        "    criterion = nn.CrossEntropyLoss()\n",
        "    optimizer = optim.SGD(net.parameters(), lr=config[\"lr\"], momentum=0.9)\n",
        "\n",
        "    if checkpoint_dir:\n",
        "        model_state, optimizer_state = torch.load(\n",
        "            os.path.join(checkpoint_dir, \"checkpoint\"))\n",
        "        net.load_state_dict(model_state)\n",
        "        optimizer.load_state_dict(optimizer_state)\n",
        "\n",
        "    trainset, testset = load_data(data_dir)\n",
        "\n",
        "    test_abs = int(len(trainset) * 0.8)\n",
        "    train_subset, val_subset = random_split(\n",
        "        trainset, [test_abs, len(trainset) - test_abs])\n",
        "\n",
        "    trainloader = torch.utils.data.DataLoader(\n",
        "        train_subset,\n",
        "        batch_size=int(config[\"batch_size\"]),\n",
        "        shuffle=True,\n",
        "        num_workers=8)\n",
        "    valloader = torch.utils.data.DataLoader(\n",
        "        val_subset,\n",
        "        batch_size=int(config[\"batch_size\"]),\n",
        "        shuffle=True,\n",
        "        num_workers=8)\n",
        "\n",
        "    for epoch in range(5):  # loop over the dataset multiple times\n",
        "        running_loss = 0.0\n",
        "        epoch_steps = 0\n",
        "        for i, data in enumerate(trainloader, 0):\n",
        "            # get the inputs; data is a list of [inputs, labels]\n",
        "            inputs, labels = data\n",
        "            inputs, labels = inputs.to(device), labels.to(device)\n",
        "\n",
        "            # zero the parameter gradients\n",
        "            optimizer.zero_grad()\n",
        "\n",
        "            # forward + backward + optimize\n",
        "            outputs = net(inputs)\n",
        "            loss = criterion(outputs, labels)\n",
        "            loss.backward()\n",
        "            optimizer.step()\n",
        "\n",
        "            # print statistics\n",
        "            running_loss += loss.item()\n",
        "            epoch_steps += 1\n",
        "            if i % 2000 == 1999:  # print every 2000 mini-batches\n",
        "                print(\"[%d, %5d] loss: %.3f\" % (epoch + 1, i + 1,\n",
        "                                                running_loss / epoch_steps))\n",
        "                running_loss = 0.0\n",
        "\n",
        "        # Validation loss\n",
        "        val_loss = 0.0\n",
        "        val_steps = 0\n",
        "        total = 0\n",
        "        correct = 0\n",
        "        for i, data in enumerate(valloader, 0):\n",
        "            with torch.no_grad():\n",
        "                inputs, labels = data\n",
        "                inputs, labels = inputs.to(device), labels.to(device)\n",
        "\n",
        "                outputs = net(inputs)\n",
        "                _, predicted = torch.max(outputs.data, 1)\n",
        "                total += labels.size(0)\n",
        "                correct += (predicted == labels).sum().item()\n",
        "\n",
        "                loss = criterion(outputs, labels)\n",
        "                val_loss += loss.cpu().numpy()\n",
        "                val_steps += 1\n",
        "\n",
        "        with tune.checkpoint_dir(epoch) as checkpoint_dir:\n",
        "            path = os.path.join(checkpoint_dir, \"checkpoint\")\n",
        "            torch.save((net.state_dict(), optimizer.state_dict()), path)\n",
        "            print(\"*\"*10, path, \"*\"*10)\n",
        "\n",
        "        tune.report(loss=(val_loss / val_steps), accuracy=correct / total)\n",
        "    print(\"Finished Training\")"
      ],
      "outputs": [],
      "metadata": {
        "id": "rwIo-TBJHRHT"
      }
    },
    {
      "cell_type": "markdown",
      "source": [
        "Lựa chọn siêu tham số tốt (hyperparameter tuning): l1 nhận giá trị 32 hoặc 64, l2 nhận giá trị 32 hoặc 64, lr bằng 1e-4 hoặc 1e-2, batchsize cố định 16"
      ],
      "metadata": {
        "id": "rE6K7bsEyJsK"
      }
    },
    {
      "cell_type": "code",
      "execution_count": 32,
      "source": [
        "def main(num_samples=10, gpus_per_trial=2):\n",
        "    data_dir = os.path.abspath(\"./data\")\n",
        "\n",
        "    # Liệt kê các giá trị của các siêu tham số cần tìm kiếm\n",
        "    config = {\n",
        "        \"l1\": tune.grid_search([32, 64]),\n",
        "        \"l2\": tune.grid_search([16, 32]),\n",
        "        \"lr\": tune.grid_search([1e-4, 1e-2]),\n",
        "        \"batch_size\": tune.grid_search([16])\n",
        "    }\n",
        "\n",
        "    reporter = CLIReporter(\n",
        "        metric_columns=[\"loss\", \"accuracy\", \"training_iteration\"])\n",
        "    result = tune.run(\n",
        "        partial(train_cifar, data_dir=data_dir),\n",
        "        resources_per_trial={\"cpu\": 2, \"gpu\": gpus_per_trial},\n",
        "        config=config,\n",
        "        num_samples=num_samples,\n",
        "        progress_reporter=reporter)\n",
        "\n",
        "main(num_samples=10, gpus_per_trial=1)"
      ],
      "outputs": [
        {
          "output_type": "stream",
          "name": "stderr",
          "text": [
            "2025-11-02 00:34:58,457\tWARNING callback.py:143 -- The TensorboardX logger cannot be instantiated because either TensorboardX or one of it's dependencies is not installed. Please make sure you have the latest version of TensorboardX installed: `pip install -U tensorboardx`\n",
            "2025-11-02 00:34:58,464\tWARNING tune.py:902 -- AIR_VERBOSITY is set, ignoring passed-in ProgressReporter for now.\n"
          ]
        },
        {
          "output_type": "stream",
          "name": "stdout",
          "text": [
            "+--------------------------------------------------------------------+\n",
            "| Configuration for experiment     train_cifar_2025-11-02_00-34-58   |\n",
            "+--------------------------------------------------------------------+\n",
            "| Search algorithm                 BasicVariantGenerator             |\n",
            "| Scheduler                        FIFOScheduler                     |\n",
            "| Number of trials                 80                                |\n",
            "+--------------------------------------------------------------------+\n",
            "\n",
            "View detailed results here: /root/ray_results/train_cifar_2025-11-02_00-34-58\n",
            "\n",
            "Trial status: 80 PENDING\n",
            "Current time: 2025-11-02 00:35:00. Total running time: 1s\n",
            "Logical resource usage: 0/2 CPUs, 0/1 GPUs (0.0/1.0 accelerator_type:T4)\n",
            "+--------------------------------------------------------------------------+\n",
            "| Trial name                status       l1     l2       lr     batch_size |\n",
            "+--------------------------------------------------------------------------+\n",
            "| train_cifar_c2c1d_00000   PENDING      32     16   0.0001             16 |\n",
            "| train_cifar_c2c1d_00001   PENDING      64     16   0.0001             16 |\n",
            "| train_cifar_c2c1d_00002   PENDING      32     32   0.0001             16 |\n",
            "| train_cifar_c2c1d_00003   PENDING      64     32   0.0001             16 |\n",
            "| train_cifar_c2c1d_00004   PENDING      32     16   0.01               16 |\n",
            "+--------------------------------------------------------------------------+\n",
            "75 more PENDING\n",
            "\n",
            "Trial train_cifar_c2c1d_00000 started with configuration:\n",
            "+-------------------------------------------------+\n",
            "| Trial train_cifar_c2c1d_00000 config            |\n",
            "+-------------------------------------------------+\n",
            "| batch_size                                   16 |\n",
            "| l1                                           32 |\n",
            "| l2                                           16 |\n",
            "| lr                                       0.0001 |\n",
            "+-------------------------------------------------+\n"
          ]
        },
        {
          "output_type": "stream",
          "name": "stderr",
          "text": [
            "\u001b[36m(func pid=18036)\u001b[0m /usr/local/lib/python3.12/dist-packages/torch/utils/data/dataloader.py:627: UserWarning: This DataLoader will create 8 worker processes in total. Our suggested max number of worker in current system is 2, which is smaller than what this DataLoader is going to create. Please be aware that excessive worker creation might get DataLoader running slow or even freeze, lower the worker number to avoid potential slowness/freeze if necessary.\n",
            "\u001b[36m(func pid=18036)\u001b[0m   warnings.warn(\n"
          ]
        },
        {
          "output_type": "stream",
          "name": "stdout",
          "text": [
            "\n",
            "Trial status: 1 RUNNING | 79 PENDING\n",
            "Current time: 2025-11-02 00:35:30. Total running time: 31s\n",
            "Logical resource usage: 2.0/2 CPUs, 1.0/1 GPUs (0.0/1.0 accelerator_type:T4)\n",
            "+--------------------------------------------------------------------------+\n",
            "| Trial name                status       l1     l2       lr     batch_size |\n",
            "+--------------------------------------------------------------------------+\n",
            "| train_cifar_c2c1d_00000   RUNNING      32     16   0.0001             16 |\n",
            "| train_cifar_c2c1d_00001   PENDING      64     16   0.0001             16 |\n",
            "| train_cifar_c2c1d_00002   PENDING      32     32   0.0001             16 |\n",
            "| train_cifar_c2c1d_00003   PENDING      64     32   0.0001             16 |\n",
            "| train_cifar_c2c1d_00004   PENDING      32     16   0.01               16 |\n",
            "| train_cifar_c2c1d_00005   PENDING      64     16   0.01               16 |\n",
            "+--------------------------------------------------------------------------+\n",
            "74 more PENDING\n",
            "\u001b[36m(func pid=18036)\u001b[0m [1,  2000] loss: 2.303\n"
          ]
        },
        {
          "output_type": "stream",
          "name": "stderr",
          "text": [
            "\u001b[36m(func pid=18036)\u001b[0m [2025-11-02 00:35:45,319 E 18036 18110] core_worker_process.cc:825: Failed to establish connection to the metrics exporter agent. Metrics will not be exported. Exporter agent status: RpcError: Running out of retries to initialize the metrics agent. rpc_code: 14\n",
            "2025-11-02 00:35:45,948\tERROR tune_controller.py:1331 -- Trial task failed for trial train_cifar_c2c1d_00000\n",
            "Traceback (most recent call last):\n",
            "  File \"/usr/local/lib/python3.12/dist-packages/ray/air/execution/_internal/event_manager.py\", line 110, in resolve_future\n",
            "    result = ray.get(future)\n",
            "             ^^^^^^^^^^^^^^^\n",
            "  File \"/usr/local/lib/python3.12/dist-packages/ray/_private/auto_init_hook.py\", line 22, in auto_init_wrapper\n",
            "    return fn(*args, **kwargs)\n",
            "           ^^^^^^^^^^^^^^^^^^^\n",
            "  File \"/usr/local/lib/python3.12/dist-packages/ray/_private/client_mode_hook.py\", line 104, in wrapper\n",
            "    return func(*args, **kwargs)\n",
            "           ^^^^^^^^^^^^^^^^^^^^^\n",
            "  File \"/usr/local/lib/python3.12/dist-packages/ray/_private/worker.py\", line 2961, in get\n",
            "    values, debugger_breakpoint = worker.get_objects(\n",
            "                                  ^^^^^^^^^^^^^^^^^^^\n",
            "  File \"/usr/local/lib/python3.12/dist-packages/ray/_private/worker.py\", line 1026, in get_objects\n",
            "    raise value.as_instanceof_cause()\n",
            "ray.exceptions.RayTaskError(AttributeError): \u001b[36mray::ImplicitFunc.train()\u001b[39m (pid=18036, ip=172.28.0.12, actor_id=3c0b89c2c69cdf08b42a53c101000000, repr=func)\n",
            "           ^^^^^^^^^^^^^^^^^^^^^^^^^^^^^^^^^^^^\n",
            "           ^^^^^^^^^^^^^^^^^^^^^^^^^^^^^^^\n",
            "  File \"/usr/local/lib/python3.12/dist-packages/ray/tune/trainable/trainable.py\", line 331, in train\n",
            "    raise skipped from exception_cause(skipped)\n",
            "  File \"/usr/local/lib/python3.12/dist-packages/ray/air/_internal/util.py\", line 107, in run\n",
            "    self._ret = self._target(*self._args, **self._kwargs)\n",
            "                ^^^^^^^^^^^^^^^^^^^^^^^^^^^^^^^^^^^^^^^^^\n",
            "  File \"/usr/local/lib/python3.12/dist-packages/ray/tune/trainable/function_trainable.py\", line 44, in <lambda>\n",
            "    training_func=lambda: self._trainable_func(self.config),\n",
            "                          ^^^^^^^^^^^^^^^^^^^^^^^^^^^^^^^^^\n",
            "           ^^^^^^^^^^^^^^^^^^^^^^^^^^^^^^^\n",
            "  File \"/usr/local/lib/python3.12/dist-packages/ray/tune/trainable/function_trainable.py\", line 249, in _trainable_func\n",
            "    output = fn()\n",
            "             ^^^^\n",
            "  File \"/tmp/ipython-input-1632616050.py\", line 81, in train_cifar\n",
            "AttributeError: module 'ray.tune' has no attribute 'checkpoint_dir'\n"
          ]
        },
        {
          "output_type": "stream",
          "name": "stdout",
          "text": [
            "\n",
            "Trial train_cifar_c2c1d_00000 errored after 0 iterations at 2025-11-02 00:35:45. Total running time: 47s\n",
            "Error file: /tmp/ray/session_2025-11-01_23-59-00_254750_447/artifacts/2025-11-02_00-34-58/train_cifar_2025-11-02_00-34-58/driver_artifacts/train_cifar_c2c1d_00000_0_batch_size=16,l1=32,l2=16,lr=0.0001_2025-11-02_00-34-58/error.txt\n",
            "\n",
            "Trial train_cifar_c2c1d_00001 started with configuration:\n",
            "+-------------------------------------------------+\n",
            "| Trial train_cifar_c2c1d_00001 config            |\n",
            "+-------------------------------------------------+\n",
            "| batch_size                                   16 |\n",
            "| l1                                           64 |\n",
            "| l2                                           16 |\n",
            "| lr                                       0.0001 |\n",
            "+-------------------------------------------------+\n"
          ]
        },
        {
          "output_type": "stream",
          "name": "stderr",
          "text": [
            "\u001b[36m(func pid=18368)\u001b[0m /usr/local/lib/python3.12/dist-packages/torch/utils/data/dataloader.py:627: UserWarning: This DataLoader will create 8 worker processes in total. Our suggested max number of worker in current system is 2, which is smaller than what this DataLoader is going to create. Please be aware that excessive worker creation might get DataLoader running slow or even freeze, lower the worker number to avoid potential slowness/freeze if necessary.\n",
            "\u001b[36m(func pid=18368)\u001b[0m   warnings.warn(\n"
          ]
        },
        {
          "output_type": "stream",
          "name": "stdout",
          "text": [
            "\n",
            "Trial status: 1 ERROR | 1 RUNNING | 78 PENDING\n",
            "Current time: 2025-11-02 00:36:00. Total running time: 1min 1s\n",
            "Logical resource usage: 2.0/2 CPUs, 1.0/1 GPUs (0.0/1.0 accelerator_type:T4)\n",
            "+--------------------------------------------------------------------------+\n",
            "| Trial name                status       l1     l2       lr     batch_size |\n",
            "+--------------------------------------------------------------------------+\n",
            "| train_cifar_c2c1d_00001   RUNNING      64     16   0.0001             16 |\n",
            "| train_cifar_c2c1d_00002   PENDING      32     32   0.0001             16 |\n",
            "| train_cifar_c2c1d_00003   PENDING      64     32   0.0001             16 |\n",
            "| train_cifar_c2c1d_00004   PENDING      32     16   0.01               16 |\n",
            "| train_cifar_c2c1d_00005   PENDING      64     16   0.01               16 |\n",
            "| train_cifar_c2c1d_00006   PENDING      32     32   0.01               16 |\n",
            "| train_cifar_c2c1d_00000   ERROR        32     16   0.0001             16 |\n",
            "+--------------------------------------------------------------------------+\n",
            "73 more PENDING\n",
            "\u001b[36m(func pid=18368)\u001b[0m [1,  2000] loss: 2.303\n"
          ]
        },
        {
          "output_type": "stream",
          "name": "stderr",
          "text": [
            "\u001b[36m(func pid=18368)\u001b[0m [2025-11-02 00:36:24,057 E 18368 18410] core_worker_process.cc:825: Failed to establish connection to the metrics exporter agent. Metrics will not be exported. Exporter agent status: RpcError: Running out of retries to initialize the metrics agent. rpc_code: 14\n",
            "2025-11-02 00:36:26,410\tERROR tune_controller.py:1331 -- Trial task failed for trial train_cifar_c2c1d_00001\n",
            "Traceback (most recent call last):\n",
            "  File \"/usr/local/lib/python3.12/dist-packages/ray/air/execution/_internal/event_manager.py\", line 110, in resolve_future\n",
            "    result = ray.get(future)\n",
            "             ^^^^^^^^^^^^^^^\n",
            "  File \"/usr/local/lib/python3.12/dist-packages/ray/_private/auto_init_hook.py\", line 22, in auto_init_wrapper\n",
            "    return fn(*args, **kwargs)\n",
            "           ^^^^^^^^^^^^^^^^^^^\n",
            "  File \"/usr/local/lib/python3.12/dist-packages/ray/_private/client_mode_hook.py\", line 104, in wrapper\n",
            "    return func(*args, **kwargs)\n",
            "           ^^^^^^^^^^^^^^^^^^^^^\n",
            "  File \"/usr/local/lib/python3.12/dist-packages/ray/_private/worker.py\", line 2961, in get\n",
            "    values, debugger_breakpoint = worker.get_objects(\n",
            "                                  ^^^^^^^^^^^^^^^^^^^\n",
            "  File \"/usr/local/lib/python3.12/dist-packages/ray/_private/worker.py\", line 1026, in get_objects\n",
            "    raise value.as_instanceof_cause()\n",
            "ray.exceptions.RayTaskError(AttributeError): \u001b[36mray::ImplicitFunc.train()\u001b[39m (pid=18368, ip=172.28.0.12, actor_id=de39862527c7d9926fd2c0e901000000, repr=func)\n",
            "           ^^^^^^^^^^^^^^^^^^^^^^^^^^^^^^^^^^^^\n",
            "           ^^^^^^^^^^^^^^^^^^^^^^^^^^^^^^^\n",
            "  File \"/usr/local/lib/python3.12/dist-packages/ray/tune/trainable/trainable.py\", line 331, in train\n",
            "    raise skipped from exception_cause(skipped)\n",
            "  File \"/usr/local/lib/python3.12/dist-packages/ray/air/_internal/util.py\", line 107, in run\n",
            "    self._ret = self._target(*self._args, **self._kwargs)\n",
            "                ^^^^^^^^^^^^^^^^^^^^^^^^^^^^^^^^^^^^^^^^^\n",
            "  File \"/usr/local/lib/python3.12/dist-packages/ray/tune/trainable/function_trainable.py\", line 44, in <lambda>\n",
            "    training_func=lambda: self._trainable_func(self.config),\n",
            "                          ^^^^^^^^^^^^^^^^^^^^^^^^^^^^^^^^^\n",
            "           ^^^^^^^^^^^^^^^^^^^^^^^^^^^^^^^\n",
            "  File \"/usr/local/lib/python3.12/dist-packages/ray/tune/trainable/function_trainable.py\", line 249, in _trainable_func\n",
            "    output = fn()\n",
            "             ^^^^\n",
            "  File \"/tmp/ipython-input-1632616050.py\", line 81, in train_cifar\n",
            "AttributeError: module 'ray.tune' has no attribute 'checkpoint_dir'\n"
          ]
        },
        {
          "output_type": "stream",
          "name": "stdout",
          "text": [
            "\n",
            "Trial train_cifar_c2c1d_00001 errored after 0 iterations at 2025-11-02 00:36:26. Total running time: 1min 27s\n",
            "Error file: /tmp/ray/session_2025-11-01_23-59-00_254750_447/artifacts/2025-11-02_00-34-58/train_cifar_2025-11-02_00-34-58/driver_artifacts/train_cifar_c2c1d_00001_1_batch_size=16,l1=64,l2=16,lr=0.0001_2025-11-02_00-34-58/error.txt\n",
            "\n",
            "Trial status: 2 ERROR | 78 PENDING\n",
            "Current time: 2025-11-02 00:36:30. Total running time: 1min 31s\n",
            "Logical resource usage: 0/2 CPUs, 0/1 GPUs (0.0/1.0 accelerator_type:T4)\n",
            "+--------------------------------------------------------------------------+\n",
            "| Trial name                status       l1     l2       lr     batch_size |\n",
            "+--------------------------------------------------------------------------+\n",
            "| train_cifar_c2c1d_00002   PENDING      32     32   0.0001             16 |\n",
            "| train_cifar_c2c1d_00003   PENDING      64     32   0.0001             16 |\n",
            "| train_cifar_c2c1d_00004   PENDING      32     16   0.01               16 |\n",
            "| train_cifar_c2c1d_00005   PENDING      64     16   0.01               16 |\n",
            "| train_cifar_c2c1d_00006   PENDING      32     32   0.01               16 |\n",
            "| train_cifar_c2c1d_00000   ERROR        32     16   0.0001             16 |\n",
            "| train_cifar_c2c1d_00001   ERROR        64     16   0.0001             16 |\n",
            "+--------------------------------------------------------------------------+\n",
            "73 more PENDING\n",
            "\n",
            "Trial train_cifar_c2c1d_00002 started with configuration:\n",
            "+-------------------------------------------------+\n",
            "| Trial train_cifar_c2c1d_00002 config            |\n",
            "+-------------------------------------------------+\n",
            "| batch_size                                   16 |\n",
            "| l1                                           32 |\n",
            "| l2                                           32 |\n",
            "| lr                                       0.0001 |\n",
            "+-------------------------------------------------+\n"
          ]
        },
        {
          "output_type": "stream",
          "name": "stderr",
          "text": [
            "\u001b[36m(func pid=18675)\u001b[0m /usr/local/lib/python3.12/dist-packages/torch/utils/data/dataloader.py:627: UserWarning: This DataLoader will create 8 worker processes in total. Our suggested max number of worker in current system is 2, which is smaller than what this DataLoader is going to create. Please be aware that excessive worker creation might get DataLoader running slow or even freeze, lower the worker number to avoid potential slowness/freeze if necessary.\n",
            "\u001b[36m(func pid=18675)\u001b[0m   warnings.warn(\n"
          ]
        },
        {
          "output_type": "stream",
          "name": "stdout",
          "text": [
            "\u001b[36m(func pid=18675)\u001b[0m [1,  2000] loss: 2.303\n",
            "\n",
            "Trial status: 2 ERROR | 1 RUNNING | 77 PENDING\n",
            "Current time: 2025-11-02 00:37:00. Total running time: 2min 1s\n",
            "Logical resource usage: 2.0/2 CPUs, 1.0/1 GPUs (0.0/1.0 accelerator_type:T4)\n",
            "+--------------------------------------------------------------------------+\n",
            "| Trial name                status       l1     l2       lr     batch_size |\n",
            "+--------------------------------------------------------------------------+\n",
            "| train_cifar_c2c1d_00002   RUNNING      32     32   0.0001             16 |\n",
            "| train_cifar_c2c1d_00003   PENDING      64     32   0.0001             16 |\n",
            "| train_cifar_c2c1d_00004   PENDING      32     16   0.01               16 |\n",
            "| train_cifar_c2c1d_00005   PENDING      64     16   0.01               16 |\n",
            "| train_cifar_c2c1d_00006   PENDING      32     32   0.01               16 |\n",
            "| train_cifar_c2c1d_00007   PENDING      64     32   0.01               16 |\n",
            "| train_cifar_c2c1d_00000   ERROR        32     16   0.0001             16 |\n",
            "| train_cifar_c2c1d_00001   ERROR        64     16   0.0001             16 |\n",
            "+--------------------------------------------------------------------------+\n",
            "72 more PENDING\n"
          ]
        },
        {
          "output_type": "stream",
          "name": "stderr",
          "text": [
            "\u001b[36m(func pid=18675)\u001b[0m [2025-11-02 00:37:04,635 E 18675 18716] core_worker_process.cc:825: Failed to establish connection to the metrics exporter agent. Metrics will not be exported. Exporter agent status: RpcError: Running out of retries to initialize the metrics agent. rpc_code: 14\n",
            "2025-11-02 00:37:08,117\tERROR tune_controller.py:1331 -- Trial task failed for trial train_cifar_c2c1d_00002\n",
            "Traceback (most recent call last):\n",
            "  File \"/usr/local/lib/python3.12/dist-packages/ray/air/execution/_internal/event_manager.py\", line 110, in resolve_future\n",
            "    result = ray.get(future)\n",
            "             ^^^^^^^^^^^^^^^\n",
            "  File \"/usr/local/lib/python3.12/dist-packages/ray/_private/auto_init_hook.py\", line 22, in auto_init_wrapper\n",
            "    return fn(*args, **kwargs)\n",
            "           ^^^^^^^^^^^^^^^^^^^\n",
            "  File \"/usr/local/lib/python3.12/dist-packages/ray/_private/client_mode_hook.py\", line 104, in wrapper\n",
            "    return func(*args, **kwargs)\n",
            "           ^^^^^^^^^^^^^^^^^^^^^\n",
            "  File \"/usr/local/lib/python3.12/dist-packages/ray/_private/worker.py\", line 2961, in get\n",
            "    values, debugger_breakpoint = worker.get_objects(\n",
            "                                  ^^^^^^^^^^^^^^^^^^^\n",
            "  File \"/usr/local/lib/python3.12/dist-packages/ray/_private/worker.py\", line 1026, in get_objects\n",
            "    raise value.as_instanceof_cause()\n",
            "ray.exceptions.RayTaskError(AttributeError): \u001b[36mray::ImplicitFunc.train()\u001b[39m (pid=18675, ip=172.28.0.12, actor_id=bb2da556196c0a97b0d2700d01000000, repr=func)\n",
            "           ^^^^^^^^^^^^^^^^^^^^^^^^^^^^^^^^^^^^\n",
            "           ^^^^^^^^^^^^^^^^^^^^^^^^^^^^^^^\n",
            "  File \"/usr/local/lib/python3.12/dist-packages/ray/tune/trainable/trainable.py\", line 331, in train\n",
            "    raise skipped from exception_cause(skipped)\n",
            "  File \"/usr/local/lib/python3.12/dist-packages/ray/air/_internal/util.py\", line 107, in run\n",
            "    self._ret = self._target(*self._args, **self._kwargs)\n",
            "                ^^^^^^^^^^^^^^^^^^^^^^^^^^^^^^^^^^^^^^^^^\n",
            "  File \"/usr/local/lib/python3.12/dist-packages/ray/tune/trainable/function_trainable.py\", line 44, in <lambda>\n",
            "    training_func=lambda: self._trainable_func(self.config),\n",
            "                          ^^^^^^^^^^^^^^^^^^^^^^^^^^^^^^^^^\n",
            "           ^^^^^^^^^^^^^^^^^^^^^^^^^^^^^^^\n",
            "  File \"/usr/local/lib/python3.12/dist-packages/ray/tune/trainable/function_trainable.py\", line 249, in _trainable_func\n",
            "    output = fn()\n",
            "             ^^^^\n",
            "  File \"/tmp/ipython-input-1632616050.py\", line 81, in train_cifar\n",
            "AttributeError: module 'ray.tune' has no attribute 'checkpoint_dir'\n"
          ]
        },
        {
          "output_type": "stream",
          "name": "stdout",
          "text": [
            "\n",
            "Trial train_cifar_c2c1d_00002 errored after 0 iterations at 2025-11-02 00:37:08. Total running time: 2min 9s\n",
            "Error file: /tmp/ray/session_2025-11-01_23-59-00_254750_447/artifacts/2025-11-02_00-34-58/train_cifar_2025-11-02_00-34-58/driver_artifacts/train_cifar_c2c1d_00002_2_batch_size=16,l1=32,l2=32,lr=0.0001_2025-11-02_00-34-58/error.txt\n",
            "\n",
            "Trial train_cifar_c2c1d_00003 started with configuration:\n",
            "+-------------------------------------------------+\n",
            "| Trial train_cifar_c2c1d_00003 config            |\n",
            "+-------------------------------------------------+\n",
            "| batch_size                                   16 |\n",
            "| l1                                           64 |\n",
            "| l2                                           32 |\n",
            "| lr                                       0.0001 |\n",
            "+-------------------------------------------------+\n"
          ]
        },
        {
          "output_type": "stream",
          "name": "stderr",
          "text": [
            "\u001b[36m(func pid=18988)\u001b[0m /usr/local/lib/python3.12/dist-packages/torch/utils/data/dataloader.py:627: UserWarning: This DataLoader will create 8 worker processes in total. Our suggested max number of worker in current system is 2, which is smaller than what this DataLoader is going to create. Please be aware that excessive worker creation might get DataLoader running slow or even freeze, lower the worker number to avoid potential slowness/freeze if necessary.\n",
            "\u001b[36m(func pid=18988)\u001b[0m   warnings.warn(\n"
          ]
        },
        {
          "output_type": "stream",
          "name": "stdout",
          "text": [
            "\n",
            "Trial status: 3 ERROR | 1 RUNNING | 76 PENDING\n",
            "Current time: 2025-11-02 00:37:30. Total running time: 2min 31s\n",
            "Logical resource usage: 2.0/2 CPUs, 1.0/1 GPUs (0.0/1.0 accelerator_type:T4)\n",
            "+--------------------------------------------------------------------------+\n",
            "| Trial name                status       l1     l2       lr     batch_size |\n",
            "+--------------------------------------------------------------------------+\n",
            "| train_cifar_c2c1d_00003   RUNNING      64     32   0.0001             16 |\n",
            "| train_cifar_c2c1d_00004   PENDING      32     16   0.01               16 |\n",
            "| train_cifar_c2c1d_00005   PENDING      64     16   0.01               16 |\n",
            "| train_cifar_c2c1d_00006   PENDING      32     32   0.01               16 |\n",
            "| train_cifar_c2c1d_00007   PENDING      64     32   0.01               16 |\n",
            "| train_cifar_c2c1d_00008   PENDING      32     16   0.0001             16 |\n",
            "| train_cifar_c2c1d_00000   ERROR        32     16   0.0001             16 |\n",
            "| train_cifar_c2c1d_00001   ERROR        64     16   0.0001             16 |\n",
            "| train_cifar_c2c1d_00002   ERROR        32     32   0.0001             16 |\n",
            "+--------------------------------------------------------------------------+\n",
            "71 more PENDING\n",
            "\u001b[36m(func pid=18988)\u001b[0m [1,  2000] loss: 2.303\n"
          ]
        },
        {
          "output_type": "stream",
          "name": "stderr",
          "text": [
            "\u001b[36m(func pid=18988)\u001b[0m [2025-11-02 00:37:46,219 E 18988 19034] core_worker_process.cc:825: Failed to establish connection to the metrics exporter agent. Metrics will not be exported. Exporter agent status: RpcError: Running out of retries to initialize the metrics agent. rpc_code: 14\n",
            "2025-11-02 00:37:48,459\tERROR tune_controller.py:1331 -- Trial task failed for trial train_cifar_c2c1d_00003\n",
            "Traceback (most recent call last):\n",
            "  File \"/usr/local/lib/python3.12/dist-packages/ray/air/execution/_internal/event_manager.py\", line 110, in resolve_future\n",
            "    result = ray.get(future)\n",
            "             ^^^^^^^^^^^^^^^\n",
            "  File \"/usr/local/lib/python3.12/dist-packages/ray/_private/auto_init_hook.py\", line 22, in auto_init_wrapper\n",
            "    return fn(*args, **kwargs)\n",
            "           ^^^^^^^^^^^^^^^^^^^\n",
            "  File \"/usr/local/lib/python3.12/dist-packages/ray/_private/client_mode_hook.py\", line 104, in wrapper\n",
            "    return func(*args, **kwargs)\n",
            "           ^^^^^^^^^^^^^^^^^^^^^\n",
            "  File \"/usr/local/lib/python3.12/dist-packages/ray/_private/worker.py\", line 2961, in get\n",
            "    values, debugger_breakpoint = worker.get_objects(\n",
            "                                  ^^^^^^^^^^^^^^^^^^^\n",
            "  File \"/usr/local/lib/python3.12/dist-packages/ray/_private/worker.py\", line 1026, in get_objects\n",
            "    raise value.as_instanceof_cause()\n",
            "ray.exceptions.RayTaskError(AttributeError): \u001b[36mray::ImplicitFunc.train()\u001b[39m (pid=18988, ip=172.28.0.12, actor_id=698b472e2a67ed69dc78239e01000000, repr=func)\n",
            "           ^^^^^^^^^^^^^^^^^^^^^^^^^^^^^^^^^^^^\n",
            "           ^^^^^^^^^^^^^^^^^^^^^^^^^^^^^^^\n",
            "  File \"/usr/local/lib/python3.12/dist-packages/ray/tune/trainable/trainable.py\", line 331, in train\n",
            "    raise skipped from exception_cause(skipped)\n",
            "  File \"/usr/local/lib/python3.12/dist-packages/ray/air/_internal/util.py\", line 107, in run\n",
            "    self._ret = self._target(*self._args, **self._kwargs)\n",
            "                ^^^^^^^^^^^^^^^^^^^^^^^^^^^^^^^^^^^^^^^^^\n",
            "  File \"/usr/local/lib/python3.12/dist-packages/ray/tune/trainable/function_trainable.py\", line 44, in <lambda>\n",
            "    training_func=lambda: self._trainable_func(self.config),\n",
            "                          ^^^^^^^^^^^^^^^^^^^^^^^^^^^^^^^^^\n",
            "           ^^^^^^^^^^^^^^^^^^^^^^^^^^^^^^^\n",
            "  File \"/usr/local/lib/python3.12/dist-packages/ray/tune/trainable/function_trainable.py\", line 249, in _trainable_func\n",
            "    output = fn()\n",
            "             ^^^^\n",
            "  File \"/tmp/ipython-input-1632616050.py\", line 81, in train_cifar\n",
            "AttributeError: module 'ray.tune' has no attribute 'checkpoint_dir'\n"
          ]
        },
        {
          "output_type": "stream",
          "name": "stdout",
          "text": [
            "\n",
            "Trial train_cifar_c2c1d_00003 errored after 0 iterations at 2025-11-02 00:37:48. Total running time: 2min 49s\n",
            "Error file: /tmp/ray/session_2025-11-01_23-59-00_254750_447/artifacts/2025-11-02_00-34-58/train_cifar_2025-11-02_00-34-58/driver_artifacts/train_cifar_c2c1d_00003_3_batch_size=16,l1=64,l2=32,lr=0.0001_2025-11-02_00-34-58/error.txt\n",
            "\n",
            "Trial status: 4 ERROR | 76 PENDING\n",
            "Current time: 2025-11-02 00:38:00. Total running time: 3min 1s\n",
            "Logical resource usage: 2.0/2 CPUs, 1.0/1 GPUs (0.0/1.0 accelerator_type:T4)\n",
            "+--------------------------------------------------------------------------+\n",
            "| Trial name                status       l1     l2       lr     batch_size |\n",
            "+--------------------------------------------------------------------------+\n",
            "| train_cifar_c2c1d_00004   PENDING      32     16   0.01               16 |\n",
            "| train_cifar_c2c1d_00005   PENDING      64     16   0.01               16 |\n",
            "| train_cifar_c2c1d_00006   PENDING      32     32   0.01               16 |\n",
            "| train_cifar_c2c1d_00007   PENDING      64     32   0.01               16 |\n",
            "| train_cifar_c2c1d_00008   PENDING      32     16   0.0001             16 |\n",
            "| train_cifar_c2c1d_00000   ERROR        32     16   0.0001             16 |\n",
            "| train_cifar_c2c1d_00001   ERROR        64     16   0.0001             16 |\n",
            "| train_cifar_c2c1d_00002   ERROR        32     32   0.0001             16 |\n",
            "| train_cifar_c2c1d_00003   ERROR        64     32   0.0001             16 |\n",
            "+--------------------------------------------------------------------------+\n",
            "71 more PENDING\n",
            "\n",
            "Trial train_cifar_c2c1d_00004 started with configuration:\n",
            "+-----------------------------------------------+\n",
            "| Trial train_cifar_c2c1d_00004 config          |\n",
            "+-----------------------------------------------+\n",
            "| batch_size                                 16 |\n",
            "| l1                                         32 |\n",
            "| l2                                         16 |\n",
            "| lr                                       0.01 |\n",
            "+-----------------------------------------------+\n"
          ]
        },
        {
          "output_type": "stream",
          "name": "stderr",
          "text": [
            "\u001b[36m(func pid=19301)\u001b[0m /usr/local/lib/python3.12/dist-packages/torch/utils/data/dataloader.py:627: UserWarning: This DataLoader will create 8 worker processes in total. Our suggested max number of worker in current system is 2, which is smaller than what this DataLoader is going to create. Please be aware that excessive worker creation might get DataLoader running slow or even freeze, lower the worker number to avoid potential slowness/freeze if necessary.\n",
            "\u001b[36m(func pid=19301)\u001b[0m   warnings.warn(\n"
          ]
        },
        {
          "output_type": "stream",
          "name": "stdout",
          "text": [
            "\u001b[36m(func pid=19301)\u001b[0m [1,  2000] loss: 2.277\n"
          ]
        },
        {
          "output_type": "stream",
          "name": "stderr",
          "text": [
            "2025-11-02 00:38:22,711\tWARNING tune.py:219 -- Stop signal received (e.g. via SIGINT/Ctrl+C), ending Ray Tune run. This will try to checkpoint the experiment state one last time. Press CTRL+C (or send SIGINT/SIGKILL/SIGTERM) to skip. \n",
            "2025-11-02 00:38:22,739\tINFO tune.py:1009 -- Wrote the latest version of all result files and experiment state to '/root/ray_results/train_cifar_2025-11-02_00-34-58' in 0.0254s.\n"
          ]
        },
        {
          "output_type": "stream",
          "name": "stdout",
          "text": [
            "\n",
            "Trial status: 4 ERROR | 1 RUNNING | 75 PENDING\n",
            "Current time: 2025-11-02 00:38:22. Total running time: 3min 24s\n",
            "Logical resource usage: 2.0/2 CPUs, 1.0/1 GPUs (0.0/1.0 accelerator_type:T4)\n",
            "+--------------------------------------------------------------------------+\n",
            "| Trial name                status       l1     l2       lr     batch_size |\n",
            "+--------------------------------------------------------------------------+\n",
            "| train_cifar_c2c1d_00004   RUNNING      32     16   0.01               16 |\n",
            "| train_cifar_c2c1d_00005   PENDING      64     16   0.01               16 |\n",
            "| train_cifar_c2c1d_00006   PENDING      32     32   0.01               16 |\n",
            "| train_cifar_c2c1d_00007   PENDING      64     32   0.01               16 |\n",
            "| train_cifar_c2c1d_00008   PENDING      32     16   0.0001             16 |\n",
            "| train_cifar_c2c1d_00009   PENDING      64     16   0.0001             16 |\n",
            "| train_cifar_c2c1d_00010   PENDING      32     32   0.0001             16 |\n",
            "| train_cifar_c2c1d_00011   PENDING      64     32   0.0001             16 |\n",
            "| train_cifar_c2c1d_00012   PENDING      32     16   0.01               16 |\n",
            "| train_cifar_c2c1d_00013   PENDING      64     16   0.01               16 |\n",
            "| train_cifar_c2c1d_00014   PENDING      32     32   0.01               16 |\n",
            "| train_cifar_c2c1d_00015   PENDING      64     32   0.01               16 |\n",
            "| train_cifar_c2c1d_00016   PENDING      32     16   0.0001             16 |\n",
            "| train_cifar_c2c1d_00017   PENDING      64     16   0.0001             16 |\n",
            "| train_cifar_c2c1d_00018   PENDING      32     32   0.0001             16 |\n",
            "| train_cifar_c2c1d_00019   PENDING      64     32   0.0001             16 |\n",
            "| train_cifar_c2c1d_00020   PENDING      32     16   0.01               16 |\n",
            "| train_cifar_c2c1d_00021   PENDING      64     16   0.01               16 |\n",
            "| train_cifar_c2c1d_00022   PENDING      32     32   0.01               16 |\n",
            "| train_cifar_c2c1d_00023   PENDING      64     32   0.01               16 |\n",
            "| train_cifar_c2c1d_00024   PENDING      32     16   0.0001             16 |\n",
            "| train_cifar_c2c1d_00025   PENDING      64     16   0.0001             16 |\n",
            "| train_cifar_c2c1d_00026   PENDING      32     32   0.0001             16 |\n",
            "| train_cifar_c2c1d_00027   PENDING      64     32   0.0001             16 |\n",
            "| train_cifar_c2c1d_00028   PENDING      32     16   0.01               16 |\n",
            "| train_cifar_c2c1d_00029   PENDING      64     16   0.01               16 |\n",
            "| train_cifar_c2c1d_00030   PENDING      32     32   0.01               16 |\n",
            "| train_cifar_c2c1d_00031   PENDING      64     32   0.01               16 |\n",
            "| train_cifar_c2c1d_00032   PENDING      32     16   0.0001             16 |\n",
            "| train_cifar_c2c1d_00033   PENDING      64     16   0.0001             16 |\n",
            "| train_cifar_c2c1d_00034   PENDING      32     32   0.0001             16 |\n",
            "| train_cifar_c2c1d_00035   PENDING      64     32   0.0001             16 |\n",
            "| train_cifar_c2c1d_00036   PENDING      32     16   0.01               16 |\n",
            "| train_cifar_c2c1d_00037   PENDING      64     16   0.01               16 |\n",
            "| train_cifar_c2c1d_00038   PENDING      32     32   0.01               16 |\n",
            "| train_cifar_c2c1d_00039   PENDING      64     32   0.01               16 |\n",
            "| train_cifar_c2c1d_00040   PENDING      32     16   0.0001             16 |\n",
            "| train_cifar_c2c1d_00041   PENDING      64     16   0.0001             16 |\n",
            "| train_cifar_c2c1d_00042   PENDING      32     32   0.0001             16 |\n",
            "| train_cifar_c2c1d_00043   PENDING      64     32   0.0001             16 |\n",
            "| train_cifar_c2c1d_00044   PENDING      32     16   0.01               16 |\n",
            "| train_cifar_c2c1d_00045   PENDING      64     16   0.01               16 |\n",
            "| train_cifar_c2c1d_00046   PENDING      32     32   0.01               16 |\n",
            "| train_cifar_c2c1d_00047   PENDING      64     32   0.01               16 |\n",
            "| train_cifar_c2c1d_00048   PENDING      32     16   0.0001             16 |\n",
            "| train_cifar_c2c1d_00049   PENDING      64     16   0.0001             16 |\n",
            "| train_cifar_c2c1d_00050   PENDING      32     32   0.0001             16 |\n",
            "| train_cifar_c2c1d_00051   PENDING      64     32   0.0001             16 |\n",
            "| train_cifar_c2c1d_00052   PENDING      32     16   0.01               16 |\n",
            "| train_cifar_c2c1d_00053   PENDING      64     16   0.01               16 |\n",
            "| train_cifar_c2c1d_00054   PENDING      32     32   0.01               16 |\n",
            "| train_cifar_c2c1d_00055   PENDING      64     32   0.01               16 |\n",
            "| train_cifar_c2c1d_00056   PENDING      32     16   0.0001             16 |\n",
            "| train_cifar_c2c1d_00057   PENDING      64     16   0.0001             16 |\n",
            "| train_cifar_c2c1d_00058   PENDING      32     32   0.0001             16 |\n",
            "| train_cifar_c2c1d_00059   PENDING      64     32   0.0001             16 |\n",
            "| train_cifar_c2c1d_00060   PENDING      32     16   0.01               16 |\n",
            "| train_cifar_c2c1d_00061   PENDING      64     16   0.01               16 |\n",
            "| train_cifar_c2c1d_00062   PENDING      32     32   0.01               16 |\n",
            "| train_cifar_c2c1d_00063   PENDING      64     32   0.01               16 |\n",
            "| train_cifar_c2c1d_00064   PENDING      32     16   0.0001             16 |\n",
            "| train_cifar_c2c1d_00065   PENDING      64     16   0.0001             16 |\n",
            "| train_cifar_c2c1d_00066   PENDING      32     32   0.0001             16 |\n",
            "| train_cifar_c2c1d_00067   PENDING      64     32   0.0001             16 |\n",
            "| train_cifar_c2c1d_00068   PENDING      32     16   0.01               16 |\n",
            "| train_cifar_c2c1d_00069   PENDING      64     16   0.01               16 |\n",
            "| train_cifar_c2c1d_00070   PENDING      32     32   0.01               16 |\n",
            "| train_cifar_c2c1d_00071   PENDING      64     32   0.01               16 |\n",
            "| train_cifar_c2c1d_00072   PENDING      32     16   0.0001             16 |\n",
            "| train_cifar_c2c1d_00073   PENDING      64     16   0.0001             16 |\n",
            "| train_cifar_c2c1d_00074   PENDING      32     32   0.0001             16 |\n",
            "| train_cifar_c2c1d_00075   PENDING      64     32   0.0001             16 |\n",
            "| train_cifar_c2c1d_00076   PENDING      32     16   0.01               16 |\n",
            "| train_cifar_c2c1d_00077   PENDING      64     16   0.01               16 |\n",
            "| train_cifar_c2c1d_00078   PENDING      32     32   0.01               16 |\n",
            "| train_cifar_c2c1d_00079   PENDING      64     32   0.01               16 |\n",
            "| train_cifar_c2c1d_00000   ERROR        32     16   0.0001             16 |\n",
            "| train_cifar_c2c1d_00001   ERROR        64     16   0.0001             16 |\n",
            "| train_cifar_c2c1d_00002   ERROR        32     32   0.0001             16 |\n",
            "| train_cifar_c2c1d_00003   ERROR        64     32   0.0001             16 |\n",
            "+--------------------------------------------------------------------------+\n",
            "\n",
            "Number of errored trials: 4\n",
            "+---------------------------------------------------------------------------------------------------------------------------------------------------------------------------------------------------------------------------------------------------------------------+\n",
            "| Trial name                  # failures   error file                                                                                                                                                                                                                 |\n",
            "+---------------------------------------------------------------------------------------------------------------------------------------------------------------------------------------------------------------------------------------------------------------------+\n",
            "| train_cifar_c2c1d_00000              1   /tmp/ray/session_2025-11-01_23-59-00_254750_447/artifacts/2025-11-02_00-34-58/train_cifar_2025-11-02_00-34-58/driver_artifacts/train_cifar_c2c1d_00000_0_batch_size=16,l1=32,l2=16,lr=0.0001_2025-11-02_00-34-58/error.txt |\n",
            "| train_cifar_c2c1d_00001              1   /tmp/ray/session_2025-11-01_23-59-00_254750_447/artifacts/2025-11-02_00-34-58/train_cifar_2025-11-02_00-34-58/driver_artifacts/train_cifar_c2c1d_00001_1_batch_size=16,l1=64,l2=16,lr=0.0001_2025-11-02_00-34-58/error.txt |\n",
            "| train_cifar_c2c1d_00002              1   /tmp/ray/session_2025-11-01_23-59-00_254750_447/artifacts/2025-11-02_00-34-58/train_cifar_2025-11-02_00-34-58/driver_artifacts/train_cifar_c2c1d_00002_2_batch_size=16,l1=32,l2=32,lr=0.0001_2025-11-02_00-34-58/error.txt |\n",
            "| train_cifar_c2c1d_00003              1   /tmp/ray/session_2025-11-01_23-59-00_254750_447/artifacts/2025-11-02_00-34-58/train_cifar_2025-11-02_00-34-58/driver_artifacts/train_cifar_c2c1d_00003_3_batch_size=16,l1=64,l2=32,lr=0.0001_2025-11-02_00-34-58/error.txt |\n",
            "+---------------------------------------------------------------------------------------------------------------------------------------------------------------------------------------------------------------------------------------------------------------------+\n"
          ]
        },
        {
          "output_type": "stream",
          "name": "stderr",
          "text": [
            "\u001b[36m(func pid=19301)\u001b[0m [2025-11-02 00:38:26,867 E 19301 19347] core_worker_process.cc:825: Failed to establish connection to the metrics exporter agent. Metrics will not be exported. Exporter agent status: RpcError: Running out of retries to initialize the metrics agent. rpc_code: 14\n",
            "2025-11-02 00:38:29,501\tERROR worker.py:430 -- Unhandled error (suppress with 'RAY_IGNORE_UNHANDLED_ERRORS=1'): \u001b[36mray::ImplicitFunc.train()\u001b[39m (pid=19301, ip=172.28.0.12, actor_id=a30398499e33135250cef2eb01000000, repr=func)\n",
            "           ^^^^^^^^^^^^^^^^^^^^^^^^^^^^^^^^^^^^\n",
            "           ^^^^^^^^^^^^^^^^^^^^^^^^^^^^^^^\n",
            "  File \"/usr/local/lib/python3.12/dist-packages/ray/tune/trainable/trainable.py\", line 331, in train\n",
            "    raise skipped from exception_cause(skipped)\n",
            "  File \"/usr/local/lib/python3.12/dist-packages/ray/air/_internal/util.py\", line 107, in run\n",
            "    self._ret = self._target(*self._args, **self._kwargs)\n",
            "                ^^^^^^^^^^^^^^^^^^^^^^^^^^^^^^^^^^^^^^^^^\n",
            "  File \"/usr/local/lib/python3.12/dist-packages/ray/tune/trainable/function_trainable.py\", line 44, in <lambda>\n",
            "    training_func=lambda: self._trainable_func(self.config),\n",
            "                          ^^^^^^^^^^^^^^^^^^^^^^^^^^^^^^^^^\n",
            "           ^^^^^^^^^^^^^^^^^^^^^^^^^^^^^^^\n",
            "  File \"/usr/local/lib/python3.12/dist-packages/ray/tune/trainable/function_trainable.py\", line 249, in _trainable_func\n",
            "    output = fn()\n",
            "             ^^^^\n",
            "  File \"/tmp/ipython-input-1632616050.py\", line 81, in train_cifar\n",
            "AttributeError: module 'ray.tune' has no attribute 'checkpoint_dir'\n",
            "2025-11-02 00:38:29,509\tERROR tune.py:1037 -- Trials did not complete: [train_cifar_c2c1d_00000, train_cifar_c2c1d_00001, train_cifar_c2c1d_00002, train_cifar_c2c1d_00003]\n",
            "2025-11-02 00:38:29,512\tWARNING tune.py:1056 -- Experiment has been interrupted, but the most recent state was saved.\n",
            "Resume experiment with: tune.run(..., resume=True)\n",
            "2025-11-02 00:38:29,552\tWARNING experiment_analysis.py:180 -- Failed to fetch metrics for 75 trial(s):\n",
            "- train_cifar_c2c1d_00005: FileNotFoundError('Could not fetch metrics for train_cifar_c2c1d_00005: both result.json and progress.csv were not found at /root/ray_results/train_cifar_2025-11-02_00-34-58/train_cifar_c2c1d_00005_5_batch_size=16,l1=64,l2=16,lr=0.0100_2025-11-02_00-34-58')\n",
            "- train_cifar_c2c1d_00006: FileNotFoundError('Could not fetch metrics for train_cifar_c2c1d_00006: both result.json and progress.csv were not found at /root/ray_results/train_cifar_2025-11-02_00-34-58/train_cifar_c2c1d_00006_6_batch_size=16,l1=32,l2=32,lr=0.0100_2025-11-02_00-34-58')\n",
            "- train_cifar_c2c1d_00007: FileNotFoundError('Could not fetch metrics for train_cifar_c2c1d_00007: both result.json and progress.csv were not found at /root/ray_results/train_cifar_2025-11-02_00-34-58/train_cifar_c2c1d_00007_7_batch_size=16,l1=64,l2=32,lr=0.0100_2025-11-02_00-34-58')\n",
            "- train_cifar_c2c1d_00008: FileNotFoundError('Could not fetch metrics for train_cifar_c2c1d_00008: both result.json and progress.csv were not found at /root/ray_results/train_cifar_2025-11-02_00-34-58/train_cifar_c2c1d_00008_8_batch_size=16,l1=32,l2=16,lr=0.0001_2025-11-02_00-34-58')\n",
            "- train_cifar_c2c1d_00009: FileNotFoundError('Could not fetch metrics for train_cifar_c2c1d_00009: both result.json and progress.csv were not found at /root/ray_results/train_cifar_2025-11-02_00-34-58/train_cifar_c2c1d_00009_9_batch_size=16,l1=64,l2=16,lr=0.0001_2025-11-02_00-34-58')\n",
            "- train_cifar_c2c1d_00010: FileNotFoundError('Could not fetch metrics for train_cifar_c2c1d_00010: both result.json and progress.csv were not found at /root/ray_results/train_cifar_2025-11-02_00-34-58/train_cifar_c2c1d_00010_10_batch_size=16,l1=32,l2=32,lr=0.0001_2025-11-02_00-34-58')\n",
            "- train_cifar_c2c1d_00011: FileNotFoundError('Could not fetch metrics for train_cifar_c2c1d_00011: both result.json and progress.csv were not found at /root/ray_results/train_cifar_2025-11-02_00-34-58/train_cifar_c2c1d_00011_11_batch_size=16,l1=64,l2=32,lr=0.0001_2025-11-02_00-34-58')\n",
            "- train_cifar_c2c1d_00012: FileNotFoundError('Could not fetch metrics for train_cifar_c2c1d_00012: both result.json and progress.csv were not found at /root/ray_results/train_cifar_2025-11-02_00-34-58/train_cifar_c2c1d_00012_12_batch_size=16,l1=32,l2=16,lr=0.0100_2025-11-02_00-34-58')\n",
            "- train_cifar_c2c1d_00013: FileNotFoundError('Could not fetch metrics for train_cifar_c2c1d_00013: both result.json and progress.csv were not found at /root/ray_results/train_cifar_2025-11-02_00-34-58/train_cifar_c2c1d_00013_13_batch_size=16,l1=64,l2=16,lr=0.0100_2025-11-02_00-34-58')\n",
            "- train_cifar_c2c1d_00014: FileNotFoundError('Could not fetch metrics for train_cifar_c2c1d_00014: both result.json and progress.csv were not found at /root/ray_results/train_cifar_2025-11-02_00-34-58/train_cifar_c2c1d_00014_14_batch_size=16,l1=32,l2=32,lr=0.0100_2025-11-02_00-34-58')\n",
            "- train_cifar_c2c1d_00015: FileNotFoundError('Could not fetch metrics for train_cifar_c2c1d_00015: both result.json and progress.csv were not found at /root/ray_results/train_cifar_2025-11-02_00-34-58/train_cifar_c2c1d_00015_15_batch_size=16,l1=64,l2=32,lr=0.0100_2025-11-02_00-34-58')\n",
            "- train_cifar_c2c1d_00016: FileNotFoundError('Could not fetch metrics for train_cifar_c2c1d_00016: both result.json and progress.csv were not found at /root/ray_results/train_cifar_2025-11-02_00-34-58/train_cifar_c2c1d_00016_16_batch_size=16,l1=32,l2=16,lr=0.0001_2025-11-02_00-34-58')\n",
            "- train_cifar_c2c1d_00017: FileNotFoundError('Could not fetch metrics for train_cifar_c2c1d_00017: both result.json and progress.csv were not found at /root/ray_results/train_cifar_2025-11-02_00-34-58/train_cifar_c2c1d_00017_17_batch_size=16,l1=64,l2=16,lr=0.0001_2025-11-02_00-34-58')\n",
            "- train_cifar_c2c1d_00018: FileNotFoundError('Could not fetch metrics for train_cifar_c2c1d_00018: both result.json and progress.csv were not found at /root/ray_results/train_cifar_2025-11-02_00-34-58/train_cifar_c2c1d_00018_18_batch_size=16,l1=32,l2=32,lr=0.0001_2025-11-02_00-34-59')\n",
            "- train_cifar_c2c1d_00019: FileNotFoundError('Could not fetch metrics for train_cifar_c2c1d_00019: both result.json and progress.csv were not found at /root/ray_results/train_cifar_2025-11-02_00-34-58/train_cifar_c2c1d_00019_19_batch_size=16,l1=64,l2=32,lr=0.0001_2025-11-02_00-34-59')\n",
            "- train_cifar_c2c1d_00020: FileNotFoundError('Could not fetch metrics for train_cifar_c2c1d_00020: both result.json and progress.csv were not found at /root/ray_results/train_cifar_2025-11-02_00-34-58/train_cifar_c2c1d_00020_20_batch_size=16,l1=32,l2=16,lr=0.0100_2025-11-02_00-34-59')\n",
            "- train_cifar_c2c1d_00021: FileNotFoundError('Could not fetch metrics for train_cifar_c2c1d_00021: both result.json and progress.csv were not found at /root/ray_results/train_cifar_2025-11-02_00-34-58/train_cifar_c2c1d_00021_21_batch_size=16,l1=64,l2=16,lr=0.0100_2025-11-02_00-34-59')\n",
            "- train_cifar_c2c1d_00022: FileNotFoundError('Could not fetch metrics for train_cifar_c2c1d_00022: both result.json and progress.csv were not found at /root/ray_results/train_cifar_2025-11-02_00-34-58/train_cifar_c2c1d_00022_22_batch_size=16,l1=32,l2=32,lr=0.0100_2025-11-02_00-34-59')\n",
            "- train_cifar_c2c1d_00023: FileNotFoundError('Could not fetch metrics for train_cifar_c2c1d_00023: both result.json and progress.csv were not found at /root/ray_results/train_cifar_2025-11-02_00-34-58/train_cifar_c2c1d_00023_23_batch_size=16,l1=64,l2=32,lr=0.0100_2025-11-02_00-34-59')\n",
            "- train_cifar_c2c1d_00024: FileNotFoundError('Could not fetch metrics for train_cifar_c2c1d_00024: both result.json and progress.csv were not found at /root/ray_results/train_cifar_2025-11-02_00-34-58/train_cifar_c2c1d_00024_24_batch_size=16,l1=32,l2=16,lr=0.0001_2025-11-02_00-34-59')\n",
            "- train_cifar_c2c1d_00025: FileNotFoundError('Could not fetch metrics for train_cifar_c2c1d_00025: both result.json and progress.csv were not found at /root/ray_results/train_cifar_2025-11-02_00-34-58/train_cifar_c2c1d_00025_25_batch_size=16,l1=64,l2=16,lr=0.0001_2025-11-02_00-34-59')\n",
            "- train_cifar_c2c1d_00026: FileNotFoundError('Could not fetch metrics for train_cifar_c2c1d_00026: both result.json and progress.csv were not found at /root/ray_results/train_cifar_2025-11-02_00-34-58/train_cifar_c2c1d_00026_26_batch_size=16,l1=32,l2=32,lr=0.0001_2025-11-02_00-34-59')\n",
            "- train_cifar_c2c1d_00027: FileNotFoundError('Could not fetch metrics for train_cifar_c2c1d_00027: both result.json and progress.csv were not found at /root/ray_results/train_cifar_2025-11-02_00-34-58/train_cifar_c2c1d_00027_27_batch_size=16,l1=64,l2=32,lr=0.0001_2025-11-02_00-34-59')\n",
            "- train_cifar_c2c1d_00028: FileNotFoundError('Could not fetch metrics for train_cifar_c2c1d_00028: both result.json and progress.csv were not found at /root/ray_results/train_cifar_2025-11-02_00-34-58/train_cifar_c2c1d_00028_28_batch_size=16,l1=32,l2=16,lr=0.0100_2025-11-02_00-34-59')\n",
            "- train_cifar_c2c1d_00029: FileNotFoundError('Could not fetch metrics for train_cifar_c2c1d_00029: both result.json and progress.csv were not found at /root/ray_results/train_cifar_2025-11-02_00-34-58/train_cifar_c2c1d_00029_29_batch_size=16,l1=64,l2=16,lr=0.0100_2025-11-02_00-34-59')\n",
            "- train_cifar_c2c1d_00030: FileNotFoundError('Could not fetch metrics for train_cifar_c2c1d_00030: both result.json and progress.csv were not found at /root/ray_results/train_cifar_2025-11-02_00-34-58/train_cifar_c2c1d_00030_30_batch_size=16,l1=32,l2=32,lr=0.0100_2025-11-02_00-34-59')\n",
            "- train_cifar_c2c1d_00031: FileNotFoundError('Could not fetch metrics for train_cifar_c2c1d_00031: both result.json and progress.csv were not found at /root/ray_results/train_cifar_2025-11-02_00-34-58/train_cifar_c2c1d_00031_31_batch_size=16,l1=64,l2=32,lr=0.0100_2025-11-02_00-34-59')\n",
            "- train_cifar_c2c1d_00032: FileNotFoundError('Could not fetch metrics for train_cifar_c2c1d_00032: both result.json and progress.csv were not found at /root/ray_results/train_cifar_2025-11-02_00-34-58/train_cifar_c2c1d_00032_32_batch_size=16,l1=32,l2=16,lr=0.0001_2025-11-02_00-34-59')\n",
            "- train_cifar_c2c1d_00033: FileNotFoundError('Could not fetch metrics for train_cifar_c2c1d_00033: both result.json and progress.csv were not found at /root/ray_results/train_cifar_2025-11-02_00-34-58/train_cifar_c2c1d_00033_33_batch_size=16,l1=64,l2=16,lr=0.0001_2025-11-02_00-34-59')\n",
            "- train_cifar_c2c1d_00034: FileNotFoundError('Could not fetch metrics for train_cifar_c2c1d_00034: both result.json and progress.csv were not found at /root/ray_results/train_cifar_2025-11-02_00-34-58/train_cifar_c2c1d_00034_34_batch_size=16,l1=32,l2=32,lr=0.0001_2025-11-02_00-34-59')\n",
            "- train_cifar_c2c1d_00035: FileNotFoundError('Could not fetch metrics for train_cifar_c2c1d_00035: both result.json and progress.csv were not found at /root/ray_results/train_cifar_2025-11-02_00-34-58/train_cifar_c2c1d_00035_35_batch_size=16,l1=64,l2=32,lr=0.0001_2025-11-02_00-34-59')\n",
            "- train_cifar_c2c1d_00036: FileNotFoundError('Could not fetch metrics for train_cifar_c2c1d_00036: both result.json and progress.csv were not found at /root/ray_results/train_cifar_2025-11-02_00-34-58/train_cifar_c2c1d_00036_36_batch_size=16,l1=32,l2=16,lr=0.0100_2025-11-02_00-34-59')\n",
            "- train_cifar_c2c1d_00037: FileNotFoundError('Could not fetch metrics for train_cifar_c2c1d_00037: both result.json and progress.csv were not found at /root/ray_results/train_cifar_2025-11-02_00-34-58/train_cifar_c2c1d_00037_37_batch_size=16,l1=64,l2=16,lr=0.0100_2025-11-02_00-34-59')\n",
            "- train_cifar_c2c1d_00038: FileNotFoundError('Could not fetch metrics for train_cifar_c2c1d_00038: both result.json and progress.csv were not found at /root/ray_results/train_cifar_2025-11-02_00-34-58/train_cifar_c2c1d_00038_38_batch_size=16,l1=32,l2=32,lr=0.0100_2025-11-02_00-34-59')\n",
            "- train_cifar_c2c1d_00039: FileNotFoundError('Could not fetch metrics for train_cifar_c2c1d_00039: both result.json and progress.csv were not found at /root/ray_results/train_cifar_2025-11-02_00-34-58/train_cifar_c2c1d_00039_39_batch_size=16,l1=64,l2=32,lr=0.0100_2025-11-02_00-34-59')\n",
            "- train_cifar_c2c1d_00040: FileNotFoundError('Could not fetch metrics for train_cifar_c2c1d_00040: both result.json and progress.csv were not found at /root/ray_results/train_cifar_2025-11-02_00-34-58/train_cifar_c2c1d_00040_40_batch_size=16,l1=32,l2=16,lr=0.0001_2025-11-02_00-34-59')\n",
            "- train_cifar_c2c1d_00041: FileNotFoundError('Could not fetch metrics for train_cifar_c2c1d_00041: both result.json and progress.csv were not found at /root/ray_results/train_cifar_2025-11-02_00-34-58/train_cifar_c2c1d_00041_41_batch_size=16,l1=64,l2=16,lr=0.0001_2025-11-02_00-34-59')\n",
            "- train_cifar_c2c1d_00042: FileNotFoundError('Could not fetch metrics for train_cifar_c2c1d_00042: both result.json and progress.csv were not found at /root/ray_results/train_cifar_2025-11-02_00-34-58/train_cifar_c2c1d_00042_42_batch_size=16,l1=32,l2=32,lr=0.0001_2025-11-02_00-34-59')\n",
            "- train_cifar_c2c1d_00043: FileNotFoundError('Could not fetch metrics for train_cifar_c2c1d_00043: both result.json and progress.csv were not found at /root/ray_results/train_cifar_2025-11-02_00-34-58/train_cifar_c2c1d_00043_43_batch_size=16,l1=64,l2=32,lr=0.0001_2025-11-02_00-34-59')\n",
            "- train_cifar_c2c1d_00044: FileNotFoundError('Could not fetch metrics for train_cifar_c2c1d_00044: both result.json and progress.csv were not found at /root/ray_results/train_cifar_2025-11-02_00-34-58/train_cifar_c2c1d_00044_44_batch_size=16,l1=32,l2=16,lr=0.0100_2025-11-02_00-34-59')\n",
            "- train_cifar_c2c1d_00045: FileNotFoundError('Could not fetch metrics for train_cifar_c2c1d_00045: both result.json and progress.csv were not found at /root/ray_results/train_cifar_2025-11-02_00-34-58/train_cifar_c2c1d_00045_45_batch_size=16,l1=64,l2=16,lr=0.0100_2025-11-02_00-34-59')\n",
            "- train_cifar_c2c1d_00046: FileNotFoundError('Could not fetch metrics for train_cifar_c2c1d_00046: both result.json and progress.csv were not found at /root/ray_results/train_cifar_2025-11-02_00-34-58/train_cifar_c2c1d_00046_46_batch_size=16,l1=32,l2=32,lr=0.0100_2025-11-02_00-34-59')\n",
            "- train_cifar_c2c1d_00047: FileNotFoundError('Could not fetch metrics for train_cifar_c2c1d_00047: both result.json and progress.csv were not found at /root/ray_results/train_cifar_2025-11-02_00-34-58/train_cifar_c2c1d_00047_47_batch_size=16,l1=64,l2=32,lr=0.0100_2025-11-02_00-34-59')\n",
            "- train_cifar_c2c1d_00048: FileNotFoundError('Could not fetch metrics for train_cifar_c2c1d_00048: both result.json and progress.csv were not found at /root/ray_results/train_cifar_2025-11-02_00-34-58/train_cifar_c2c1d_00048_48_batch_size=16,l1=32,l2=16,lr=0.0001_2025-11-02_00-34-59')\n",
            "- train_cifar_c2c1d_00049: FileNotFoundError('Could not fetch metrics for train_cifar_c2c1d_00049: both result.json and progress.csv were not found at /root/ray_results/train_cifar_2025-11-02_00-34-58/train_cifar_c2c1d_00049_49_batch_size=16,l1=64,l2=16,lr=0.0001_2025-11-02_00-34-59')\n",
            "- train_cifar_c2c1d_00050: FileNotFoundError('Could not fetch metrics for train_cifar_c2c1d_00050: both result.json and progress.csv were not found at /root/ray_results/train_cifar_2025-11-02_00-34-58/train_cifar_c2c1d_00050_50_batch_size=16,l1=32,l2=32,lr=0.0001_2025-11-02_00-34-59')\n",
            "- train_cifar_c2c1d_00051: FileNotFoundError('Could not fetch metrics for train_cifar_c2c1d_00051: both result.json and progress.csv were not found at /root/ray_results/train_cifar_2025-11-02_00-34-58/train_cifar_c2c1d_00051_51_batch_size=16,l1=64,l2=32,lr=0.0001_2025-11-02_00-34-59')\n",
            "- train_cifar_c2c1d_00052: FileNotFoundError('Could not fetch metrics for train_cifar_c2c1d_00052: both result.json and progress.csv were not found at /root/ray_results/train_cifar_2025-11-02_00-34-58/train_cifar_c2c1d_00052_52_batch_size=16,l1=32,l2=16,lr=0.0100_2025-11-02_00-34-59')\n",
            "- train_cifar_c2c1d_00053: FileNotFoundError('Could not fetch metrics for train_cifar_c2c1d_00053: both result.json and progress.csv were not found at /root/ray_results/train_cifar_2025-11-02_00-34-58/train_cifar_c2c1d_00053_53_batch_size=16,l1=64,l2=16,lr=0.0100_2025-11-02_00-34-59')\n",
            "- train_cifar_c2c1d_00054: FileNotFoundError('Could not fetch metrics for train_cifar_c2c1d_00054: both result.json and progress.csv were not found at /root/ray_results/train_cifar_2025-11-02_00-34-58/train_cifar_c2c1d_00054_54_batch_size=16,l1=32,l2=32,lr=0.0100_2025-11-02_00-34-59')\n",
            "- train_cifar_c2c1d_00055: FileNotFoundError('Could not fetch metrics for train_cifar_c2c1d_00055: both result.json and progress.csv were not found at /root/ray_results/train_cifar_2025-11-02_00-34-58/train_cifar_c2c1d_00055_55_batch_size=16,l1=64,l2=32,lr=0.0100_2025-11-02_00-34-59')\n",
            "- train_cifar_c2c1d_00056: FileNotFoundError('Could not fetch metrics for train_cifar_c2c1d_00056: both result.json and progress.csv were not found at /root/ray_results/train_cifar_2025-11-02_00-34-58/train_cifar_c2c1d_00056_56_batch_size=16,l1=32,l2=16,lr=0.0001_2025-11-02_00-34-59')\n",
            "- train_cifar_c2c1d_00057: FileNotFoundError('Could not fetch metrics for train_cifar_c2c1d_00057: both result.json and progress.csv were not found at /root/ray_results/train_cifar_2025-11-02_00-34-58/train_cifar_c2c1d_00057_57_batch_size=16,l1=64,l2=16,lr=0.0001_2025-11-02_00-34-59')\n",
            "- train_cifar_c2c1d_00058: FileNotFoundError('Could not fetch metrics for train_cifar_c2c1d_00058: both result.json and progress.csv were not found at /root/ray_results/train_cifar_2025-11-02_00-34-58/train_cifar_c2c1d_00058_58_batch_size=16,l1=32,l2=32,lr=0.0001_2025-11-02_00-34-59')\n",
            "- train_cifar_c2c1d_00059: FileNotFoundError('Could not fetch metrics for train_cifar_c2c1d_00059: both result.json and progress.csv were not found at /root/ray_results/train_cifar_2025-11-02_00-34-58/train_cifar_c2c1d_00059_59_batch_size=16,l1=64,l2=32,lr=0.0001_2025-11-02_00-34-59')\n",
            "- train_cifar_c2c1d_00060: FileNotFoundError('Could not fetch metrics for train_cifar_c2c1d_00060: both result.json and progress.csv were not found at /root/ray_results/train_cifar_2025-11-02_00-34-58/train_cifar_c2c1d_00060_60_batch_size=16,l1=32,l2=16,lr=0.0100_2025-11-02_00-34-59')\n",
            "- train_cifar_c2c1d_00061: FileNotFoundError('Could not fetch metrics for train_cifar_c2c1d_00061: both result.json and progress.csv were not found at /root/ray_results/train_cifar_2025-11-02_00-34-58/train_cifar_c2c1d_00061_61_batch_size=16,l1=64,l2=16,lr=0.0100_2025-11-02_00-34-59')\n",
            "- train_cifar_c2c1d_00062: FileNotFoundError('Could not fetch metrics for train_cifar_c2c1d_00062: both result.json and progress.csv were not found at /root/ray_results/train_cifar_2025-11-02_00-34-58/train_cifar_c2c1d_00062_62_batch_size=16,l1=32,l2=32,lr=0.0100_2025-11-02_00-34-59')\n",
            "- train_cifar_c2c1d_00063: FileNotFoundError('Could not fetch metrics for train_cifar_c2c1d_00063: both result.json and progress.csv were not found at /root/ray_results/train_cifar_2025-11-02_00-34-58/train_cifar_c2c1d_00063_63_batch_size=16,l1=64,l2=32,lr=0.0100_2025-11-02_00-34-59')\n",
            "- train_cifar_c2c1d_00064: FileNotFoundError('Could not fetch metrics for train_cifar_c2c1d_00064: both result.json and progress.csv were not found at /root/ray_results/train_cifar_2025-11-02_00-34-58/train_cifar_c2c1d_00064_64_batch_size=16,l1=32,l2=16,lr=0.0001_2025-11-02_00-34-59')\n",
            "- train_cifar_c2c1d_00065: FileNotFoundError('Could not fetch metrics for train_cifar_c2c1d_00065: both result.json and progress.csv were not found at /root/ray_results/train_cifar_2025-11-02_00-34-58/train_cifar_c2c1d_00065_65_batch_size=16,l1=64,l2=16,lr=0.0001_2025-11-02_00-34-59')\n",
            "- train_cifar_c2c1d_00066: FileNotFoundError('Could not fetch metrics for train_cifar_c2c1d_00066: both result.json and progress.csv were not found at /root/ray_results/train_cifar_2025-11-02_00-34-58/train_cifar_c2c1d_00066_66_batch_size=16,l1=32,l2=32,lr=0.0001_2025-11-02_00-34-59')\n",
            "- train_cifar_c2c1d_00067: FileNotFoundError('Could not fetch metrics for train_cifar_c2c1d_00067: both result.json and progress.csv were not found at /root/ray_results/train_cifar_2025-11-02_00-34-58/train_cifar_c2c1d_00067_67_batch_size=16,l1=64,l2=32,lr=0.0001_2025-11-02_00-34-59')\n",
            "- train_cifar_c2c1d_00068: FileNotFoundError('Could not fetch metrics for train_cifar_c2c1d_00068: both result.json and progress.csv were not found at /root/ray_results/train_cifar_2025-11-02_00-34-58/train_cifar_c2c1d_00068_68_batch_size=16,l1=32,l2=16,lr=0.0100_2025-11-02_00-34-59')\n",
            "- train_cifar_c2c1d_00069: FileNotFoundError('Could not fetch metrics for train_cifar_c2c1d_00069: both result.json and progress.csv were not found at /root/ray_results/train_cifar_2025-11-02_00-34-58/train_cifar_c2c1d_00069_69_batch_size=16,l1=64,l2=16,lr=0.0100_2025-11-02_00-34-59')\n",
            "- train_cifar_c2c1d_00070: FileNotFoundError('Could not fetch metrics for train_cifar_c2c1d_00070: both result.json and progress.csv were not found at /root/ray_results/train_cifar_2025-11-02_00-34-58/train_cifar_c2c1d_00070_70_batch_size=16,l1=32,l2=32,lr=0.0100_2025-11-02_00-34-59')\n",
            "- train_cifar_c2c1d_00071: FileNotFoundError('Could not fetch metrics for train_cifar_c2c1d_00071: both result.json and progress.csv were not found at /root/ray_results/train_cifar_2025-11-02_00-34-58/train_cifar_c2c1d_00071_71_batch_size=16,l1=64,l2=32,lr=0.0100_2025-11-02_00-34-59')\n",
            "- train_cifar_c2c1d_00072: FileNotFoundError('Could not fetch metrics for train_cifar_c2c1d_00072: both result.json and progress.csv were not found at /root/ray_results/train_cifar_2025-11-02_00-34-58/train_cifar_c2c1d_00072_72_batch_size=16,l1=32,l2=16,lr=0.0001_2025-11-02_00-34-59')\n",
            "- train_cifar_c2c1d_00073: FileNotFoundError('Could not fetch metrics for train_cifar_c2c1d_00073: both result.json and progress.csv were not found at /root/ray_results/train_cifar_2025-11-02_00-34-58/train_cifar_c2c1d_00073_73_batch_size=16,l1=64,l2=16,lr=0.0001_2025-11-02_00-34-59')\n",
            "- train_cifar_c2c1d_00074: FileNotFoundError('Could not fetch metrics for train_cifar_c2c1d_00074: both result.json and progress.csv were not found at /root/ray_results/train_cifar_2025-11-02_00-34-58/train_cifar_c2c1d_00074_74_batch_size=16,l1=32,l2=32,lr=0.0001_2025-11-02_00-34-59')\n",
            "- train_cifar_c2c1d_00075: FileNotFoundError('Could not fetch metrics for train_cifar_c2c1d_00075: both result.json and progress.csv were not found at /root/ray_results/train_cifar_2025-11-02_00-34-58/train_cifar_c2c1d_00075_75_batch_size=16,l1=64,l2=32,lr=0.0001_2025-11-02_00-34-59')\n",
            "- train_cifar_c2c1d_00076: FileNotFoundError('Could not fetch metrics for train_cifar_c2c1d_00076: both result.json and progress.csv were not found at /root/ray_results/train_cifar_2025-11-02_00-34-58/train_cifar_c2c1d_00076_76_batch_size=16,l1=32,l2=16,lr=0.0100_2025-11-02_00-34-59')\n",
            "- train_cifar_c2c1d_00077: FileNotFoundError('Could not fetch metrics for train_cifar_c2c1d_00077: both result.json and progress.csv were not found at /root/ray_results/train_cifar_2025-11-02_00-34-58/train_cifar_c2c1d_00077_77_batch_size=16,l1=64,l2=16,lr=0.0100_2025-11-02_00-34-59')\n",
            "- train_cifar_c2c1d_00078: FileNotFoundError('Could not fetch metrics for train_cifar_c2c1d_00078: both result.json and progress.csv were not found at /root/ray_results/train_cifar_2025-11-02_00-34-58/train_cifar_c2c1d_00078_78_batch_size=16,l1=32,l2=32,lr=0.0100_2025-11-02_00-34-59')\n",
            "- train_cifar_c2c1d_00079: FileNotFoundError('Could not fetch metrics for train_cifar_c2c1d_00079: both result.json and progress.csv were not found at /root/ray_results/train_cifar_2025-11-02_00-34-58/train_cifar_c2c1d_00079_79_batch_size=16,l1=64,l2=32,lr=0.0100_2025-11-02_00-34-59')\n"
          ]
        },
        {
          "output_type": "stream",
          "name": "stdout",
          "text": [
            "\n"
          ]
        }
      ],
      "metadata": {
        "colab": {
          "base_uri": "https://localhost:8080/"
        },
        "id": "pDyf2Ku1H1ba",
        "outputId": "28ff58da-f865-43e9-8dff-18549f7a4333",
        "collapsed": true
      }
    },
    {
      "cell_type": "markdown",
      "source": [
        "Cài đặt thư viện skorch"
      ],
      "metadata": {
        "id": "oPH29KZuyJsL"
      }
    },
    {
      "cell_type": "code",
      "execution_count": 33,
      "source": [
        "!pip install skorch\n",
        "import numpy as np\n",
        "from sklearn.datasets import make_classification\n",
        "from torch import nn\n",
        "\n",
        "from skorch import NeuralNetClassifier\n",
        "from sklearn.model_selection import GridSearchCV"
      ],
      "outputs": [
        {
          "output_type": "stream",
          "name": "stdout",
          "text": [
            "Requirement already satisfied: skorch in /usr/local/lib/python3.12/dist-packages (1.2.0)\n",
            "Requirement already satisfied: numpy>=1.13.3 in /usr/local/lib/python3.12/dist-packages (from skorch) (2.0.2)\n",
            "Requirement already satisfied: scikit-learn>=0.22.0 in /usr/local/lib/python3.12/dist-packages (from skorch) (1.6.1)\n",
            "Requirement already satisfied: scipy>=1.1.0 in /usr/local/lib/python3.12/dist-packages (from skorch) (1.16.3)\n",
            "Requirement already satisfied: tabulate>=0.7.7 in /usr/local/lib/python3.12/dist-packages (from skorch) (0.9.0)\n",
            "Requirement already satisfied: tqdm>=4.14.0 in /usr/local/lib/python3.12/dist-packages (from skorch) (4.67.1)\n",
            "Requirement already satisfied: joblib>=1.2.0 in /usr/local/lib/python3.12/dist-packages (from scikit-learn>=0.22.0->skorch) (1.5.2)\n",
            "Requirement already satisfied: threadpoolctl>=3.1.0 in /usr/local/lib/python3.12/dist-packages (from scikit-learn>=0.22.0->skorch) (3.6.0)\n"
          ]
        }
      ],
      "metadata": {
        "id": "SVnRxqZpJXwm",
        "colab": {
          "base_uri": "https://localhost:8080/"
        },
        "outputId": "99f68c6d-f44c-43e4-8263-9a7bcc91c595"
      }
    },
    {
      "cell_type": "markdown",
      "source": [
        "Sử dụng thư viện skorch để huấn luyện"
      ],
      "metadata": {
        "id": "Pr_C49BvyJsM"
      }
    },
    {
      "cell_type": "code",
      "execution_count": 35,
      "source": [
        "trainset, testset = load_data('./data')\n",
        "(X, y) = np.asarray(trainset.data[:]), np.asarray(trainset.targets[:])\n",
        "X = X.reshape((-1, 3, 32, 32))\n",
        "X = X.astype(np.float32)\n",
        "y = y.astype(np.int64)\n",
        "\n",
        "net = NeuralNetClassifier(\n",
        "    Net,\n",
        "    max_epochs=5,\n",
        "    lr=0.01,\n",
        "    # Shuffle training data on each epoch\n",
        "    iterator_train__shuffle=True,\n",
        ")\n",
        "\n",
        "# training with default config\n",
        "net.fit(X, y)\n",
        "y_proba = net.predict_proba(X)"
      ],
      "outputs": [
        {
          "output_type": "stream",
          "name": "stdout",
          "text": [
            "  epoch    train_loss    valid_acc    valid_loss     dur\n",
            "-------  ------------  -----------  ------------  ------\n",
            "      1       \u001b[36m14.2980\u001b[0m       \u001b[32m0.1000\u001b[0m       \u001b[35m14.3481\u001b[0m  9.8369\n",
            "      2       14.3481       0.1000       14.3481  10.5996\n",
            "      3       14.3481       0.1000       14.3481  9.8327\n",
            "      4       14.3481       0.1000       14.3481  8.7551\n",
            "      5       14.3481       0.1000       14.3481  9.5785\n"
          ]
        }
      ],
      "metadata": {
        "id": "We2jqjXx4tf7",
        "colab": {
          "base_uri": "https://localhost:8080/"
        },
        "outputId": "9c876490-9791-49ad-bae0-7a1916a1259d"
      }
    },
    {
      "cell_type": "markdown",
      "source": [
        "Dùng skorch để lựa chọn siêu tham số"
      ],
      "metadata": {
        "id": "Fmaw5MiyyJsM"
      }
    },
    {
      "cell_type": "code",
      "execution_count": 36,
      "source": [
        "# hyperparameter tuning\n",
        "net.set_params(train_split=False, verbose=0)\n",
        "# Liệt kê các giá trị siêu tham số cần search và dùng hàm gridsearchCV để tìm giá trị tối ưu\n",
        "\n",
        "params = {\n",
        "  'lr': [1e-4, 1e-2],\n",
        "  'module__l1': [32, 64],\n",
        "  'module__l2': [16, 32],\n",
        "}\n",
        "\n",
        "gs = GridSearchCV(net, params, refit=False, cv=3, scoring='accuracy', verbose=2)\n",
        "\n",
        "gs.fit(X, y)\n",
        "print(\"best score: {:.3f}, best params: {}\".format(gs.best_score_, gs.best_params_))"
      ],
      "outputs": [
        {
          "output_type": "stream",
          "name": "stdout",
          "text": [
            "Fitting 3 folds for each of 8 candidates, totalling 24 fits\n",
            "[CV] END ............lr=0.0001, module__l1=32, module__l2=16; total time=  36.0s\n",
            "[CV] END ............lr=0.0001, module__l1=32, module__l2=16; total time=  35.4s\n",
            "[CV] END ............lr=0.0001, module__l1=32, module__l2=16; total time=  34.1s\n",
            "[CV] END ............lr=0.0001, module__l1=32, module__l2=32; total time=  35.0s\n",
            "[CV] END ............lr=0.0001, module__l1=32, module__l2=32; total time=  35.7s\n",
            "[CV] END ............lr=0.0001, module__l1=32, module__l2=32; total time=  34.7s\n",
            "[CV] END ............lr=0.0001, module__l1=64, module__l2=16; total time=  44.2s\n",
            "[CV] END ............lr=0.0001, module__l1=64, module__l2=16; total time=  34.8s\n",
            "[CV] END ............lr=0.0001, module__l1=64, module__l2=16; total time=  36.1s\n",
            "[CV] END ............lr=0.0001, module__l1=64, module__l2=32; total time=  38.0s\n",
            "[CV] END ............lr=0.0001, module__l1=64, module__l2=32; total time=  35.9s\n",
            "[CV] END ............lr=0.0001, module__l1=64, module__l2=32; total time=  36.3s\n",
            "[CV] END ..............lr=0.01, module__l1=32, module__l2=16; total time=  34.2s\n",
            "[CV] END ..............lr=0.01, module__l1=32, module__l2=16; total time=  34.3s\n",
            "[CV] END ..............lr=0.01, module__l1=32, module__l2=16; total time=  32.4s\n",
            "[CV] END ..............lr=0.01, module__l1=32, module__l2=32; total time=  33.9s\n",
            "[CV] END ..............lr=0.01, module__l1=32, module__l2=32; total time=  32.4s\n",
            "[CV] END ..............lr=0.01, module__l1=32, module__l2=32; total time=  34.5s\n",
            "[CV] END ..............lr=0.01, module__l1=64, module__l2=16; total time=  33.9s\n",
            "[CV] END ..............lr=0.01, module__l1=64, module__l2=16; total time=  34.7s\n",
            "[CV] END ..............lr=0.01, module__l1=64, module__l2=16; total time=  34.7s\n",
            "[CV] END ..............lr=0.01, module__l1=64, module__l2=32; total time=  33.3s\n",
            "[CV] END ..............lr=0.01, module__l1=64, module__l2=32; total time=  34.4s\n",
            "[CV] END ..............lr=0.01, module__l1=64, module__l2=32; total time=  34.3s\n",
            "best score: 0.291, best params: {'lr': 0.01, 'module__l1': 64, 'module__l2': 32}\n"
          ]
        }
      ],
      "metadata": {
        "id": "Y0ixOx3SHd8H",
        "colab": {
          "base_uri": "https://localhost:8080/"
        },
        "outputId": "89afca49-0c92-4d43-be8d-d6a65f3cde73"
      }
    }
  ]
}