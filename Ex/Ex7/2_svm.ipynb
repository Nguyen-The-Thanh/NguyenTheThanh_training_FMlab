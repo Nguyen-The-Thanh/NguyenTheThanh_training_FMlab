{
  "cells": [
    {
      "cell_type": "markdown",
      "metadata": {
        "id": "view-in-github",
        "colab_type": "text"
      },
      "source": [
        "<a href=\"https://colab.research.google.com/github/Nguyen-The-Thanh/NguyenTheThanh_training_FMlab/blob/main/Ex/Ex7/2_svm.ipynb\" target=\"_parent\"><img src=\"https://colab.research.google.com/assets/colab-badge.svg\" alt=\"Open In Colab\"/></a>"
      ]
    },
    {
      "cell_type": "markdown",
      "metadata": {
        "id": "Itwh9bt4E7tQ"
      },
      "source": [
        "# Bài toán phân loại sử dụng SVM\n"
      ]
    },
    {
      "cell_type": "markdown",
      "metadata": {
        "id": "AcBU1ivsE7ta"
      },
      "source": [
        "Mục tiêu:\n",
        "\n",
        "- Xây dựng được mô hình svm sử dụng thư viện sklearn.\n",
        "- Ứng dụng, hiểu cách áp dụng mô hình svm vào giải quyết bài toán thực tế (vd: phân loại tin tức dạng văn bản) .\n",
        "- Sử dụng độ đo Accuracy để làm độ đo đánh giá chất lượng mô hình.\n",
        "\n",
        "Vấn đề:\n",
        "\n",
        "- Có một tập các văn bản dạng text không có nhãn, làm sao để biết văn bản này là thuộc về thể loại nào, pháp luật, đời sống, văn học, thể thao ...\n",
        "- Cần xây dựng mô hình học máy phân loại các thể loại của văn bản dựa trên nội dung.  \n",
        "\n",
        "Dữ liệu:\n",
        "\n",
        "- Có tập các văn bản và nhãn tương ứng của từng văn bản trong một khoảng thời gian\n",
        "- Tập các nhãn - 10 nhãn văn bản:\n",
        "    > Giải trí, Khoa học - Công nghệ, Kinh tế, Pháp luật, Sức khỏe, Thể thao, Thời sự, Tin khác, Độc giả, Đời sống - Xã hội\n",
        "- Ví dụ văn bản nhãn **thể thao**:\n",
        "    > \"Dân_trí Real Madrid đã dẫn trước trong cả trận đấu , nhưng họ vẫn phải chấp_nhận bị Dortmund cầm hòa 2-2 ở Bernabeu . Real Madrid chấp_nhận đứng thứ_hai ở bảng F Champions League ...\"\n",
        "\n",
        "Bài toán:\n",
        "\n",
        "- Input: tập các từ trong văn bản 1 mẫu dữ liệu $X = [x_1, x_2, ... x_n]$\n",
        "- Output: nhãn $y$ là 1 trong 10 nhãn trên"
      ]
    },
    {
      "cell_type": "code",
      "execution_count": 56,
      "metadata": {
        "colab": {
          "base_uri": "https://localhost:8080/"
        },
        "id": "dDjdShtLE7td",
        "outputId": "5b20f3b5-7b5b-49a6-b42e-f47123ba9f92"
      },
      "outputs": [
        {
          "output_type": "stream",
          "name": "stdout",
          "text": [
            "Requirement already satisfied: pyvi in /usr/local/lib/python3.12/dist-packages (0.1.1)\n",
            "Requirement already satisfied: scikit-learn in /usr/local/lib/python3.12/dist-packages (from pyvi) (1.6.1)\n",
            "Requirement already satisfied: sklearn-crfsuite in /usr/local/lib/python3.12/dist-packages (from pyvi) (0.5.0)\n",
            "Requirement already satisfied: numpy>=1.19.5 in /usr/local/lib/python3.12/dist-packages (from scikit-learn->pyvi) (2.0.2)\n",
            "Requirement already satisfied: scipy>=1.6.0 in /usr/local/lib/python3.12/dist-packages (from scikit-learn->pyvi) (1.16.2)\n",
            "Requirement already satisfied: joblib>=1.2.0 in /usr/local/lib/python3.12/dist-packages (from scikit-learn->pyvi) (1.5.2)\n",
            "Requirement already satisfied: threadpoolctl>=3.1.0 in /usr/local/lib/python3.12/dist-packages (from scikit-learn->pyvi) (3.6.0)\n",
            "Requirement already satisfied: python-crfsuite>=0.9.7 in /usr/local/lib/python3.12/dist-packages (from sklearn-crfsuite->pyvi) (0.9.11)\n",
            "Requirement already satisfied: tabulate>=0.4.2 in /usr/local/lib/python3.12/dist-packages (from sklearn-crfsuite->pyvi) (0.9.0)\n",
            "Requirement already satisfied: tqdm>=2.0 in /usr/local/lib/python3.12/dist-packages (from sklearn-crfsuite->pyvi) (4.67.1)\n"
          ]
        }
      ],
      "source": [
        "# Cài đặt thư viện xử lý ngôn ngữ cho tiếng Việt!\n",
        "!pip install pyvi"
      ]
    },
    {
      "cell_type": "code",
      "execution_count": 57,
      "metadata": {
        "id": "AwCzw7nSE7tk"
      },
      "outputs": [],
      "source": [
        "import matplotlib.pyplot as plt\n",
        "import numpy as np\n",
        "\n",
        "from sklearn.datasets import load_files\n",
        "from pyvi import ViTokenizer\n",
        "\n",
        "\n",
        "from sklearn import svm\n",
        "from sklearn.feature_extraction.text import CountVectorizer, TfidfVectorizer\n",
        "from sklearn.feature_extraction.text import TfidfTransformer\n",
        "from sklearn.model_selection import train_test_split, GridSearchCV\n",
        "from sklearn.pipeline import Pipeline\n",
        "from sklearn.model_selection import ShuffleSplit\n",
        "from sklearn.model_selection import learning_curve\n",
        "\n",
        "%matplotlib inline"
      ]
    },
    {
      "cell_type": "markdown",
      "metadata": {
        "id": "IpuqTG-1E7tm"
      },
      "source": [
        "## 1. Sử dụng sklearn.datasets.load_files để load dữ liệu từ thư mục đã down từ trước\n",
        "\n",
        "Cấu trúc thư mục như sau\n",
        "\n",
        "- data/news_1135/\n",
        "\n",
        "    - Kinh tế:\n",
        "        - bài báo 1.txt\n",
        "        - bài báo 2.txt\n",
        "    - Pháp luật\n",
        "        - bài báo 3.txt\n",
        "        - bài báo 4.txt"
      ]
    },
    {
      "cell_type": "code",
      "execution_count": 58,
      "metadata": {
        "colab": {
          "base_uri": "https://localhost:8080/"
        },
        "id": "-2vYSyDrE7tn",
        "outputId": "e3cd6d99-a7ea-4bc4-d523-350d0a41ead6"
      },
      "outputs": [
        {
          "output_type": "stream",
          "name": "stdout",
          "text": [
            "['data/news_1135/Kinh tế/c3926c2bf603cd4c4474f1e3e21159dc2c732c6d.txt'\n",
            " 'data/news_1135/Độc giả/ce52a3d65605ca1b22a698ea45d345e70d251809.txt'\n",
            " 'data/news_1135/Kinh tế/aeadfcd44b05f4adf6641e3f77398525837b333e.txt' ...\n",
            " 'data/news_1135/Thời sự/a12673b7661ec06056b5e20ba7d4c83aebbf6334.txt'\n",
            " 'data/news_1135/Sức khỏe/43b45beb5f82fa0dcfc228bd78d287a26a251026.txt'\n",
            " 'data/news_1135/Thể thao/7c4e2c0d15cf600e6b60d4cd195d89ee0eb3e408.txt']\n",
            "\n",
            "Tong so file: 1134\n",
            "Danh sách nhãn và id tương ứng:  [(0, 'Giải trí'), (1, 'Khoa học - Công nghệ'), (2, 'Kinh tế'), (3, 'Pháp luật'), (4, 'Sức khỏe'), (5, 'Thể thao'), (6, 'Thời sự'), (7, 'Tin khác'), (8, 'Độc giả'), (9, 'Đời sống - Xã hội')]\n"
          ]
        }
      ],
      "source": [
        "data_train = load_files(container_path=\"data/news_1135/\", encoding=\"utf-8\")\n",
        "\n",
        "print(data_train.filenames)\n",
        "print()\n",
        "\n",
        "print(\"Tong so file: {}\" .format( len(data_train.filenames)))\n",
        "print(\"Danh sách nhãn và id tương ứng: \", [(idx, name) for idx, name in enumerate(data_train.target_names)] )\n"
      ]
    },
    {
      "cell_type": "markdown",
      "metadata": {
        "id": "xevvKEmeE7tq"
      },
      "source": [
        "###  Tiền xử lý dữ liệu đưa dữ liệu từ dạng text về dạng ma trận\n",
        "\n",
        "- Thử nghiệm để kiểm tra hoạt động chuyển hoá dữ liệu về dạng ma trận"
      ]
    },
    {
      "cell_type": "code",
      "execution_count": 59,
      "metadata": {
        "scrolled": true,
        "colab": {
          "base_uri": "https://localhost:8080/"
        },
        "id": "8hzFCPsAE7ts",
        "outputId": "fe9c5cae-d312-4c9a-ab45-3ac32165d48a"
      },
      "outputs": [
        {
          "output_type": "stream",
          "name": "stdout",
          "text": [
            "Danh sách 10 từ dừng đầu tiên (từ không mang ý nghĩa phân loại):  ['a_lô', 'a_ha', 'ai', 'ai_ai', 'ai_nấy', 'ai_đó', 'alô', 'amen', 'anh', 'anh_ấy']\n",
            "10 từ đầu tiên trong từ điển:\n",
            "1 :  ('dân_trí', 6928)\n",
            "2 :  ('sát', 17612)\n",
            "3 :  ('tết_nguyên_đán', 20830)\n",
            "4 :  ('nhu_cầu', 14012)\n",
            "5 :  ('trang_trí', 19570)\n",
            "6 :  ('nhà_cửa', 14035)\n",
            "7 :  ('đón', 23409)\n",
            "8 :  ('tết', 20829)\n",
            "9 :  ('đại_gia', 23617)\n",
            "10 :  ('tiếc', 19301)\n",
            "11 :  ('tiền', 19370)\n"
          ]
        }
      ],
      "source": [
        "# load dữ liệu các stopwords\n",
        "with open(\"data/vietnamese-stopwords.txt\",encoding=\"utf-8\") as f:\n",
        "    stopwords = f.readlines()\n",
        "stopwords = [x.strip().replace(\" \", \"_\") for x in stopwords]\n",
        "print(\"Danh sách 10 từ dừng đầu tiên (từ không mang ý nghĩa phân loại): \", stopwords[:10])\n",
        "\n",
        "# Transforming data\n",
        "# Chuyển hoá dữ liệu text về dạng vector tfidf\n",
        "#     - loại bỏ từ dừng\n",
        "#     - sinh từ điển\n",
        "module_count_vector = CountVectorizer(stop_words=stopwords)\n",
        "model_rf_preprocess = Pipeline([('vect', module_count_vector),\n",
        "                    ('tfidf', TfidfTransformer()),\n",
        "                    ])\n",
        "# Hàm thực hiện chuyển đổi dữ liệu text thành dữ liệu số dạng ma trận\n",
        "# Input: Dữ liệu 2 chiều dạng numpy.array, mảng nhãn id dạng numpy.array\n",
        "data_preprocessed = model_rf_preprocess.fit_transform(data_train.data, data_train.target)\n",
        "print(\"10 từ đầu tiên trong từ điển:\")\n",
        "i = 0\n",
        "for k,v in module_count_vector.vocabulary_.items():\n",
        "    i+=1\n",
        "    print(i, \": \", (k, v))\n",
        "    if i > 10:\n",
        "        break"
      ]
    },
    {
      "cell_type": "markdown",
      "metadata": {
        "id": "DOm44wKrE7tv"
      },
      "source": [
        "### Bài 1: Sử dụng trực tiếp TfidfVectorizer()\n",
        "https://scikit-learn.org/stable/modules/generated/sklearn.feature_extraction.text.TfidfVectorizer.html"
      ]
    },
    {
      "cell_type": "code",
      "execution_count": 60,
      "metadata": {
        "colab": {
          "base_uri": "https://localhost:8080/"
        },
        "id": "e6gjuUGqE7tw",
        "outputId": "adb4d8d5-788f-480d-90e7-2d5e7d0af201"
      },
      "outputs": [
        {
          "output_type": "stream",
          "name": "stdout",
          "text": [
            "\n",
            "Top 10 từ có giá trị TF-IDF cao nhất trong văn bản đầu tiên:\n",
            "công: 0.60\n",
            "chim: 0.28\n",
            "trang_trại: 0.27\n",
            "quỳnh: 0.22\n",
            "trứng: 0.20\n",
            "ngũ_sắc: 0.17\n",
            "mua: 0.16\n",
            "đẹp: 0.14\n",
            "nhân_giống: 0.12\n",
            "huy: 0.11\n"
          ]
        }
      ],
      "source": [
        "# Chú ý: có thể biến đổi dữ liệu về dạng Tf-Idf trực tiếp sử dụng TfidfVectorizer()\n",
        "# Bài tập:\n",
        "# - thực hiện điều đó\n",
        "# code\n",
        "tfidf_vector = TfidfVectorizer(stop_words = stopwords)\n",
        "data_tfidf = tfidf_vector.fit_transform(data_train.data, data_train.target)\n",
        "\n",
        "\n",
        "# - hiển thị 10 từ trong văn bản đầu tiên có giá trị tfidf cao nhất\n",
        "first_doc_vector = data_tfidf[0].toarray().flatten()\n",
        "feature_names = np.array(tfidf_vector.get_feature_names_out())\n",
        "sorted_tfidf = np.argsort(data_tfidf[0].toarray().flatten())[::-1]\n",
        "\n",
        "print(\"\\nTop 10 từ có giá trị TF-IDF cao nhất trong văn bản đầu tiên:\")\n",
        "for word, score in zip(feature_names[sorted_tfidf[:10]], first_doc_vector[sorted_tfidf[:10]]):\n",
        "    print(f\"{word}: {score:.2f}\")"
      ]
    },
    {
      "cell_type": "markdown",
      "metadata": {
        "id": "NBngYNX-E7tx"
      },
      "source": [
        "### Chia dữ liệu làm 2 phần training và testing\n",
        "\n",
        "- Training chiếm 80 % dữ liệu\n",
        "- Testing chiếm 20 % dữ liệu"
      ]
    },
    {
      "cell_type": "code",
      "execution_count": 61,
      "metadata": {
        "colab": {
          "base_uri": "https://localhost:8080/"
        },
        "id": "tHDtcQRSE7ty",
        "outputId": "a907fddf-89eb-4bc0-bcbe-253d20d51b37"
      },
      "outputs": [
        {
          "output_type": "stream",
          "name": "stdout",
          "text": [
            "Dữ liệu training:  (907, 24389) (907,)\n",
            "Dữ liệu testing:  (227, 24389) (227,)\n",
            "Danh sách nhãn và id tương ứng:  [(0, 'Giải trí'), (1, 'Khoa học - Công nghệ'), (2, 'Kinh tế'), (3, 'Pháp luật'), (4, 'Sức khỏe'), (5, 'Thể thao'), (6, 'Thời sự'), (7, 'Tin khác'), (8, 'Độc giả'), (9, 'Đời sống - Xã hội')]\n"
          ]
        }
      ],
      "source": [
        "from sklearn.model_selection import ShuffleSplit\n",
        "\n",
        "# chia dữ liệu thành 2 phần sử dụng hàm train_test_split.\n",
        "test_size = 0.2\n",
        "# cv = ShuffleSplit(n_splits=10, test_size=0.2, random_state=0)\n",
        "X_train, X_test, y_train, y_test = train_test_split(data_preprocessed, data_train.target, test_size=test_size)\n",
        "\n",
        "# hiển thị một số thông tin về dữ liệu\n",
        "print(\"Dữ liệu training: \", X_train.shape, y_train.shape)\n",
        "print(\"Dữ liệu testing: \", X_test.shape, y_test.shape)\n",
        "print(\"Danh sách nhãn và id tương ứng: \", [(idx, name) for idx, name in enumerate(data_train.target_names)] )"
      ]
    },
    {
      "cell_type": "markdown",
      "metadata": {
        "id": "VlHJcukJE7tz"
      },
      "source": [
        "## 2. Training svm model\n",
        "\n",
        "Sử dụng thư viện sklearn để xây dựng mô hình\n",
        "-  Thử trước với hàm nhân phân tách là Linear, tham số C=1.0\n",
        "- `svm.SVC(kernel='linear', C=1.0)`\n"
      ]
    },
    {
      "cell_type": "code",
      "execution_count": 62,
      "metadata": {
        "colab": {
          "base_uri": "https://localhost:8080/"
        },
        "id": "2CW2f9UxE7t0",
        "outputId": "6bd48fdc-0e18-46a5-aa98-037329a7311e"
      },
      "outputs": [
        {
          "output_type": "stream",
          "name": "stdout",
          "text": [
            "- Training ...\n",
            "- Train size = (907, 24389)\n",
            "- model - train complete\n"
          ]
        }
      ],
      "source": [
        "print(\"- Training ...\")\n",
        "print(\"- Train size = {}\".format(X_train.shape))\n",
        "model = svm.SVC(kernel='linear', C=1)\n",
        "model.fit(X_train, y_train)\n",
        "print(\"- model - train complete\")\n"
      ]
    },
    {
      "cell_type": "markdown",
      "metadata": {
        "id": "GXL86qeSE7t1"
      },
      "source": [
        "## 3. Testing svm model\n",
        "\n",
        "Thực hiện dự đoán nhãn cho từng văn bản trong tập test\n",
        "\n",
        "Độ đo đánh giá:\n",
        "> accuracy = tổng số văn bản dự đoán đúng  / tổng số văn bản có trong tập test  "
      ]
    },
    {
      "cell_type": "code",
      "execution_count": 63,
      "metadata": {
        "colab": {
          "base_uri": "https://localhost:8080/"
        },
        "id": "fR5LzySoE7t2",
        "outputId": "6a25cf8b-8104-4ee3-c9d0-cfa094bc5d04"
      },
      "outputs": [
        {
          "output_type": "stream",
          "name": "stdout",
          "text": [
            "- Testing ...\n",
            "- Test Acc = 0.8414096916299559\n",
            "- Train Acc = 0.9933847850055126\n"
          ]
        }
      ],
      "source": [
        "from sklearn.metrics import accuracy_score\n",
        "print(\"- Testing ...\")\n",
        "y_test_pred = model.predict(X_test)\n",
        "y_train_pred = model.predict(X_train)\n",
        "print(\"- Test Acc = {}\".format(accuracy_score(y_test, y_test_pred)))\n",
        "print(\"- Train Acc = {}\".format(accuracy_score(y_train, y_train_pred)))\n"
      ]
    },
    {
      "cell_type": "markdown",
      "metadata": {
        "id": "eaH9gW4IE7t3"
      },
      "source": [
        "### Bài 2: thực hiện lại các bước trên với kernel = 'rbf'"
      ]
    },
    {
      "cell_type": "code",
      "execution_count": 64,
      "metadata": {
        "colab": {
          "base_uri": "https://localhost:8080/"
        },
        "id": "2qm5Up04E7t3",
        "outputId": "bbaca026-e97a-45f4-c25b-64009d0771aa"
      },
      "outputs": [
        {
          "output_type": "stream",
          "name": "stdout",
          "text": [
            "- Training ...\n",
            "- Train size = (907, 24389)\n",
            "- model - train complete\n",
            "- Testing ...\n",
            "- Test Acc = 0.7665198237885462\n",
            "- Train Acc = 0.9955898566703418\n"
          ]
        }
      ],
      "source": [
        "# code\n",
        "print(\"- Training ...\")\n",
        "print(\"- Train size = {}\".format(X_train.shape))\n",
        "model_svm_rbf = svm.SVC(kernel='rbf', C=1)\n",
        "model_svm_rbf.fit(X_train, y_train)\n",
        "print(\"- model - train complete\")\n",
        "\n",
        "print(\"- Testing ...\")\n",
        "y_test_pred_rbf = model_svm_rbf.predict(X_test)\n",
        "y_train_pred_rbf = model_svm_rbf.predict(X_train)\n",
        "print(\"- Test Acc = {}\".format(accuracy_score(y_test, y_test_pred_rbf)))\n",
        "print(\"- Train Acc = {}\".format(accuracy_score(y_train, y_train_pred_rbf)))\n"
      ]
    },
    {
      "cell_type": "markdown",
      "metadata": {
        "id": "dWWMRbmcE7t4"
      },
      "source": [
        "### 3.1. Thực hiện sử dụng model đã được train để infer 1 văn bản mới\n",
        "- Dữ liệu mới đến ở dạng dữ liệu thô => cần tiền xử lý dữ liệu về dạng dữ_liệu_ma_trận\n",
        "- infer sử dụng hàm model.predict(dữ_liệu_ma_trận)"
      ]
    },
    {
      "cell_type": "code",
      "execution_count": 65,
      "metadata": {
        "colab": {
          "base_uri": "https://localhost:8080/"
        },
        "id": "Nh3189SYE7t4",
        "outputId": "ebebc47c-399f-465b-da3e-4b130566f4d7"
      },
      "outputs": [
        {
          "output_type": "stream",
          "name": "stdout",
          "text": [
            "['Công phượng ghi_bàn cho đội_tuyển Việt_nam']\n",
            "<Compressed Sparse Row sparse matrix of dtype 'float64'\n",
            "\twith 5 stored elements and shape (1, 24389)>\n",
            "  Coords\tValues\n",
            "  (0, 5847)\t0.3302100365610822\n",
            "  (0, 7777)\t0.46178440053088166\n",
            "  (0, 15553)\t0.6394566344207014\n",
            "  (0, 21498)\t0.23572628046602445\n",
            "  (0, 24149)\t0.46178440053088166\n"
          ]
        }
      ],
      "source": [
        "# Tiền xử lý dữ liệu sử dụng module model_rf_preprocess.\n",
        "new_doc = \"Công phượng ghi bàn cho đội tuyển Việt nam\"\n",
        "# Trước hết, cần thực hiện tách từ sử dụng pyvi\n",
        "tokenized_new_doc = ViTokenizer.tokenize(new_doc)\n",
        "# Cần đưa văn bản ở dạng mảng/vector\n",
        "tokenized_new_doc = [tokenized_new_doc]\n",
        "print(tokenized_new_doc)\n",
        "# Rồi sử dụng module model_rf_preprocess\n",
        "input_data_preprocessed = model_rf_preprocess.transform(tokenized_new_doc)\n",
        "print(input_data_preprocessed)"
      ]
    },
    {
      "cell_type": "markdown",
      "metadata": {
        "id": "q0Z45akwE7t5"
      },
      "source": [
        "### Bài 3: dự đoán nhãn của văn bản trên"
      ]
    },
    {
      "cell_type": "code",
      "execution_count": 66,
      "metadata": {
        "colab": {
          "base_uri": "https://localhost:8080/"
        },
        "id": "Eaon-xPBE7t6",
        "outputId": "f3c26b2c-cfa2-4ca8-f3ad-8a5a2b7cf6ea"
      },
      "outputs": [
        {
          "output_type": "stream",
          "name": "stdout",
          "text": [
            "Văn bản mới dự đoán nhãn là:  [2] Kinh tế\n"
          ]
        }
      ],
      "source": [
        "# code\n",
        "label = model.predict(input_data_preprocessed)\n",
        "print(\"Văn bản mới dự đoán nhãn là: \", label, data_train.target_names[label[0]])"
      ]
    },
    {
      "cell_type": "markdown",
      "metadata": {
        "id": "C006KRSSE7t6"
      },
      "source": [
        "## 4. Bài tập bổ sung:\n",
        "\n",
        "### 4.1 Thử nghiệm các tham số\n",
        "\n",
        "- Các tham số với giá trị khác nhau có thể ảnh hưởng để kết quả học\n",
        "- Cần thử nghiệm kỹ lượng để đưa ra kết quả khách quan: tham số C, gamma, kernel.\n",
        "    - Chọn mô hình với bộ tham số cho kết quả tốt nhất\n",
        "- Gợi ý:\n",
        "    - https://scikit-learn.org/stable/modules/generated/sklearn.svm.SVC.html\n",
        "    - Sử dụng grid search"
      ]
    },
    {
      "cell_type": "markdown",
      "metadata": {
        "id": "5uvD6B8QE7t6"
      },
      "source": [
        "#### Bài 4: Vẽ Learning curve khảo sát Acc của SVM-linear với tham số C thay đổi"
      ]
    },
    {
      "cell_type": "code",
      "execution_count": 68,
      "metadata": {
        "id": "mZ-dXYQlE7t7",
        "colab": {
          "base_uri": "https://localhost:8080/",
          "height": 472
        },
        "outputId": "193f24fa-b96c-4b88-af78-b4ae85ce11ab"
      },
      "outputs": [
        {
          "output_type": "display_data",
          "data": {
            "text/plain": [
              "<Figure size 640x480 with 1 Axes>"
            ],
            "image/png": "[encoded data removed]"
          },
          "metadata": {}
        }
      ],
      "source": [
        "# code\n",
        "# tham khảo miền của C\n",
        "list_C = [0.001, 0.01, 0.1, 1, 5.0, 10.0, 100]\n",
        "\n",
        "# hàm sinh id màu\n",
        "def get_cmap(n):\n",
        "    return 'C' + str(n)\n",
        "\n",
        "# Hàm thực hiện training model, crossvalidate và vẽ lên đồ thị sử dụng matlibplot\n",
        "def plot_learning_curve(estimator, title, label_curve, X, y, ylim = None, cv = None,\n",
        "                        n_jobs = 1, train_sizes = np.linspace(.1, 1.0, 5), new_plot = False,\n",
        "                        idx_color = 0):\n",
        "\n",
        "    # Khởi tạo bức ảnh mới với thư viện plot lib\n",
        "    if new_plot:\n",
        "        # plt.figure()\n",
        "        plt.title(title)\n",
        "        plt.xlabel(\"Training examples\")\n",
        "        plt.ylabel(\"Accuracy\")\n",
        "        plt.grid()\n",
        "\n",
        "    # chú thích nếu có\n",
        "    if ylim is not None:\n",
        "        plt.ylim(*ylim)\n",
        "\n",
        "    # thực hiện training model, ghi nhận các giá trị trong quá trình training\n",
        "    # cv = số fold cross validate, số phần bộ dữ liệu được chia để thực hiện training testing.\n",
        "    # train_sizes = mảng tỉ lệ, các tỉ lệ được hệ thống chọn làm điểm dừng để thực hiện 1 testing\n",
        "    #  train_sizes = [0.3, 0.5] => hệ thống lấy 30 % dữ liệu để train và thực hiện test, tương tự 50 % ..\n",
        "    # scoring = hàm mục tiêu để đánh giá chất lượng mô hình và vẽ lên đồ thị\n",
        "    train_sizes, train_scores, test_scores = learning_curve(\n",
        "        estimator, X, y, cv=cv, n_jobs=n_jobs, train_sizes=train_sizes, scoring=\"accuracy\")\n",
        "\n",
        "    # Lấy trung bình cộng các giá trị output của các fold\n",
        "    train_scores_mean = np.mean(train_scores, axis = 1)\n",
        "    train_scores_std = np.std(train_scores, axis = 1)\n",
        "    test_scores_mean = np.mean(test_scores, axis = 1)\n",
        "    test_scores_std = np.std(test_scores, axis = 1)\n",
        "\n",
        "    # random 1 màu để vẽ\n",
        "    color = get_cmap(idx_color)\n",
        "\n",
        "    # thực hiện vẽ các giá trị số lên đồ thị với màu vừa được random\n",
        "    plt.fill_between(train_sizes, test_scores_mean - test_scores_std,\n",
        "                     test_scores_mean + test_scores_std, alpha = 0.1, color = color)\n",
        "    plt.plot(train_sizes, test_scores_mean, 'o-', color = color,\n",
        "             label = label_curve)\n",
        "\n",
        "    plt.legend(loc = \"best\")\n",
        "    return plt\n",
        "\n",
        "list_C = [0.001, 0.01, 0.1, 1, 5.0, 10.0, 100]\n",
        "# model title\n",
        "title = \"Learning Curves SVM, Linear kernel, change C\"\n",
        "\n",
        "# duyệt qua mảng các giá trị của tham số C\n",
        "for i, C in enumerate(list_C):\n",
        "    # Với từng giá trị C nhận được,\n",
        "    # thực hiện build model và training cross-validate\n",
        "    # vẽ kết quả tìm được lên đồ thị đường.\n",
        "    text_clf = Pipeline([\n",
        "                         ('clf', svm.SVC(kernel = 'linear', C = C)), # mô hình svm với tham số C\n",
        "                         ])\n",
        "\n",
        "    plt = plot_learning_curve(text_clf, title, \"C = %f\" % (C),\n",
        "                              data_preprocessed, data_train.target,\n",
        "                              (0.0, 1.01), cv = 10, n_jobs = -1, idx_color = i, new_plot = i == 0)\n",
        "plt.show()"
      ]
    },
    {
      "cell_type": "markdown",
      "metadata": {
        "id": "a3JUXgRhE7t7"
      },
      "source": [
        "#### Bài 5: Sử dụng GridSearchCV để tìm bộ tham số tốt nhất"
      ]
    },
    {
      "cell_type": "code",
      "execution_count": 53,
      "metadata": {
        "id": "GPl22-QAE7t8",
        "colab": {
          "base_uri": "https://localhost:8080/"
        },
        "outputId": "57db61b6-de2d-40a3-d3f6-d347bbd9b25e"
      },
      "outputs": [
        {
          "output_type": "stream",
          "name": "stdout",
          "text": [
            "{'C': 10, 'gamma': 0.0001, 'kernel': 'linear'}\n",
            "SVC(C=10, gamma=0.0001, kernel='linear')\n",
            "Testing\n",
            "0.8678414096916299\n"
          ]
        }
      ],
      "source": [
        "# code\n",
        "# Có thể tham khảo giá trị các tham số như sau\n",
        "params_grid = {'C': [0.001, 0.01, 0.1, 1, 10, 100],\n",
        "'gamma': [0.0001, 0.001, 0.01, 0.1],\n",
        "'kernel':['linear','rbf', 'poly'] }\n",
        "model = svm.SVC()\n",
        "#Create the GridSearchCV object\n",
        "best_model = GridSearchCV(model, params_grid, cv=4, n_jobs=-1, scoring = \"accuracy\")\n",
        "#Fit the data with the best possible parameters\n",
        "best_model.fit(X_train, y_train)\n",
        "#Print the best estimator with it's parameters\n",
        "print (best_model.best_params_)\n",
        "print (best_model.best_estimator_)\n",
        "# Test best_model\n",
        "print('Testing')\n",
        "y_pred = best_model.predict(X_test)\n",
        "print(accuracy_score(y_test, y_pred))"
      ]
    },
    {
      "cell_type": "markdown",
      "metadata": {
        "id": "yVYKixPmE7t8"
      },
      "source": [
        "### 4.2 Phân loại số viết tay"
      ]
    },
    {
      "cell_type": "code",
      "execution_count": 54,
      "metadata": {
        "id": "zT5f7f49E7t9",
        "colab": {
          "base_uri": "https://localhost:8080/",
          "height": 202
        },
        "outputId": "40c0c243-94bc-4553-df4c-49d67dff8f66"
      },
      "outputs": [
        {
          "output_type": "stream",
          "name": "stdout",
          "text": [
            "Dữ liệu training =  (1437, 64) (1437,)\n",
            "Dữ liệu testing =  (360, 64) (360,)\n"
          ]
        },
        {
          "output_type": "display_data",
          "data": {
            "text/plain": [
              "<Figure size 640x480 with 4 Axes>"
            ],
            "image/png": "[encoded data removed]"
          },
          "metadata": {}
        }
      ],
      "source": [
        "# Standard scientific Python imports\n",
        "import matplotlib.pyplot as plt\n",
        "\n",
        "# Import datasets, classifiers and performance metrics\n",
        "from sklearn import datasets, svm, metrics\n",
        "\n",
        "# The digits dataset\n",
        "digits = datasets.load_digits()\n",
        "from sklearn.svm import SVC\n",
        "# The data that we are interested in is made of 8x8 images of digits, let's\n",
        "# have a look at the first 4 images, stored in the `images` attribute of the\n",
        "# dataset.  If we were working from image files, we could load them using\n",
        "# matplotlib.pyplot.imread.  Note that each image must have the same size. For these\n",
        "# images, we know which digit they represent: it is given in the 'target' of\n",
        "# the dataset.\n",
        "images_and_labels = list(zip(digits.images, digits.target))\n",
        "for index, (image, label) in enumerate(images_and_labels[:4]):\n",
        "    plt.subplot(2, 4, index + 1)\n",
        "    plt.axis('off')\n",
        "    plt.imshow(image, cmap=plt.cm.gray_r, interpolation='nearest')\n",
        "    plt.title('Training: %i' % label)\n",
        "\n",
        "# To apply a classifier on this data, we need to flatten the image, to\n",
        "# turn the data in a (samples, feature) matrix:\n",
        "n_samples = len(digits.images)\n",
        "data = digits.images.reshape((n_samples, -1))\n",
        "target = digits.target\n",
        "X_train, X_test, y_train, y_test = train_test_split( data, target, test_size=test_size)\n",
        "\n",
        "print(\"Dữ liệu training = \", X_train.shape, y_train.shape)\n",
        "print(\"Dữ liệu testing = \", X_test.shape, y_test.shape)\n"
      ]
    },
    {
      "cell_type": "markdown",
      "metadata": {
        "id": "tLVXH_5DE7t9"
      },
      "source": [
        "#### Bài 6: phân loại với dữ liệu trên"
      ]
    },
    {
      "cell_type": "code",
      "execution_count": 55,
      "metadata": {
        "id": "tWipI7kLE7t-",
        "colab": {
          "base_uri": "https://localhost:8080/"
        },
        "outputId": "dc4fdd84-d075-4213-c089-c6ae12a1e7c3"
      },
      "outputs": [
        {
          "output_type": "stream",
          "name": "stdout",
          "text": [
            "Best Parameters: {'C': 5.0, 'gamma': 0.001, 'kernel': 'rbf'}\n",
            "Best CV Accuracy: 0.9902534965034967\n"
          ]
        }
      ],
      "source": [
        "##### exercise #####\n",
        "# Yêu cầu: Ứng dụng mô hình svm vào bài toán phân loại ảnh\n",
        "# Gợi ý: dữ liệu đã được chia train, test, Áp dụng phần 2. và 3. để training và testing model. Chú ý nên có thêm phần tuning model\n",
        "######################\n",
        "\n",
        "# model = None\n",
        "\n",
        "######################\n",
        "param_grid = {\n",
        "    'C': [0.001, 0.01, 0.1, 1, 5.0, 10.0, 100],\n",
        "    'kernel': ['linear', 'poly', 'rbf'],\n",
        "    'gamma': [0.0001, 0.001, 0.01, 0.1],}\n",
        "\n",
        "grid_search = GridSearchCV(\n",
        "    estimator = SVC(),\n",
        "    param_grid = param_grid,\n",
        "    cv = 10,\n",
        "    scoring = 'accuracy',\n",
        "    n_jobs = -1,\n",
        ")\n",
        "\n",
        "grid_search.fit(X_train, y_train)\n",
        "\n",
        "print(\"Best Parameters:\", grid_search.best_params_)\n",
        "print(\"Best CV Accuracy:\", grid_search.best_score_)"
      ]
    }
  ],
  "metadata": {
    "kernelspec": {
      "display_name": "Python 3",
      "language": "python",
      "name": "python3"
    },
    "language_info": {
      "name": "python",
      "version": ""
    },
    "colab": {
      "provenance": [],
      "include_colab_link": true
    }
  },
  "nbformat": 4,
  "nbformat_minor": 0
}