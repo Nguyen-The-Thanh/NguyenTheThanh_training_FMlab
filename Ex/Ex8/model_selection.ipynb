{
  "cells": [
    {
      "cell_type": "markdown",
      "metadata": {
        "id": "view-in-github",
        "colab_type": "text"
      },
      "source": [
        "<a href=\"https://colab.research.google.com/github/Nguyen-The-Thanh/NguyenTheThanh_training_FMlab/blob/main/Ex/Ex8/model_selection.ipynb\" target=\"_parent\"><img src=\"https://colab.research.google.com/assets/colab-badge.svg\" alt=\"Open In Colab\"/></a>"
      ]
    },
    {
      "cell_type": "markdown",
      "metadata": {
        "id": "sGXlwjdUltT-"
      },
      "source": [
        "====== Nguồn http://users.soict.hust.edu.vn/khoattq/ml-dm-course/ ======\n",
        "\n",
        "\n",
        "\n",
        "# Bài toán\n",
        "- Cần đánh giá hiệu quả của một mô hình phân loại?\n",
        "- So sánh hiệu quả của 2 mô hình khác nhau?\n",
        "\n",
        "Nhưng ta chỉ có một tập dữ liệu đã thu thập được. Để trả lời hai câu hỏi trên thì cần thực hiện bước \"Lựa chọn tham số\" của mô hình đã chọn.\n",
        "\n",
        "Bài này sẽ hướng dẫn cách thực hiện từng bước chi tiết, từ <b>lựa chọn tham số</b> (sử dụng Cross validation), cho đến <b>đánh giá</b> (sử dụng Holdout) và <b>so sánh</b> hai mô hình khác nhau. Tập dữ liệu sử dụng là tập văn bản đã thu thập được ở Bài học số 2 (tập tin tức từ Vnexpress)."
      ]
    },
    {
      "cell_type": "markdown",
      "metadata": {
        "id": "fLIfRuT-ltUE"
      },
      "source": [
        "## Mục lục\n",
        "- Load dữ liệu từ thư mục\n",
        "- Tiền xử lý dữ liệu\n",
        "- Lựa chọn tham số các mô hình\n",
        "- So sánh SVM và Random Forest"
      ]
    },
    {
      "cell_type": "code",
      "execution_count": 21,
      "metadata": {
        "colab": {
          "base_uri": "https://localhost:8080/"
        },
        "id": "jBbC65fNltUG",
        "outputId": "fb34cac6-ce04-4f0e-9069-cad2e7f18a2b"
      },
      "outputs": [
        {
          "output_type": "stream",
          "name": "stdout",
          "text": [
            "Requirement already satisfied: pyvi in /usr/local/lib/python3.12/dist-packages (0.1.1)\n",
            "Requirement already satisfied: scikit-learn in /usr/local/lib/python3.12/dist-packages (from pyvi) (1.6.1)\n",
            "Requirement already satisfied: sklearn-crfsuite in /usr/local/lib/python3.12/dist-packages (from pyvi) (0.5.0)\n",
            "Requirement already satisfied: numpy>=1.19.5 in /usr/local/lib/python3.12/dist-packages (from scikit-learn->pyvi) (2.0.2)\n",
            "Requirement already satisfied: scipy>=1.6.0 in /usr/local/lib/python3.12/dist-packages (from scikit-learn->pyvi) (1.16.2)\n",
            "Requirement already satisfied: joblib>=1.2.0 in /usr/local/lib/python3.12/dist-packages (from scikit-learn->pyvi) (1.5.2)\n",
            "Requirement already satisfied: threadpoolctl>=3.1.0 in /usr/local/lib/python3.12/dist-packages (from scikit-learn->pyvi) (3.6.0)\n",
            "Requirement already satisfied: python-crfsuite>=0.9.7 in /usr/local/lib/python3.12/dist-packages (from sklearn-crfsuite->pyvi) (0.9.11)\n",
            "Requirement already satisfied: tabulate>=0.4.2 in /usr/local/lib/python3.12/dist-packages (from sklearn-crfsuite->pyvi) (0.9.0)\n",
            "Requirement already satisfied: tqdm>=2.0 in /usr/local/lib/python3.12/dist-packages (from sklearn-crfsuite->pyvi) (4.67.1)\n"
          ]
        }
      ],
      "source": [
        "import os\n",
        "import matplotlib.pyplot as plt\n",
        "import numpy as np\n",
        "from sklearn.model_selection import learning_curve\n",
        "from tqdm import tqdm\n",
        "!pip install pyvi\n",
        "from sklearn.datasets import load_files\n",
        "from pyvi import ViTokenizer\n",
        "\n",
        "from sklearn import svm\n",
        "from sklearn.ensemble import RandomForestClassifier\n",
        "from sklearn.feature_extraction.text import CountVectorizer, TfidfVectorizer\n",
        "from sklearn.feature_extraction.text import TfidfTransformer\n",
        "from sklearn.model_selection import train_test_split, GridSearchCV\n",
        "from sklearn.pipeline import Pipeline\n",
        "from sklearn.metrics import accuracy_score, confusion_matrix, ConfusionMatrixDisplay\n",
        "\n",
        "%matplotlib inline"
      ]
    },
    {
      "cell_type": "markdown",
      "metadata": {
        "id": "lUKJqxEjltUK"
      },
      "source": [
        "## 1. Load dữ liệu từ thư mục\n",
        "\n",
        "Giả sử cấu trúc thư mục như sau\n",
        "\n",
        "- data/news_vnexpress/\n",
        "\n",
        "    - Kinh tế:\n",
        "        - bài báo 1.txt\n",
        "        - bài báo 2.txt\n",
        "    - Pháp luật\n",
        "        - bài báo 3.txt\n",
        "        - bài báo 4.txt"
      ]
    },
    {
      "cell_type": "code",
      "execution_count": 22,
      "metadata": {
        "id": "9bMY7-YQltUL"
      },
      "outputs": [],
      "source": [
        "INPUT = 'data/news_vnexpress'\n",
        "os.makedirs(\"images\",exist_ok=True)  # thư mục lưu các hình ảnh kết quả trong quá trình huấn luyện và đánh giá"
      ]
    },
    {
      "cell_type": "code",
      "execution_count": 23,
      "metadata": {
        "colab": {
          "base_uri": "https://localhost:8080/"
        },
        "id": "gPHdepRDltUL",
        "outputId": "fafe91d8-76ad-4ca1-d1a1-928174a9ef13"
      },
      "outputs": [
        {
          "output_type": "stream",
          "name": "stdout",
          "text": [
            "Các nhãn và số văn bản tương ứng trong dữ liệu\n",
            "----------------------------------------------\n",
            "Sức khỏe: 75\n",
            "Kinh tế: 186\n",
            "Khoa học - Công nghệ: 195\n",
            "Pháp luật: 50\n",
            "Giải trí: 107\n",
            "Thể thao: 140\n",
            "Đời sống - Xã hội: 91\n",
            "Tin khác: 100\n",
            "Độc giả: 52\n",
            "Thời sự: 138\n",
            "-------------------------\n",
            "Tổng số văn bản: 1134\n"
          ]
        }
      ],
      "source": [
        "# statistics\n",
        "print('Các nhãn và số văn bản tương ứng trong dữ liệu')\n",
        "print('----------------------------------------------')\n",
        "n = 0\n",
        "for label in os.listdir(INPUT):\n",
        "    print(f'{label}: {len(os.listdir(os.path.join(INPUT, label)))}')\n",
        "    n += len(os.listdir(os.path.join(INPUT, label)))\n",
        "\n",
        "print('-------------------------')\n",
        "print(f\"Tổng số văn bản: {n}\")"
      ]
    },
    {
      "cell_type": "code",
      "execution_count": 24,
      "metadata": {
        "colab": {
          "base_uri": "https://localhost:8080/"
        },
        "id": "Q7OFCwszltUN",
        "outputId": "c49f152c-3249-4688-bc80-d04e53918571"
      },
      "outputs": [
        {
          "output_type": "stream",
          "name": "stdout",
          "text": [
            "mapping:\n",
            "Giải trí - 0\n",
            "Khoa học - Công nghệ - 1\n",
            "Kinh tế - 2\n",
            "Pháp luật - 3\n",
            "Sức khỏe - 4\n",
            "Thể thao - 5\n",
            "Thời sự - 6\n",
            "Tin khác - 7\n",
            "Độc giả - 8\n",
            "Đời sống - Xã hội - 9\n",
            "--------------------------\n",
            "['data/news_vnexpress/Kinh tế/c3926c2bf603cd4c4474f1e3e21159dc2c732c6d.txt']\n",
            "[2]\n",
            "['Dân_trí Càng sát Tết_nguyên_đán , nhu_cầu trang_trí nhà_cửa đón Tết càng tăng cao nên nhiều đại_gia đã không tiếc tiền , không quản_ngại xa_xôi về tận các trang_trại để lùng mua một cặp Công ưng_ý chơi Tết . Chim Công là loài chim quý và được xem là đẹp nhất thế_giới có nguồn gốc_từ Châu Á . Hiện_nay , chim Công đã được nhiều trang_trại nhân_giống để làm vật_nuôi trang_trí , làm thực phẩm phục_vụ nhu_cầu của một bộ_phận khách_hàng có điều_kiện . Công có bộ_lông đẹp , thường sống ở các cây cao hoặc mô đất cao . Đến mùa_xuân , khi gọi bạn_tình Công thường xòe cánh múa vũ_điệu để gọi bạn . Anh Huy , chủ một vườn sinh_thái tại Quảng_Ninh cho biết , để mua được Công đẹp ưng_ý trang_trí cho biệt_thự , nhà_vườn của mình hay làm_cảnh cho khu vườn sinh_thái anh phải đi lùng mua khắp các trang_trại . Chỉ_cần các trang_trại gọi điện có_Công đẹp anh sẽ đến ngay để xem và mua về chơi , hoặc nuôi để chờ dịp đi tặng đối_tác . Theo anh Huy , chơi Công rất hay vì chim Công đẹp , dễ nuôi như con gà , sức kháng bệnh lại rất tốt . Chủ_yếu mình chỉ chơi Công Ấn_Độ , trong đó có 2 con Công trắng là loại đột_biến gien , còn lại là Công ngũ_sắc ( lai giữa Công xanh và Công trắng ) . Nói về xu_hướng chơi Công hiện_nay , anh Huy chia_sẻ , Công xanh rất phổ_biến vì dễ nuôi và dễ chăm_sóc . Còn Công trắng và Công ngũ_sắc tuy đẹp nhưng vì_là giống đột_biến gien nên sức đề_kháng kém và cần chăm_sóc kĩ hơn . Tuy_nhiên , Công ngũ_sắc với bộ_lông tuyệt đẹp vẫn là loại được mọi người ưa_chuộng nhất mặc cho giá cao ngút và các chủ trại thường ỉm hàng để nâng_giá . Dần_dần để thỏa_mãn thú chơi và tiết_kiệm thì mình hay mua Công con với giá 800.000 – 900.000 đồng / con , lúc mua về chúng rất bé và chỉ nặng khoảng 1 lạng , anh Huy cho biết . Bắt_đầu nuôi công từ 2011 , do sở_thích , đam_mê nên anh Quỳnh – chủ một trang_trại chim Công tại Kinh Môn , Hải_Dương đã đi tìm_hiểu khắp_nơi và được bạn_bè giới_thiệu mua giống trong công_viên Thủ Lệ . Anh Quỳnh cho biết , lúc đầu , mình chỉ mua con_giống thôi vì chưa có đủ điều_kiện . Thời_điểm đó , bắt về 4 cặp Công hậu_bị ( loại Công_bố_mẹ 1 năm sau sẽ đẻ_trứng ) để nhân_giống dần ra , mỗi_một cặp Công đã có giá 15 triệu đồng . \" Phải mất hơn 3 năm_mới có_thể bắt_đầu thu lại được từ khoản đầu_tư này , thế nhưng khách mua rất đều và chịu chi . Gần Tết , Chim Công ngũ_sắc và Công trắng được khách hỏi mua liên_tục mà chẳng dám hứa trước , khách_hàng từ khắp_nơi nhưng sẵn_sàng đánh_xe về lấy_Công \" , anh Quỳnh chia_sẻ . Theo anh Quỳnh , thị_trường trong thành_phố Hồ Chí_Minh có nhu_cầu cao hơn ở ngoài miền Bắc . Tuy_nhiên , mình chỉ bán_Công con vài ngày tuổi thôi vì giống nhỏ này dễ vận_chuyển và có_thể nhịn_đói trong_khoảng 2 ngày . Ngoài_ra , các nhà_hàng cũng thỉnh_thoảng nhập Công_của anh Quỳnh phục_vụ cho khách có nhu_cầu . Tết năm_ngoái , trang_trại của anh Quỳnh đã bán được 25 con chim Công cho 2 nhà_hàng với giá 8 triệu đồng / con cho_về thu_nhập khoảng 200 triệu đồng . Theo anh Quỳnh , 1 năm Công thường đẻ từ 25 – 30 trứng , ngày trước khi giá công cao thì trứng Công bán rất được_giá . Thời_điểm cách đây 2 – 3 năm , trứng Công có_thể bán được 800.000 đồng / quả , thu_nhập từ việc bán trứng rất cao từ 300 - 400 triệu đồng / năm . \" Tầm tháng 3 tới tháng 6 là thời_điểm chim Công đẻ nên có rất nhiều trứng và con_giống để cũng cấp ra thị_trường , đem lại nguồn thu_không nhỏ \" , anh Quỳnh cho_biết thêm . Tuy_nhiên , theo ông Nguyễn Xuân Diện , một người chơi Công có_tiếng lâu_năm tại Cẩm_Giàng ( Hải_Dương ) thì thời_gian gần đây , đã nhiều người nhân_giống được chim Công nên các chủ trang_trại đã không bán trứng nữa vì lợi_nhuận thu lại thấp . \" Các chủ trang_trại thường chỉ bán_Công trưởng_thành loại đã đẻ rồi , từ 2 năm rưỡi đến 3 năm_tuổi với giá khoảng 16 triệu đồng / cặp . Con trống được thường nặng khoảng 6 – 7 kg , còn con_mái khoảng 5 kg \" , ông Diện cho_biết thêm . Thế Hưng']\n",
            "\n",
            "Tổng số  văn bản: 1134\n"
          ]
        }
      ],
      "source": [
        "# load data\n",
        "data_train = load_files(container_path=INPUT, encoding=\"utf-8\")\n",
        "\n",
        "print('mapping:')\n",
        "for i in range(len(data_train.target_names)):\n",
        "    print(f'{data_train.target_names[i]} - {i}')\n",
        "\n",
        "print('--------------------------')\n",
        "print(data_train.filenames[0:1])\n",
        "# print(data_train.data[0:1])\n",
        "print(data_train.target[0:1])\n",
        "print(data_train.data[0:1])\n",
        "\n",
        "print(\"\\nTổng số  văn bản: {}\" .format( len(data_train.filenames)))"
      ]
    },
    {
      "cell_type": "markdown",
      "metadata": {
        "id": "8kzdfuvNltUN"
      },
      "source": [
        "## 2. Tiền xử lý dữ liệu:  \n",
        "### 2.1. Chuyển dữ liệu dạng text về dạng số\n",
        "Chuyển dữ liệu dạng text về ma trận (n x m) bằng TF. Chuyển nhãn các văn bản về dạng số"
      ]
    },
    {
      "cell_type": "code",
      "execution_count": 25,
      "metadata": {
        "colab": {
          "base_uri": "https://localhost:8080/"
        },
        "id": "cS_tkiI5ltUO",
        "outputId": "1a0ef32f-85a7-4715-bd55-a40e64c800b0"
      },
      "outputs": [
        {
          "output_type": "stream",
          "name": "stdout",
          "text": [
            "Số lượng stopwords: 2063\n",
            "['a_lô', 'a_ha', 'ai', 'ai_ai', 'ai_nấy', 'ai_đó', 'alô', 'amen', 'anh', 'anh_ấy']\n",
            "\n",
            "Số lượng từ trong từ điển: 24389\n",
            "Kích thước dữ liệu sau khi xử lý: (1134, 24389)\n",
            "Kích thước nhãn tương ứng: (1134,)\n"
          ]
        }
      ],
      "source": [
        "# load dữ liệu các stopwords\n",
        "with open(\"data/vietnamese-stopwords.txt\", encoding=\"utf-8\") as f:\n",
        "    stopwords = f.readlines()\n",
        "stopwords = [x.strip().replace(\" \", \"_\") for x in stopwords]\n",
        "print(f\"Số lượng stopwords: {len(stopwords)}\")\n",
        "print(stopwords[:10])\n",
        "\n",
        "# Chuyển hoá dữ liệu text về dạng vector TF\n",
        "#     - loại bỏ từ dừng\n",
        "#     - sinh từ điển\n",
        "module_count_vector = CountVectorizer(stop_words=stopwords)\n",
        "model_rf_preprocess = Pipeline([('vect', module_count_vector),\n",
        "                    ('tf', TfidfTransformer()),\n",
        "                    ])\n",
        "# Hàm thực hiện chuyển đổi dữ liệu text thành dữ liệu số dạng ma trận\n",
        "# Input: Dữ liệu 2 chiều dạng numpy.array, mảng nhãn id dạng numpy.array\n",
        "data_preprocessed = model_rf_preprocess.fit_transform(data_train.data, data_train.target)\n",
        "\n",
        "print(f\"\\nSố lượng từ trong từ điển: {len(module_count_vector.vocabulary_)}\")\n",
        "print(f\"Kích thước dữ liệu sau khi xử lý: {data_preprocessed.shape}\")\n",
        "print(f\"Kích thước nhãn tương ứng: {data_train.target.shape}\")"
      ]
    },
    {
      "cell_type": "markdown",
      "metadata": {
        "id": "aAF68Pg2ltUO"
      },
      "source": [
        "### 2.2. Chia dữ liệu thành tập train và test\n",
        "(Nghĩa là ta sẽ dùng Holdout để đánh giá hiệu quả của một mô hình)"
      ]
    },
    {
      "cell_type": "code",
      "execution_count": 26,
      "metadata": {
        "id": "xSbg7W3ultUP"
      },
      "outputs": [],
      "source": [
        "p = 0.2\n",
        "pivot = int(data_preprocessed.shape[0] * (1-0.2))\n",
        "X_train, X_test = data_preprocessed[0:pivot], data_preprocessed[pivot:]\n",
        "Y_train, Y_test = data_train.target[0:pivot], data_train.target[pivot:]"
      ]
    },
    {
      "cell_type": "markdown",
      "metadata": {
        "id": "vs_rzBAkltUP"
      },
      "source": [
        "# 3. Lựa chọn (tối ưu) tham số\n",
        "\n",
        "Chỉ dùng tập train để thực hiện lựa chọn tham số.\n",
        "- SVM: kernel, C\n",
        "- Random Forest: criteria, N\n",
        "\n",
        "Ta sẽ dùng chiến lược Cross Validation trong bước này."
      ]
    },
    {
      "cell_type": "code",
      "execution_count": 27,
      "metadata": {
        "id": "JgOpW1s3ltUQ"
      },
      "outputs": [],
      "source": [
        "def cross_validation(estimator):\n",
        "    _, train_scores, test_scores = learning_curve(estimator, X_train, Y_train, cv=10, n_jobs=-1, train_sizes=[1.0, ], scoring=\"accuracy\")\n",
        "    test_scores = test_scores[0]\n",
        "    mean, std = test_scores.mean(), test_scores.std()\n",
        "    return mean, std\n",
        "\n",
        "def plot(title, xlabel, X, Y, error, ylabel = \"Accuracy\"):\n",
        "    plt.xlabel(xlabel)\n",
        "    plt.title(title)\n",
        "    plt.grid()\n",
        "    plt.ylabel(ylabel)\n",
        "\n",
        "    plt.errorbar(X, Y, error, linestyle='None', marker='o')"
      ]
    },
    {
      "cell_type": "markdown",
      "metadata": {
        "id": "pXTGqH-pltUQ"
      },
      "source": [
        "## 3.1. Đánh giá hiệu quả của các kernel trong SVM"
      ]
    },
    {
      "cell_type": "code",
      "execution_count": 28,
      "metadata": {
        "colab": {
          "base_uri": "https://localhost:8080/",
          "height": 491
        },
        "id": "jmMc1TzCltUQ",
        "outputId": "c6c0e277-ce1b-4f67-8b91-54216973bc0d"
      },
      "outputs": [
        {
          "output_type": "stream",
          "name": "stderr",
          "text": [
            "100%|██████████| 4/4 [01:50<00:00, 27.66s/it]\n"
          ]
        },
        {
          "output_type": "display_data",
          "data": {
            "text/plain": [
              "<Figure size 640x480 with 1 Axes>"
            ],
            "image/png": "[encoded data removed]"
          },
          "metadata": {}
        }
      ],
      "source": [
        "title = \"thay đổi kernel, C = 1\"\n",
        "xlabel = \"kernel\"\n",
        "X = []\n",
        "Y = []\n",
        "error = []\n",
        "\n",
        "for kernel in tqdm(['linear', 'poly', 'rbf', 'sigmoid']):\n",
        "    # Với mỗi kernel được chọn,\n",
        "    # thực hiện xây dựng mô hình, huấn luyện và đánh giá theo cross-validation\n",
        "    text_clf = svm.SVC(kernel=kernel, C=1.0)\n",
        "    mean, std = cross_validation(text_clf)\n",
        "    X.append(kernel)\n",
        "    Y.append(mean)\n",
        "    error.append(std)\n",
        "\n",
        "# lưu kết quả ra file ảnh\n",
        "plot(title, xlabel, X, Y, error)\n",
        "plt.savefig('images/svm_change_kernel.png', bbox_inches='tight')\n",
        "plt.show()\n"
      ]
    },
    {
      "cell_type": "markdown",
      "metadata": {
        "id": "fIcAf_COltUR"
      },
      "source": [
        "## 3.2. Đánh giá ảnh hưởng của tham số C trong SVM"
      ]
    },
    {
      "cell_type": "code",
      "execution_count": 29,
      "metadata": {
        "colab": {
          "base_uri": "https://localhost:8080/",
          "height": 491
        },
        "id": "BREjUF-yltUR",
        "outputId": "38b78d4e-41f3-44d6-b6f9-105c7199db1f"
      },
      "outputs": [
        {
          "output_type": "stream",
          "name": "stderr",
          "text": [
            "100%|██████████| 5/5 [01:54<00:00, 22.88s/it]\n"
          ]
        },
        {
          "output_type": "display_data",
          "data": {
            "text/plain": [
              "<Figure size 640x480 with 1 Axes>"
            ],
            "image/png": "[encoded data removed]"
          },
          "metadata": {}
        }
      ],
      "source": [
        "title = \"thay đổi C, kernel = linear\"\n",
        "xlabel = \"C\"\n",
        "X = []\n",
        "Y = []\n",
        "error = []\n",
        "\n",
        "for C in tqdm([.1, 1.0, 2.0, 5.0, 10.0]):\n",
        "    # Với từng giá trị C nhận được,\n",
        "    # thực hiện xây dựng mô hình, huấn luyện và đánh giá theo cross-validation\n",
        "    text_clf = svm.SVC(kernel='linear', C=C)\n",
        "    mean, std = cross_validation(text_clf)\n",
        "    X.append(str(C))\n",
        "    Y.append(mean)\n",
        "    error.append(std)\n",
        "\n",
        "# lưu kết quả ra file ảnh\n",
        "plot(title, xlabel, X, Y, error)\n",
        "plt.savefig('images/svm_change_C.png', bbox_inches='tight')\n",
        "plt.show()\n"
      ]
    },
    {
      "cell_type": "markdown",
      "metadata": {
        "id": "P59RlVWKltUS"
      },
      "source": [
        "## 3.3. Đánh giá ảnh hưởng của độ đo trong Random Forest"
      ]
    },
    {
      "cell_type": "code",
      "execution_count": 30,
      "metadata": {
        "colab": {
          "base_uri": "https://localhost:8080/",
          "height": 491
        },
        "id": "saNEjPO4ltUS",
        "outputId": "8a341f81-e82d-4264-d927-98d885f871b6"
      },
      "outputs": [
        {
          "output_type": "stream",
          "name": "stderr",
          "text": [
            "100%|██████████| 2/2 [00:20<00:00, 10.42s/it]\n"
          ]
        },
        {
          "output_type": "display_data",
          "data": {
            "text/plain": [
              "<Figure size 640x480 with 1 Axes>"
            ],
            "image/png": "[encoded data removed]"
          },
          "metadata": {}
        }
      ],
      "source": [
        "title = \"thay đổi criterion, n_estimators = 50\"\n",
        "xlabel = \"criterion\"\n",
        "X = []\n",
        "Y = []\n",
        "error = []\n",
        "\n",
        "for criterion in tqdm([\"gini\", \"entropy\"]):\n",
        "    # Với mỗi criterion nhận được,\n",
        "    # thực hiện xây dựng mô hình, huấn luyện và đánh giá theo cross-validation\n",
        "    text_clf = RandomForestClassifier(criterion=criterion, n_estimators=50)\n",
        "    mean, std = cross_validation(text_clf)\n",
        "    X.append(str(criterion))\n",
        "    Y.append(mean)\n",
        "    error.append(std)\n",
        "\n",
        "# lưu kết quả ra file ảnh\n",
        "plot(title, xlabel, X, Y, error)\n",
        "plt.savefig('images/RF_change_criterion.png', bbox_inches='tight')\n",
        "plt.show()\n"
      ]
    },
    {
      "cell_type": "markdown",
      "metadata": {
        "id": "uCLSpIAhltUT"
      },
      "source": [
        "## 3.4. Đánh giá ảnh hưởng của số cây trong Random Forest"
      ]
    },
    {
      "cell_type": "code",
      "execution_count": 31,
      "metadata": {
        "colab": {
          "base_uri": "https://localhost:8080/",
          "height": 491
        },
        "id": "RaqbxeVTltUU",
        "outputId": "69342c33-57f9-45cb-aeee-ec205f7a8aba"
      },
      "outputs": [
        {
          "output_type": "stream",
          "name": "stderr",
          "text": [
            "100%|██████████| 4/4 [01:21<00:00, 20.38s/it]\n"
          ]
        },
        {
          "output_type": "display_data",
          "data": {
            "text/plain": [
              "<Figure size 640x480 with 1 Axes>"
            ],
            "image/png": "[encoded data removed]"
          },
          "metadata": {}
        }
      ],
      "source": [
        "title = \"thay đổi n_estimators, criterion = gini\"\n",
        "xlabel = \"n_estimators\"\n",
        "X = []\n",
        "Y = []\n",
        "error = []\n",
        "\n",
        "for n_estimators in tqdm([10, 50, 100, 300]):\n",
        "    # Với từng giá trị n_estimators nhận được,\n",
        "    # thực hiện xây dựng mô hình, huấn luyện và đánh giá theo cross-validation\n",
        "    text_clf = RandomForestClassifier(criterion='gini', n_estimators=n_estimators)\n",
        "    mean, std = cross_validation(text_clf)\n",
        "    X.append(str(n_estimators))\n",
        "    Y.append(mean)\n",
        "    error.append(std)\n",
        "\n",
        "# lưu kết quả ra file ảnh\n",
        "plot(title, xlabel, X, Y, error)\n",
        "plt.savefig('images/RF_change_N.png', bbox_inches='tight')\n",
        "plt.show()\n"
      ]
    },
    {
      "cell_type": "markdown",
      "metadata": {
        "id": "s_iQEcQkltUU"
      },
      "source": [
        "## 3.4. Đánh giá ảnh tham số K trong mô hình KNN"
      ]
    },
    {
      "cell_type": "code",
      "execution_count": 32,
      "metadata": {
        "colab": {
          "base_uri": "https://localhost:8080/",
          "height": 491
        },
        "id": "QuYgcjspltUV",
        "outputId": "c9da1e4e-98c1-4e22-9f0d-29b60d5572a4"
      },
      "outputs": [
        {
          "output_type": "stream",
          "name": "stderr",
          "text": [
            "100%|██████████| 5/5 [00:03<00:00,  1.52it/s]\n"
          ]
        },
        {
          "output_type": "display_data",
          "data": {
            "text/plain": [
              "<Figure size 640x480 with 1 Axes>"
            ],
            "image/png": "[encoded data removed]"
          },
          "metadata": {}
        }
      ],
      "source": [
        "from sklearn.neighbors import KNeighborsClassifier\n",
        "\n",
        "title = \"thay đổi K\"\n",
        "xlabel = \"K\"\n",
        "X = []\n",
        "Y = []\n",
        "error = []\n",
        "\n",
        "for k in tqdm([1, 3, 5, 20, 50]):\n",
        "    # Với từng giá trị k nhận được,\n",
        "    # thực hiện xây dựng mô hình, huấn luyện và đánh giá theo cross-validation\n",
        "    text_clf = KNeighborsClassifier(n_neighbors=k)\n",
        "    mean, std = cross_validation(text_clf)\n",
        "    X.append(str(k))\n",
        "    Y.append(mean)\n",
        "    error.append(std)\n",
        "\n",
        "# lưu kết quả ra file ảnh\n",
        "plot(title, xlabel, X, Y, error)\n",
        "plt.savefig('images/KNN_change_K.png', bbox_inches='tight')\n",
        "plt.show()\n"
      ]
    },
    {
      "cell_type": "markdown",
      "metadata": {
        "id": "4dBnZWDPltUV"
      },
      "source": [
        "# 4. So sánh các mô hình\n",
        "- Sau khi chọn được các bộ tham số tốt nhất cho mỗi mô hình, ta huấn luyện lại trên toàn bộ tập Train.\n",
        "- Dùng các mô hình mới huấn luyện để phán đoán cho các dữ liệu trong tập Test\n",
        "- Đo đạc Độ chính xác (Accuracy) của chúng và so sánh kết quả."
      ]
    },
    {
      "cell_type": "code",
      "execution_count": 33,
      "metadata": {
        "colab": {
          "base_uri": "https://localhost:8080/",
          "height": 81
        },
        "id": "b_cJ9JK2ltUW",
        "outputId": "700df4de-57db-4f35-a76f-5f01e143fc09"
      },
      "outputs": [
        {
          "output_type": "execute_result",
          "data": {
            "text/plain": [
              "KNeighborsClassifier()"
            ],
            "text/html": [
              "<style>#sk-container-id-3 {\n",
              "  /* Definition of color scheme common for light and dark mode */\n",
              "  --sklearn-color-text: #000;\n",
              "  --sklearn-color-text-muted: #666;\n",
              "  --sklearn-color-line: gray;\n",
              "  /* Definition of color scheme for unfitted estimators */\n",
              "  --sklearn-color-unfitted-level-0: #fff5e6;\n",
              "  --sklearn-color-unfitted-level-1: #f6e4d2;\n",
              "  --sklearn-color-unfitted-level-2: #ffe0b3;\n",
              "  --sklearn-color-unfitted-level-3: chocolate;\n",
              "  /* Definition of color scheme for fitted estimators */\n",
              "  --sklearn-color-fitted-level-0: #f0f8ff;\n",
              "  --sklearn-color-fitted-level-1: #d4ebff;\n",
              "  --sklearn-color-fitted-level-2: #b3dbfd;\n",
              "  --sklearn-color-fitted-level-3: cornflowerblue;\n",
              "\n",
              "  /* Specific color for light theme */\n",
              "  --sklearn-color-text-on-default-background: var(--sg-text-color, var(--theme-code-foreground, var(--jp-content-font-color1, black)));\n",
              "  --sklearn-color-background: var(--sg-background-color, var(--theme-background, var(--jp-layout-color0, white)));\n",
              "  --sklearn-color-border-box: var(--sg-text-color, var(--theme-code-foreground, var(--jp-content-font-color1, black)));\n",
              "  --sklearn-color-icon: #696969;\n",
              "\n",
              "  @media (prefers-color-scheme: dark) {\n",
              "    /* Redefinition of color scheme for dark theme */\n",
              "    --sklearn-color-text-on-default-background: var(--sg-text-color, var(--theme-code-foreground, var(--jp-content-font-color1, white)));\n",
              "    --sklearn-color-background: var(--sg-background-color, var(--theme-background, var(--jp-layout-color0, #111)));\n",
              "    --sklearn-color-border-box: var(--sg-text-color, var(--theme-code-foreground, var(--jp-content-font-color1, white)));\n",
              "    --sklearn-color-icon: #878787;\n",
              "  }\n",
              "}\n",
              "\n",
              "#sk-container-id-3 {\n",
              "  color: var(--sklearn-color-text);\n",
              "}\n",
              "\n",
              "#sk-container-id-3 pre {\n",
              "  padding: 0;\n",
              "}\n",
              "\n",
              "#sk-container-id-3 input.sk-hidden--visually {\n",
              "  border: 0;\n",
              "  clip: rect(1px 1px 1px 1px);\n",
              "  clip: rect(1px, 1px, 1px, 1px);\n",
              "  height: 1px;\n",
              "  margin: -1px;\n",
              "  overflow: hidden;\n",
              "  padding: 0;\n",
              "  position: absolute;\n",
              "  width: 1px;\n",
              "}\n",
              "\n",
              "#sk-container-id-3 div.sk-dashed-wrapped {\n",
              "  border: 1px dashed var(--sklearn-color-line);\n",
              "  margin: 0 0.4em 0.5em 0.4em;\n",
              "  box-sizing: border-box;\n",
              "  padding-bottom: 0.4em;\n",
              "  background-color: var(--sklearn-color-background);\n",
              "}\n",
              "\n",
              "#sk-container-id-3 div.sk-container {\n",
              "  /* jupyter's `normalize.less` sets `[hidden] { display: none; }`\n",
              "     but bootstrap.min.css set `[hidden] { display: none !important; }`\n",
              "     so we also need the `!important` here to be able to override the\n",
              "     default hidden behavior on the sphinx rendered scikit-learn.org.\n",
              "     See: https://github.com/scikit-learn/scikit-learn/issues/21755 */\n",
              "  display: inline-block !important;\n",
              "  position: relative;\n",
              "}\n",
              "\n",
              "#sk-container-id-3 div.sk-text-repr-fallback {\n",
              "  display: none;\n",
              "}\n",
              "\n",
              "div.sk-parallel-item,\n",
              "div.sk-serial,\n",
              "div.sk-item {\n",
              "  /* draw centered vertical line to link estimators */\n",
              "  background-image: linear-gradient(var(--sklearn-color-text-on-default-background), var(--sklearn-color-text-on-default-background));\n",
              "  background-size: 2px 100%;\n",
              "  background-repeat: no-repeat;\n",
              "  background-position: center center;\n",
              "}\n",
              "\n",
              "/* Parallel-specific style estimator block */\n",
              "\n",
              "#sk-container-id-3 div.sk-parallel-item::after {\n",
              "  content: \"\";\n",
              "  width: 100%;\n",
              "  border-bottom: 2px solid var(--sklearn-color-text-on-default-background);\n",
              "  flex-grow: 1;\n",
              "}\n",
              "\n",
              "#sk-container-id-3 div.sk-parallel {\n",
              "  display: flex;\n",
              "  align-items: stretch;\n",
              "  justify-content: center;\n",
              "  background-color: var(--sklearn-color-background);\n",
              "  position: relative;\n",
              "}\n",
              "\n",
              "#sk-container-id-3 div.sk-parallel-item {\n",
              "  display: flex;\n",
              "  flex-direction: column;\n",
              "}\n",
              "\n",
              "#sk-container-id-3 div.sk-parallel-item:first-child::after {\n",
              "  align-self: flex-end;\n",
              "  width: 50%;\n",
              "}\n",
              "\n",
              "#sk-container-id-3 div.sk-parallel-item:last-child::after {\n",
              "  align-self: flex-start;\n",
              "  width: 50%;\n",
              "}\n",
              "\n",
              "#sk-container-id-3 div.sk-parallel-item:only-child::after {\n",
              "  width: 0;\n",
              "}\n",
              "\n",
              "/* Serial-specific style estimator block */\n",
              "\n",
              "#sk-container-id-3 div.sk-serial {\n",
              "  display: flex;\n",
              "  flex-direction: column;\n",
              "  align-items: center;\n",
              "  background-color: var(--sklearn-color-background);\n",
              "  padding-right: 1em;\n",
              "  padding-left: 1em;\n",
              "}\n",
              "\n",
              "\n",
              "/* Toggleable style: style used for estimator/Pipeline/ColumnTransformer box that is\n",
              "clickable and can be expanded/collapsed.\n",
              "- Pipeline and ColumnTransformer use this feature and define the default style\n",
              "- Estimators will overwrite some part of the style using the `sk-estimator` class\n",
              "*/\n",
              "\n",
              "/* Pipeline and ColumnTransformer style (default) */\n",
              "\n",
              "#sk-container-id-3 div.sk-toggleable {\n",
              "  /* Default theme specific background. It is overwritten whether we have a\n",
              "  specific estimator or a Pipeline/ColumnTransformer */\n",
              "  background-color: var(--sklearn-color-background);\n",
              "}\n",
              "\n",
              "/* Toggleable label */\n",
              "#sk-container-id-3 label.sk-toggleable__label {\n",
              "  cursor: pointer;\n",
              "  display: flex;\n",
              "  width: 100%;\n",
              "  margin-bottom: 0;\n",
              "  padding: 0.5em;\n",
              "  box-sizing: border-box;\n",
              "  text-align: center;\n",
              "  align-items: start;\n",
              "  justify-content: space-between;\n",
              "  gap: 0.5em;\n",
              "}\n",
              "\n",
              "#sk-container-id-3 label.sk-toggleable__label .caption {\n",
              "  font-size: 0.6rem;\n",
              "  font-weight: lighter;\n",
              "  color: var(--sklearn-color-text-muted);\n",
              "}\n",
              "\n",
              "#sk-container-id-3 label.sk-toggleable__label-arrow:before {\n",
              "  /* Arrow on the left of the label */\n",
              "  content: \"▸\";\n",
              "  float: left;\n",
              "  margin-right: 0.25em;\n",
              "  color: var(--sklearn-color-icon);\n",
              "}\n",
              "\n",
              "#sk-container-id-3 label.sk-toggleable__label-arrow:hover:before {\n",
              "  color: var(--sklearn-color-text);\n",
              "}\n",
              "\n",
              "/* Toggleable content - dropdown */\n",
              "\n",
              "#sk-container-id-3 div.sk-toggleable__content {\n",
              "  max-height: 0;\n",
              "  max-width: 0;\n",
              "  overflow: hidden;\n",
              "  text-align: left;\n",
              "  /* unfitted */\n",
              "  background-color: var(--sklearn-color-unfitted-level-0);\n",
              "}\n",
              "\n",
              "#sk-container-id-3 div.sk-toggleable__content.fitted {\n",
              "  /* fitted */\n",
              "  background-color: var(--sklearn-color-fitted-level-0);\n",
              "}\n",
              "\n",
              "#sk-container-id-3 div.sk-toggleable__content pre {\n",
              "  margin: 0.2em;\n",
              "  border-radius: 0.25em;\n",
              "  color: var(--sklearn-color-text);\n",
              "  /* unfitted */\n",
              "  background-color: var(--sklearn-color-unfitted-level-0);\n",
              "}\n",
              "\n",
              "#sk-container-id-3 div.sk-toggleable__content.fitted pre {\n",
              "  /* unfitted */\n",
              "  background-color: var(--sklearn-color-fitted-level-0);\n",
              "}\n",
              "\n",
              "#sk-container-id-3 input.sk-toggleable__control:checked~div.sk-toggleable__content {\n",
              "  /* Expand drop-down */\n",
              "  max-height: 200px;\n",
              "  max-width: 100%;\n",
              "  overflow: auto;\n",
              "}\n",
              "\n",
              "#sk-container-id-3 input.sk-toggleable__control:checked~label.sk-toggleable__label-arrow:before {\n",
              "  content: \"▾\";\n",
              "}\n",
              "\n",
              "/* Pipeline/ColumnTransformer-specific style */\n",
              "\n",
              "#sk-container-id-3 div.sk-label input.sk-toggleable__control:checked~label.sk-toggleable__label {\n",
              "  color: var(--sklearn-color-text);\n",
              "  background-color: var(--sklearn-color-unfitted-level-2);\n",
              "}\n",
              "\n",
              "#sk-container-id-3 div.sk-label.fitted input.sk-toggleable__control:checked~label.sk-toggleable__label {\n",
              "  background-color: var(--sklearn-color-fitted-level-2);\n",
              "}\n",
              "\n",
              "/* Estimator-specific style */\n",
              "\n",
              "/* Colorize estimator box */\n",
              "#sk-container-id-3 div.sk-estimator input.sk-toggleable__control:checked~label.sk-toggleable__label {\n",
              "  /* unfitted */\n",
              "  background-color: var(--sklearn-color-unfitted-level-2);\n",
              "}\n",
              "\n",
              "#sk-container-id-3 div.sk-estimator.fitted input.sk-toggleable__control:checked~label.sk-toggleable__label {\n",
              "  /* fitted */\n",
              "  background-color: var(--sklearn-color-fitted-level-2);\n",
              "}\n",
              "\n",
              "#sk-container-id-3 div.sk-label label.sk-toggleable__label,\n",
              "#sk-container-id-3 div.sk-label label {\n",
              "  /* The background is the default theme color */\n",
              "  color: var(--sklearn-color-text-on-default-background);\n",
              "}\n",
              "\n",
              "/* On hover, darken the color of the background */\n",
              "#sk-container-id-3 div.sk-label:hover label.sk-toggleable__label {\n",
              "  color: var(--sklearn-color-text);\n",
              "  background-color: var(--sklearn-color-unfitted-level-2);\n",
              "}\n",
              "\n",
              "/* Label box, darken color on hover, fitted */\n",
              "#sk-container-id-3 div.sk-label.fitted:hover label.sk-toggleable__label.fitted {\n",
              "  color: var(--sklearn-color-text);\n",
              "  background-color: var(--sklearn-color-fitted-level-2);\n",
              "}\n",
              "\n",
              "/* Estimator label */\n",
              "\n",
              "#sk-container-id-3 div.sk-label label {\n",
              "  font-family: monospace;\n",
              "  font-weight: bold;\n",
              "  display: inline-block;\n",
              "  line-height: 1.2em;\n",
              "}\n",
              "\n",
              "#sk-container-id-3 div.sk-label-container {\n",
              "  text-align: center;\n",
              "}\n",
              "\n",
              "/* Estimator-specific */\n",
              "#sk-container-id-3 div.sk-estimator {\n",
              "  font-family: monospace;\n",
              "  border: 1px dotted var(--sklearn-color-border-box);\n",
              "  border-radius: 0.25em;\n",
              "  box-sizing: border-box;\n",
              "  margin-bottom: 0.5em;\n",
              "  /* unfitted */\n",
              "  background-color: var(--sklearn-color-unfitted-level-0);\n",
              "}\n",
              "\n",
              "#sk-container-id-3 div.sk-estimator.fitted {\n",
              "  /* fitted */\n",
              "  background-color: var(--sklearn-color-fitted-level-0);\n",
              "}\n",
              "\n",
              "/* on hover */\n",
              "#sk-container-id-3 div.sk-estimator:hover {\n",
              "  /* unfitted */\n",
              "  background-color: var(--sklearn-color-unfitted-level-2);\n",
              "}\n",
              "\n",
              "#sk-container-id-3 div.sk-estimator.fitted:hover {\n",
              "  /* fitted */\n",
              "  background-color: var(--sklearn-color-fitted-level-2);\n",
              "}\n",
              "\n",
              "/* Specification for estimator info (e.g. \"i\" and \"?\") */\n",
              "\n",
              "/* Common style for \"i\" and \"?\" */\n",
              "\n",
              ".sk-estimator-doc-link,\n",
              "a:link.sk-estimator-doc-link,\n",
              "a:visited.sk-estimator-doc-link {\n",
              "  float: right;\n",
              "  font-size: smaller;\n",
              "  line-height: 1em;\n",
              "  font-family: monospace;\n",
              "  background-color: var(--sklearn-color-background);\n",
              "  border-radius: 1em;\n",
              "  height: 1em;\n",
              "  width: 1em;\n",
              "  text-decoration: none !important;\n",
              "  margin-left: 0.5em;\n",
              "  text-align: center;\n",
              "  /* unfitted */\n",
              "  border: var(--sklearn-color-unfitted-level-1) 1pt solid;\n",
              "  color: var(--sklearn-color-unfitted-level-1);\n",
              "}\n",
              "\n",
              ".sk-estimator-doc-link.fitted,\n",
              "a:link.sk-estimator-doc-link.fitted,\n",
              "a:visited.sk-estimator-doc-link.fitted {\n",
              "  /* fitted */\n",
              "  border: var(--sklearn-color-fitted-level-1) 1pt solid;\n",
              "  color: var(--sklearn-color-fitted-level-1);\n",
              "}\n",
              "\n",
              "/* On hover */\n",
              "div.sk-estimator:hover .sk-estimator-doc-link:hover,\n",
              ".sk-estimator-doc-link:hover,\n",
              "div.sk-label-container:hover .sk-estimator-doc-link:hover,\n",
              ".sk-estimator-doc-link:hover {\n",
              "  /* unfitted */\n",
              "  background-color: var(--sklearn-color-unfitted-level-3);\n",
              "  color: var(--sklearn-color-background);\n",
              "  text-decoration: none;\n",
              "}\n",
              "\n",
              "div.sk-estimator.fitted:hover .sk-estimator-doc-link.fitted:hover,\n",
              ".sk-estimator-doc-link.fitted:hover,\n",
              "div.sk-label-container:hover .sk-estimator-doc-link.fitted:hover,\n",
              ".sk-estimator-doc-link.fitted:hover {\n",
              "  /* fitted */\n",
              "  background-color: var(--sklearn-color-fitted-level-3);\n",
              "  color: var(--sklearn-color-background);\n",
              "  text-decoration: none;\n",
              "}\n",
              "\n",
              "/* Span, style for the box shown on hovering the info icon */\n",
              ".sk-estimator-doc-link span {\n",
              "  display: none;\n",
              "  z-index: 9999;\n",
              "  position: relative;\n",
              "  font-weight: normal;\n",
              "  right: .2ex;\n",
              "  padding: .5ex;\n",
              "  margin: .5ex;\n",
              "  width: min-content;\n",
              "  min-width: 20ex;\n",
              "  max-width: 50ex;\n",
              "  color: var(--sklearn-color-text);\n",
              "  box-shadow: 2pt 2pt 4pt #999;\n",
              "  /* unfitted */\n",
              "  background: var(--sklearn-color-unfitted-level-0);\n",
              "  border: .5pt solid var(--sklearn-color-unfitted-level-3);\n",
              "}\n",
              "\n",
              ".sk-estimator-doc-link.fitted span {\n",
              "  /* fitted */\n",
              "  background: var(--sklearn-color-fitted-level-0);\n",
              "  border: var(--sklearn-color-fitted-level-3);\n",
              "}\n",
              "\n",
              ".sk-estimator-doc-link:hover span {\n",
              "  display: block;\n",
              "}\n",
              "\n",
              "/* \"?\"-specific style due to the `<a>` HTML tag */\n",
              "\n",
              "#sk-container-id-3 a.estimator_doc_link {\n",
              "  float: right;\n",
              "  font-size: 1rem;\n",
              "  line-height: 1em;\n",
              "  font-family: monospace;\n",
              "  background-color: var(--sklearn-color-background);\n",
              "  border-radius: 1rem;\n",
              "  height: 1rem;\n",
              "  width: 1rem;\n",
              "  text-decoration: none;\n",
              "  /* unfitted */\n",
              "  color: var(--sklearn-color-unfitted-level-1);\n",
              "  border: var(--sklearn-color-unfitted-level-1) 1pt solid;\n",
              "}\n",
              "\n",
              "#sk-container-id-3 a.estimator_doc_link.fitted {\n",
              "  /* fitted */\n",
              "  border: var(--sklearn-color-fitted-level-1) 1pt solid;\n",
              "  color: var(--sklearn-color-fitted-level-1);\n",
              "}\n",
              "\n",
              "/* On hover */\n",
              "#sk-container-id-3 a.estimator_doc_link:hover {\n",
              "  /* unfitted */\n",
              "  background-color: var(--sklearn-color-unfitted-level-3);\n",
              "  color: var(--sklearn-color-background);\n",
              "  text-decoration: none;\n",
              "}\n",
              "\n",
              "#sk-container-id-3 a.estimator_doc_link.fitted:hover {\n",
              "  /* fitted */\n",
              "  background-color: var(--sklearn-color-fitted-level-3);\n",
              "}\n",
              "</style><div id=\"sk-container-id-3\" class=\"sk-top-container\"><div class=\"sk-text-repr-fallback\"><pre>KNeighborsClassifier()</pre><b>In a Jupyter environment, please rerun this cell to show the HTML representation or trust the notebook. <br />On GitHub, the HTML representation is unable to render, please try loading this page with nbviewer.org.</b></div><div class=\"sk-container\" hidden><div class=\"sk-item\"><div class=\"sk-estimator fitted sk-toggleable\"><input class=\"sk-toggleable__control sk-hidden--visually\" id=\"sk-estimator-id-3\" type=\"checkbox\" checked><label for=\"sk-estimator-id-3\" class=\"sk-toggleable__label fitted sk-toggleable__label-arrow\"><div><div>KNeighborsClassifier</div></div><div><a class=\"sk-estimator-doc-link fitted\" rel=\"noreferrer\" target=\"_blank\" href=\"https://scikit-learn.org/1.6/modules/generated/sklearn.neighbors.KNeighborsClassifier.html\">?<span>Documentation for KNeighborsClassifier</span></a><span class=\"sk-estimator-doc-link fitted\">i<span>Fitted</span></span></div></label><div class=\"sk-toggleable__content fitted\"><pre>KNeighborsClassifier()</pre></div> </div></div></div></div>"
            ]
          },
          "metadata": {},
          "execution_count": 33
        }
      ],
      "source": [
        "svm_ = svm.SVC(kernel='linear', C=1.0)\n",
        "rf = RandomForestClassifier(criterion='gini', n_estimators=300)\n",
        "knn = KNeighborsClassifier(n_neighbors=5)\n",
        "\n",
        "# Huấn luyện các mô hình trên tập dữ liệu train đầy đủ\n",
        "svm_.fit(X_train, Y_train)\n",
        "rf.fit(X_train, Y_train)\n",
        "knn.fit(X_train, Y_train)\n"
      ]
    },
    {
      "cell_type": "code",
      "execution_count": 34,
      "metadata": {
        "colab": {
          "base_uri": "https://localhost:8080/"
        },
        "id": "WsM7xo70ltUW",
        "outputId": "ca3138df-6a78-414f-f3c3-ff44e7168547"
      },
      "outputs": [
        {
          "output_type": "stream",
          "name": "stdout",
          "text": [
            "SVM: 0.8854625550660793\n",
            "RF: 0.8370044052863436\n",
            "KNN: 0.8281938325991189\n"
          ]
        }
      ],
      "source": [
        "# Kết quả dự đoán trên tập test\n",
        "print(f'SVM: {accuracy_score(Y_test, svm_.predict(X_test))}')\n",
        "print(f'RF: {accuracy_score(Y_test, rf.predict(X_test))}')\n",
        "print(f'KNN: {accuracy_score(Y_test, knn.predict(X_test))}')"
      ]
    },
    {
      "cell_type": "code",
      "execution_count": 38,
      "metadata": {
        "colab": {
          "base_uri": "https://localhost:8080/",
          "height": 472
        },
        "id": "WSy9W2vgltUX",
        "outputId": "422fb80f-8342-4525-ebdd-198f93516073"
      },
      "outputs": [
        {
          "output_type": "display_data",
          "data": {
            "text/plain": [
              "<Figure size 640x480 with 2 Axes>"
            ],
            "image/png": "[encoded data removed]"
          },
          "metadata": {}
        }
      ],
      "source": [
        "from sklearn.metrics import ConfusionMatrixDisplay\n",
        "\n",
        "cm_svm = confusion_matrix(Y_test, svm_.predict(X_test))\n",
        "disp = ConfusionMatrixDisplay(confusion_matrix = cm_svm, display_labels = svm_.classes_)\n",
        "disp.plot(cmap = 'Blues')\n",
        "plt.title(\"Confusion Matrix of SVM Model\")\n",
        "plt.show()"
      ]
    },
    {
      "cell_type": "code",
      "execution_count": 40,
      "metadata": {
        "colab": {
          "base_uri": "https://localhost:8080/",
          "height": 472
        },
        "id": "YhGg4w6wltUX",
        "outputId": "6deb63d6-8024-4db2-f4ca-c97829af6338"
      },
      "outputs": [
        {
          "output_type": "display_data",
          "data": {
            "text/plain": [
              "<Figure size 640x480 with 2 Axes>"
            ],
            "image/png": "[encoded data removed]"
          },
          "metadata": {}
        }
      ],
      "source": [
        "cm_rf = confusion_matrix(Y_test, rf.predict(X_test))\n",
        "disp = ConfusionMatrixDisplay(confusion_matrix = cm_rf, display_labels = svm_.classes_)\n",
        "disp.plot(cmap = 'Blues')\n",
        "plt.title(\"Confusion Matrix of RF Model\")\n",
        "plt.show()"
      ]
    },
    {
      "cell_type": "code",
      "execution_count": 41,
      "metadata": {
        "colab": {
          "base_uri": "https://localhost:8080/",
          "height": 472
        },
        "id": "_I8kX_0rltUX",
        "outputId": "8a96d864-2695-4c3c-e291-9181d71ff8c0"
      },
      "outputs": [
        {
          "output_type": "display_data",
          "data": {
            "text/plain": [
              "<Figure size 640x480 with 2 Axes>"
            ],
            "image/png": "[encoded data removed]"
          },
          "metadata": {}
        }
      ],
      "source": [
        "from sklearn.metrics import ConfusionMatrixDisplay\n",
        "\n",
        "cm_knn = confusion_matrix(Y_test, knn.predict(X_test))\n",
        "disp = ConfusionMatrixDisplay(confusion_matrix = cm_knn, display_labels = svm_.classes_)\n",
        "disp.plot(cmap = 'Blues')\n",
        "plt.title(\"Confusion Matrix of SVM Model\")\n",
        "plt.show()"
      ]
    },
    {
      "cell_type": "markdown",
      "metadata": {
        "id": "U-FVKTGUltUY"
      },
      "source": [
        "# 5. Bài tập\n",
        "- Sử dụng dữ liệu đánh giá tín dụng cá nhân\n",
        "- Sử dụng độ đo đánh giá negative cost\n",
        "- Lựa chọn tham số cho các mô hình SVM, Random Forest và KNN\n",
        "- So sánh các mô hình với siêu tham số tốt nhất"
      ]
    },
    {
      "cell_type": "code",
      "execution_count": 42,
      "metadata": {
        "colab": {
          "base_uri": "https://localhost:8080/"
        },
        "id": "EvLWX95qltUY",
        "outputId": "55c6bfb7-3bcf-4af2-e511-4b0c2f1e8a3d"
      },
      "outputs": [
        {
          "output_type": "stream",
          "name": "stdout",
          "text": [
            "(1000, 24)\n",
            "(1000,)\n"
          ]
        }
      ],
      "source": [
        "data = np.genfromtxt('german.data-numeric')\n",
        "X_data = data[:,:24]\n",
        "Y_data = data[:,-1]\n",
        "print(X_data.shape)\n",
        "print(Y_data.shape)"
      ]
    },
    {
      "cell_type": "code",
      "execution_count": 43,
      "metadata": {
        "id": "MTs8qk8WltUZ"
      },
      "outputs": [],
      "source": [
        "# Hàm tính neg_cost, dùng để truyền vào scoring của learning_curve\n",
        "def neg_cost(estimator, X, y):\n",
        "    y_true = y\n",
        "    y_pred = estimator.predict(X)\n",
        "    true_pos = ((y_true==y_pred)&(y_true==1.0))*0.0\n",
        "    true_ne = ((y_true==y_pred)&(y_true==2.0))*0.0\n",
        "    false_ne = ((y_true!=y_pred)&(y_true==1.0))*1.0\n",
        "    false_pos = ((y_true!=y_pred)&(y_true==2.0))*5.0\n",
        "    return -sum(true_pos + true_ne + false_pos + false_ne)/len(y_true)"
      ]
    },
    {
      "cell_type": "code",
      "source": [
        "X_train, X_test, Y_train, Y_test = train_test_split(X_data, Y_data, test_size = 0.2, random_state = 42)"
      ],
      "metadata": {
        "id": "0PbWIcQHwNeu"
      },
      "execution_count": 44,
      "outputs": []
    },
    {
      "cell_type": "code",
      "source": [
        "def cross_validation(estimator):\n",
        "    _, train_scores, test_scores = learning_curve(estimator, X_train, Y_train, cv = 10, n_jobs = -1, train_sizes = [1.0, ], scoring = neg_cost)\n",
        "    test_scores = test_scores[0]\n",
        "    mean, std = test_scores.mean(), test_scores.std()\n",
        "    return mean, std\n",
        "\n",
        "def plot(title, xlabel, X, Y, error, ylabel = \"Negative Cost\"):\n",
        "    plt.xlabel(xlabel)\n",
        "    plt.title(title)\n",
        "    plt.grid()\n",
        "    plt.ylabel(ylabel)\n",
        "    plt.errorbar(X, Y, error, linestyle = 'None', marker = 'o')"
      ],
      "metadata": {
        "id": "7ceTc6f2wm0v"
      },
      "execution_count": 45,
      "outputs": []
    },
    {
      "cell_type": "markdown",
      "source": [
        "# SVM parameters"
      ],
      "metadata": {
        "id": "UE9FycbHxOEk"
      }
    },
    {
      "cell_type": "code",
      "source": [
        "title = \"Change kernel and C = 1\"\n",
        "xlabel = \"kernel\"\n",
        "X = []\n",
        "Y = []\n",
        "error = []\n",
        "for kernel in tqdm(['linear', 'poly', 'rbf', 'sigmoid']):\n",
        "    # Với mỗi kernel được chọn,\n",
        "    # thực hiện xây dựng mô hình, huấn luyện và đánh giá theo cross-validation\n",
        "    text_clf = svm.SVC(kernel = kernel, C = 1.0)\n",
        "    mean, std = cross_validation(text_clf)\n",
        "    X.append(kernel)\n",
        "    Y.append(mean)\n",
        "    error.append(std)\n",
        "\n",
        "plot(title, xlabel, X, Y, error)\n",
        "plt.show()"
      ],
      "metadata": {
        "colab": {
          "base_uri": "https://localhost:8080/",
          "height": 489
        },
        "id": "mqp5PkiVxUZ5",
        "outputId": "62e35704-e5ab-4542-8738-55784d2ffeea"
      },
      "execution_count": 46,
      "outputs": [
        {
          "output_type": "stream",
          "name": "stderr",
          "text": [
            "100%|██████████| 4/4 [00:12<00:00,  3.10s/it]\n"
          ]
        },
        {
          "output_type": "display_data",
          "data": {
            "text/plain": [
              "<Figure size 640x480 with 1 Axes>"
            ],
            "image/png": "[encoded data removed]"
          },
          "metadata": {}
        }
      ]
    },
    {
      "cell_type": "code",
      "source": [
        "title = \"Change C and kernel = linear\"\n",
        "xlabel = \"C\"\n",
        "X = []\n",
        "Y = []\n",
        "error = []\n",
        "for C in tqdm([.1, 1.0, 2.0, 5.0, 10.0]):\n",
        "    text_clf = svm.SVC(kernel = 'linear', C = C)\n",
        "    mean, std = cross_validation(text_clf)\n",
        "    X.append(str(C))\n",
        "    Y.append(mean)\n",
        "    error.append(std)\n",
        "\n",
        "plot(title, xlabel, X, Y, error)\n",
        "plt.show()"
      ],
      "metadata": {
        "colab": {
          "base_uri": "https://localhost:8080/",
          "height": 489
        },
        "id": "GUjWcUXAxUQD",
        "outputId": "03966ef2-53f9-43d8-ffd6-d83ad46a0f69"
      },
      "execution_count": 47,
      "outputs": [
        {
          "output_type": "stream",
          "name": "stderr",
          "text": [
            "100%|██████████| 5/5 [02:00<00:00, 24.09s/it]\n"
          ]
        },
        {
          "output_type": "display_data",
          "data": {
            "text/plain": [
              "<Figure size 640x480 with 1 Axes>"
            ],
            "image/png": "[encoded data removed]"
          },
          "metadata": {}
        }
      ]
    },
    {
      "cell_type": "markdown",
      "source": [
        "# RF parameters"
      ],
      "metadata": {
        "id": "lmkavoHGxU7R"
      }
    },
    {
      "cell_type": "code",
      "source": [
        "title = \"thay đổi criterion, n_estimators = 50\"\n",
        "xlabel = \"criterion\"\n",
        "X = []\n",
        "Y = []\n",
        "error = []\n",
        "\n",
        "for criterion in tqdm([\"gini\", \"entropy\"]):\n",
        "    # Với mỗi criterion nhận được,\n",
        "    # thực hiện xây dựng mô hình, huấn luyện và đánh giá theo cross-validation\n",
        "    text_clf = RandomForestClassifier(criterion = criterion, n_estimators=50)\n",
        "    mean, std = cross_validation(text_clf)\n",
        "    X.append(str(criterion))\n",
        "    Y.append(mean)\n",
        "    error.append(std)\n",
        "\n",
        "# lưu kết quả ra file ảnh\n",
        "plot(title, xlabel, X, Y, error)\n",
        "plt.show()"
      ],
      "metadata": {
        "colab": {
          "base_uri": "https://localhost:8080/",
          "height": 491
        },
        "id": "iEQkssg7xYxj",
        "outputId": "c6c3703f-2ed5-4b4d-d2aa-132802d23681"
      },
      "execution_count": 48,
      "outputs": [
        {
          "output_type": "stream",
          "name": "stderr",
          "text": [
            "100%|██████████| 2/2 [00:02<00:00,  1.13s/it]\n"
          ]
        },
        {
          "output_type": "display_data",
          "data": {
            "text/plain": [
              "<Figure size 640x480 with 1 Axes>"
            ],
            "image/png": "[encoded data removed]"
          },
          "metadata": {}
        }
      ]
    },
    {
      "cell_type": "code",
      "source": [
        "\n",
        "title = \"Change n_estimators, criterion = entropy\"\n",
        "xlabel = \"n_estimators\"\n",
        "X = []\n",
        "Y = []\n",
        "error = []\n",
        "\n",
        "for n_estimators in tqdm([10, 50, 100, 300]):\n",
        "    text_clf = RandomForestClassifier(criterion = 'entropy', n_estimators = n_estimators)\n",
        "    mean, std = cross_validation(text_clf)\n",
        "    X.append(str(n_estimators))\n",
        "    Y.append(mean)\n",
        "    error.append(std)\n",
        "\n",
        "plot(title, xlabel, X, Y, error)\n",
        "plt.show()"
      ],
      "metadata": {
        "colab": {
          "base_uri": "https://localhost:8080/",
          "height": 489
        },
        "id": "e21uJpUZxZH3",
        "outputId": "8ede6666-2518-43ab-a3cf-dca639d4672a"
      },
      "execution_count": 49,
      "outputs": [
        {
          "output_type": "stream",
          "name": "stderr",
          "text": [
            "100%|██████████| 4/4 [00:11<00:00,  2.91s/it]\n"
          ]
        },
        {
          "output_type": "display_data",
          "data": {
            "text/plain": [
              "<Figure size 640x480 with 1 Axes>"
            ],
            "image/png": "[encoded data removed]"
          },
          "metadata": {}
        }
      ]
    },
    {
      "cell_type": "markdown",
      "source": [
        "# KNN parameter"
      ],
      "metadata": {
        "id": "yNO2JvnFxZne"
      }
    },
    {
      "cell_type": "code",
      "source": [
        "title = \"Change K\"\n",
        "xlabel = \"K\"\n",
        "X = []\n",
        "Y = []\n",
        "error = []\n",
        "\n",
        "for k in tqdm([1, 3, 5, 20, 50]):\n",
        "    text_clf = KNeighborsClassifier(n_neighbors = k)\n",
        "    mean, std = cross_validation(text_clf)\n",
        "    X.append(str(k))\n",
        "    Y.append(mean)\n",
        "    error.append(std)\n",
        "\n",
        "plot(title, xlabel, X, Y, error)\n",
        "plt.show()"
      ],
      "metadata": {
        "id": "2FVxbRDQxttG"
      },
      "execution_count": null,
      "outputs": []
    },
    {
      "cell_type": "markdown",
      "source": [
        "# model comparision"
      ],
      "metadata": {
        "id": "lD7JB8knxxfp"
      }
    },
    {
      "cell_type": "code",
      "source": [
        "svm_ = svm.SVC(kernel = 'linear', C = 10)\n",
        "rf = RandomForestClassifier(criterion = 'entropy', n_estimators = 50)\n",
        "knn = KNeighborsClassifier(n_neighbors = 3)\n",
        "\n",
        "svm_.fit(X_train, Y_train)\n",
        "rf.fit(X_train, Y_train)\n",
        "knn.fit(X_train, Y_train)"
      ],
      "metadata": {
        "colab": {
          "base_uri": "https://localhost:8080/",
          "height": 81
        },
        "id": "m5dUMeR1x1E5",
        "outputId": "ac7bdaf4-0035-4bc2-d0a1-21dd87a6a7bd"
      },
      "execution_count": 50,
      "outputs": [
        {
          "output_type": "execute_result",
          "data": {
            "text/plain": [
              "KNeighborsClassifier(n_neighbors=3)"
            ],
            "text/html": [
              "<style>#sk-container-id-4 {\n",
              "  /* Definition of color scheme common for light and dark mode */\n",
              "  --sklearn-color-text: #000;\n",
              "  --sklearn-color-text-muted: #666;\n",
              "  --sklearn-color-line: gray;\n",
              "  /* Definition of color scheme for unfitted estimators */\n",
              "  --sklearn-color-unfitted-level-0: #fff5e6;\n",
              "  --sklearn-color-unfitted-level-1: #f6e4d2;\n",
              "  --sklearn-color-unfitted-level-2: #ffe0b3;\n",
              "  --sklearn-color-unfitted-level-3: chocolate;\n",
              "  /* Definition of color scheme for fitted estimators */\n",
              "  --sklearn-color-fitted-level-0: #f0f8ff;\n",
              "  --sklearn-color-fitted-level-1: #d4ebff;\n",
              "  --sklearn-color-fitted-level-2: #b3dbfd;\n",
              "  --sklearn-color-fitted-level-3: cornflowerblue;\n",
              "\n",
              "  /* Specific color for light theme */\n",
              "  --sklearn-color-text-on-default-background: var(--sg-text-color, var(--theme-code-foreground, var(--jp-content-font-color1, black)));\n",
              "  --sklearn-color-background: var(--sg-background-color, var(--theme-background, var(--jp-layout-color0, white)));\n",
              "  --sklearn-color-border-box: var(--sg-text-color, var(--theme-code-foreground, var(--jp-content-font-color1, black)));\n",
              "  --sklearn-color-icon: #696969;\n",
              "\n",
              "  @media (prefers-color-scheme: dark) {\n",
              "    /* Redefinition of color scheme for dark theme */\n",
              "    --sklearn-color-text-on-default-background: var(--sg-text-color, var(--theme-code-foreground, var(--jp-content-font-color1, white)));\n",
              "    --sklearn-color-background: var(--sg-background-color, var(--theme-background, var(--jp-layout-color0, #111)));\n",
              "    --sklearn-color-border-box: var(--sg-text-color, var(--theme-code-foreground, var(--jp-content-font-color1, white)));\n",
              "    --sklearn-color-icon: #878787;\n",
              "  }\n",
              "}\n",
              "\n",
              "#sk-container-id-4 {\n",
              "  color: var(--sklearn-color-text);\n",
              "}\n",
              "\n",
              "#sk-container-id-4 pre {\n",
              "  padding: 0;\n",
              "}\n",
              "\n",
              "#sk-container-id-4 input.sk-hidden--visually {\n",
              "  border: 0;\n",
              "  clip: rect(1px 1px 1px 1px);\n",
              "  clip: rect(1px, 1px, 1px, 1px);\n",
              "  height: 1px;\n",
              "  margin: -1px;\n",
              "  overflow: hidden;\n",
              "  padding: 0;\n",
              "  position: absolute;\n",
              "  width: 1px;\n",
              "}\n",
              "\n",
              "#sk-container-id-4 div.sk-dashed-wrapped {\n",
              "  border: 1px dashed var(--sklearn-color-line);\n",
              "  margin: 0 0.4em 0.5em 0.4em;\n",
              "  box-sizing: border-box;\n",
              "  padding-bottom: 0.4em;\n",
              "  background-color: var(--sklearn-color-background);\n",
              "}\n",
              "\n",
              "#sk-container-id-4 div.sk-container {\n",
              "  /* jupyter's `normalize.less` sets `[hidden] { display: none; }`\n",
              "     but bootstrap.min.css set `[hidden] { display: none !important; }`\n",
              "     so we also need the `!important` here to be able to override the\n",
              "     default hidden behavior on the sphinx rendered scikit-learn.org.\n",
              "     See: https://github.com/scikit-learn/scikit-learn/issues/21755 */\n",
              "  display: inline-block !important;\n",
              "  position: relative;\n",
              "}\n",
              "\n",
              "#sk-container-id-4 div.sk-text-repr-fallback {\n",
              "  display: none;\n",
              "}\n",
              "\n",
              "div.sk-parallel-item,\n",
              "div.sk-serial,\n",
              "div.sk-item {\n",
              "  /* draw centered vertical line to link estimators */\n",
              "  background-image: linear-gradient(var(--sklearn-color-text-on-default-background), var(--sklearn-color-text-on-default-background));\n",
              "  background-size: 2px 100%;\n",
              "  background-repeat: no-repeat;\n",
              "  background-position: center center;\n",
              "}\n",
              "\n",
              "/* Parallel-specific style estimator block */\n",
              "\n",
              "#sk-container-id-4 div.sk-parallel-item::after {\n",
              "  content: \"\";\n",
              "  width: 100%;\n",
              "  border-bottom: 2px solid var(--sklearn-color-text-on-default-background);\n",
              "  flex-grow: 1;\n",
              "}\n",
              "\n",
              "#sk-container-id-4 div.sk-parallel {\n",
              "  display: flex;\n",
              "  align-items: stretch;\n",
              "  justify-content: center;\n",
              "  background-color: var(--sklearn-color-background);\n",
              "  position: relative;\n",
              "}\n",
              "\n",
              "#sk-container-id-4 div.sk-parallel-item {\n",
              "  display: flex;\n",
              "  flex-direction: column;\n",
              "}\n",
              "\n",
              "#sk-container-id-4 div.sk-parallel-item:first-child::after {\n",
              "  align-self: flex-end;\n",
              "  width: 50%;\n",
              "}\n",
              "\n",
              "#sk-container-id-4 div.sk-parallel-item:last-child::after {\n",
              "  align-self: flex-start;\n",
              "  width: 50%;\n",
              "}\n",
              "\n",
              "#sk-container-id-4 div.sk-parallel-item:only-child::after {\n",
              "  width: 0;\n",
              "}\n",
              "\n",
              "/* Serial-specific style estimator block */\n",
              "\n",
              "#sk-container-id-4 div.sk-serial {\n",
              "  display: flex;\n",
              "  flex-direction: column;\n",
              "  align-items: center;\n",
              "  background-color: var(--sklearn-color-background);\n",
              "  padding-right: 1em;\n",
              "  padding-left: 1em;\n",
              "}\n",
              "\n",
              "\n",
              "/* Toggleable style: style used for estimator/Pipeline/ColumnTransformer box that is\n",
              "clickable and can be expanded/collapsed.\n",
              "- Pipeline and ColumnTransformer use this feature and define the default style\n",
              "- Estimators will overwrite some part of the style using the `sk-estimator` class\n",
              "*/\n",
              "\n",
              "/* Pipeline and ColumnTransformer style (default) */\n",
              "\n",
              "#sk-container-id-4 div.sk-toggleable {\n",
              "  /* Default theme specific background. It is overwritten whether we have a\n",
              "  specific estimator or a Pipeline/ColumnTransformer */\n",
              "  background-color: var(--sklearn-color-background);\n",
              "}\n",
              "\n",
              "/* Toggleable label */\n",
              "#sk-container-id-4 label.sk-toggleable__label {\n",
              "  cursor: pointer;\n",
              "  display: flex;\n",
              "  width: 100%;\n",
              "  margin-bottom: 0;\n",
              "  padding: 0.5em;\n",
              "  box-sizing: border-box;\n",
              "  text-align: center;\n",
              "  align-items: start;\n",
              "  justify-content: space-between;\n",
              "  gap: 0.5em;\n",
              "}\n",
              "\n",
              "#sk-container-id-4 label.sk-toggleable__label .caption {\n",
              "  font-size: 0.6rem;\n",
              "  font-weight: lighter;\n",
              "  color: var(--sklearn-color-text-muted);\n",
              "}\n",
              "\n",
              "#sk-container-id-4 label.sk-toggleable__label-arrow:before {\n",
              "  /* Arrow on the left of the label */\n",
              "  content: \"▸\";\n",
              "  float: left;\n",
              "  margin-right: 0.25em;\n",
              "  color: var(--sklearn-color-icon);\n",
              "}\n",
              "\n",
              "#sk-container-id-4 label.sk-toggleable__label-arrow:hover:before {\n",
              "  color: var(--sklearn-color-text);\n",
              "}\n",
              "\n",
              "/* Toggleable content - dropdown */\n",
              "\n",
              "#sk-container-id-4 div.sk-toggleable__content {\n",
              "  max-height: 0;\n",
              "  max-width: 0;\n",
              "  overflow: hidden;\n",
              "  text-align: left;\n",
              "  /* unfitted */\n",
              "  background-color: var(--sklearn-color-unfitted-level-0);\n",
              "}\n",
              "\n",
              "#sk-container-id-4 div.sk-toggleable__content.fitted {\n",
              "  /* fitted */\n",
              "  background-color: var(--sklearn-color-fitted-level-0);\n",
              "}\n",
              "\n",
              "#sk-container-id-4 div.sk-toggleable__content pre {\n",
              "  margin: 0.2em;\n",
              "  border-radius: 0.25em;\n",
              "  color: var(--sklearn-color-text);\n",
              "  /* unfitted */\n",
              "  background-color: var(--sklearn-color-unfitted-level-0);\n",
              "}\n",
              "\n",
              "#sk-container-id-4 div.sk-toggleable__content.fitted pre {\n",
              "  /* unfitted */\n",
              "  background-color: var(--sklearn-color-fitted-level-0);\n",
              "}\n",
              "\n",
              "#sk-container-id-4 input.sk-toggleable__control:checked~div.sk-toggleable__content {\n",
              "  /* Expand drop-down */\n",
              "  max-height: 200px;\n",
              "  max-width: 100%;\n",
              "  overflow: auto;\n",
              "}\n",
              "\n",
              "#sk-container-id-4 input.sk-toggleable__control:checked~label.sk-toggleable__label-arrow:before {\n",
              "  content: \"▾\";\n",
              "}\n",
              "\n",
              "/* Pipeline/ColumnTransformer-specific style */\n",
              "\n",
              "#sk-container-id-4 div.sk-label input.sk-toggleable__control:checked~label.sk-toggleable__label {\n",
              "  color: var(--sklearn-color-text);\n",
              "  background-color: var(--sklearn-color-unfitted-level-2);\n",
              "}\n",
              "\n",
              "#sk-container-id-4 div.sk-label.fitted input.sk-toggleable__control:checked~label.sk-toggleable__label {\n",
              "  background-color: var(--sklearn-color-fitted-level-2);\n",
              "}\n",
              "\n",
              "/* Estimator-specific style */\n",
              "\n",
              "/* Colorize estimator box */\n",
              "#sk-container-id-4 div.sk-estimator input.sk-toggleable__control:checked~label.sk-toggleable__label {\n",
              "  /* unfitted */\n",
              "  background-color: var(--sklearn-color-unfitted-level-2);\n",
              "}\n",
              "\n",
              "#sk-container-id-4 div.sk-estimator.fitted input.sk-toggleable__control:checked~label.sk-toggleable__label {\n",
              "  /* fitted */\n",
              "  background-color: var(--sklearn-color-fitted-level-2);\n",
              "}\n",
              "\n",
              "#sk-container-id-4 div.sk-label label.sk-toggleable__label,\n",
              "#sk-container-id-4 div.sk-label label {\n",
              "  /* The background is the default theme color */\n",
              "  color: var(--sklearn-color-text-on-default-background);\n",
              "}\n",
              "\n",
              "/* On hover, darken the color of the background */\n",
              "#sk-container-id-4 div.sk-label:hover label.sk-toggleable__label {\n",
              "  color: var(--sklearn-color-text);\n",
              "  background-color: var(--sklearn-color-unfitted-level-2);\n",
              "}\n",
              "\n",
              "/* Label box, darken color on hover, fitted */\n",
              "#sk-container-id-4 div.sk-label.fitted:hover label.sk-toggleable__label.fitted {\n",
              "  color: var(--sklearn-color-text);\n",
              "  background-color: var(--sklearn-color-fitted-level-2);\n",
              "}\n",
              "\n",
              "/* Estimator label */\n",
              "\n",
              "#sk-container-id-4 div.sk-label label {\n",
              "  font-family: monospace;\n",
              "  font-weight: bold;\n",
              "  display: inline-block;\n",
              "  line-height: 1.2em;\n",
              "}\n",
              "\n",
              "#sk-container-id-4 div.sk-label-container {\n",
              "  text-align: center;\n",
              "}\n",
              "\n",
              "/* Estimator-specific */\n",
              "#sk-container-id-4 div.sk-estimator {\n",
              "  font-family: monospace;\n",
              "  border: 1px dotted var(--sklearn-color-border-box);\n",
              "  border-radius: 0.25em;\n",
              "  box-sizing: border-box;\n",
              "  margin-bottom: 0.5em;\n",
              "  /* unfitted */\n",
              "  background-color: var(--sklearn-color-unfitted-level-0);\n",
              "}\n",
              "\n",
              "#sk-container-id-4 div.sk-estimator.fitted {\n",
              "  /* fitted */\n",
              "  background-color: var(--sklearn-color-fitted-level-0);\n",
              "}\n",
              "\n",
              "/* on hover */\n",
              "#sk-container-id-4 div.sk-estimator:hover {\n",
              "  /* unfitted */\n",
              "  background-color: var(--sklearn-color-unfitted-level-2);\n",
              "}\n",
              "\n",
              "#sk-container-id-4 div.sk-estimator.fitted:hover {\n",
              "  /* fitted */\n",
              "  background-color: var(--sklearn-color-fitted-level-2);\n",
              "}\n",
              "\n",
              "/* Specification for estimator info (e.g. \"i\" and \"?\") */\n",
              "\n",
              "/* Common style for \"i\" and \"?\" */\n",
              "\n",
              ".sk-estimator-doc-link,\n",
              "a:link.sk-estimator-doc-link,\n",
              "a:visited.sk-estimator-doc-link {\n",
              "  float: right;\n",
              "  font-size: smaller;\n",
              "  line-height: 1em;\n",
              "  font-family: monospace;\n",
              "  background-color: var(--sklearn-color-background);\n",
              "  border-radius: 1em;\n",
              "  height: 1em;\n",
              "  width: 1em;\n",
              "  text-decoration: none !important;\n",
              "  margin-left: 0.5em;\n",
              "  text-align: center;\n",
              "  /* unfitted */\n",
              "  border: var(--sklearn-color-unfitted-level-1) 1pt solid;\n",
              "  color: var(--sklearn-color-unfitted-level-1);\n",
              "}\n",
              "\n",
              ".sk-estimator-doc-link.fitted,\n",
              "a:link.sk-estimator-doc-link.fitted,\n",
              "a:visited.sk-estimator-doc-link.fitted {\n",
              "  /* fitted */\n",
              "  border: var(--sklearn-color-fitted-level-1) 1pt solid;\n",
              "  color: var(--sklearn-color-fitted-level-1);\n",
              "}\n",
              "\n",
              "/* On hover */\n",
              "div.sk-estimator:hover .sk-estimator-doc-link:hover,\n",
              ".sk-estimator-doc-link:hover,\n",
              "div.sk-label-container:hover .sk-estimator-doc-link:hover,\n",
              ".sk-estimator-doc-link:hover {\n",
              "  /* unfitted */\n",
              "  background-color: var(--sklearn-color-unfitted-level-3);\n",
              "  color: var(--sklearn-color-background);\n",
              "  text-decoration: none;\n",
              "}\n",
              "\n",
              "div.sk-estimator.fitted:hover .sk-estimator-doc-link.fitted:hover,\n",
              ".sk-estimator-doc-link.fitted:hover,\n",
              "div.sk-label-container:hover .sk-estimator-doc-link.fitted:hover,\n",
              ".sk-estimator-doc-link.fitted:hover {\n",
              "  /* fitted */\n",
              "  background-color: var(--sklearn-color-fitted-level-3);\n",
              "  color: var(--sklearn-color-background);\n",
              "  text-decoration: none;\n",
              "}\n",
              "\n",
              "/* Span, style for the box shown on hovering the info icon */\n",
              ".sk-estimator-doc-link span {\n",
              "  display: none;\n",
              "  z-index: 9999;\n",
              "  position: relative;\n",
              "  font-weight: normal;\n",
              "  right: .2ex;\n",
              "  padding: .5ex;\n",
              "  margin: .5ex;\n",
              "  width: min-content;\n",
              "  min-width: 20ex;\n",
              "  max-width: 50ex;\n",
              "  color: var(--sklearn-color-text);\n",
              "  box-shadow: 2pt 2pt 4pt #999;\n",
              "  /* unfitted */\n",
              "  background: var(--sklearn-color-unfitted-level-0);\n",
              "  border: .5pt solid var(--sklearn-color-unfitted-level-3);\n",
              "}\n",
              "\n",
              ".sk-estimator-doc-link.fitted span {\n",
              "  /* fitted */\n",
              "  background: var(--sklearn-color-fitted-level-0);\n",
              "  border: var(--sklearn-color-fitted-level-3);\n",
              "}\n",
              "\n",
              ".sk-estimator-doc-link:hover span {\n",
              "  display: block;\n",
              "}\n",
              "\n",
              "/* \"?\"-specific style due to the `<a>` HTML tag */\n",
              "\n",
              "#sk-container-id-4 a.estimator_doc_link {\n",
              "  float: right;\n",
              "  font-size: 1rem;\n",
              "  line-height: 1em;\n",
              "  font-family: monospace;\n",
              "  background-color: var(--sklearn-color-background);\n",
              "  border-radius: 1rem;\n",
              "  height: 1rem;\n",
              "  width: 1rem;\n",
              "  text-decoration: none;\n",
              "  /* unfitted */\n",
              "  color: var(--sklearn-color-unfitted-level-1);\n",
              "  border: var(--sklearn-color-unfitted-level-1) 1pt solid;\n",
              "}\n",
              "\n",
              "#sk-container-id-4 a.estimator_doc_link.fitted {\n",
              "  /* fitted */\n",
              "  border: var(--sklearn-color-fitted-level-1) 1pt solid;\n",
              "  color: var(--sklearn-color-fitted-level-1);\n",
              "}\n",
              "\n",
              "/* On hover */\n",
              "#sk-container-id-4 a.estimator_doc_link:hover {\n",
              "  /* unfitted */\n",
              "  background-color: var(--sklearn-color-unfitted-level-3);\n",
              "  color: var(--sklearn-color-background);\n",
              "  text-decoration: none;\n",
              "}\n",
              "\n",
              "#sk-container-id-4 a.estimator_doc_link.fitted:hover {\n",
              "  /* fitted */\n",
              "  background-color: var(--sklearn-color-fitted-level-3);\n",
              "}\n",
              "</style><div id=\"sk-container-id-4\" class=\"sk-top-container\"><div class=\"sk-text-repr-fallback\"><pre>KNeighborsClassifier(n_neighbors=3)</pre><b>In a Jupyter environment, please rerun this cell to show the HTML representation or trust the notebook. <br />On GitHub, the HTML representation is unable to render, please try loading this page with nbviewer.org.</b></div><div class=\"sk-container\" hidden><div class=\"sk-item\"><div class=\"sk-estimator fitted sk-toggleable\"><input class=\"sk-toggleable__control sk-hidden--visually\" id=\"sk-estimator-id-4\" type=\"checkbox\" checked><label for=\"sk-estimator-id-4\" class=\"sk-toggleable__label fitted sk-toggleable__label-arrow\"><div><div>KNeighborsClassifier</div></div><div><a class=\"sk-estimator-doc-link fitted\" rel=\"noreferrer\" target=\"_blank\" href=\"https://scikit-learn.org/1.6/modules/generated/sklearn.neighbors.KNeighborsClassifier.html\">?<span>Documentation for KNeighborsClassifier</span></a><span class=\"sk-estimator-doc-link fitted\">i<span>Fitted</span></span></div></label><div class=\"sk-toggleable__content fitted\"><pre>KNeighborsClassifier(n_neighbors=3)</pre></div> </div></div></div></div>"
            ]
          },
          "metadata": {},
          "execution_count": 50
        }
      ]
    },
    {
      "cell_type": "code",
      "source": [
        "print(f'SVM: {neg_cost(svm_, X_test, Y_test)}')\n",
        "print(f'RF: {neg_cost(rf, X_test, Y_test)}')\n",
        "print(f'KNN: {neg_cost(knn, X_test, Y_test)}')"
      ],
      "metadata": {
        "colab": {
          "base_uri": "https://localhost:8080/"
        },
        "id": "tilTJYs4x4Ys",
        "outputId": "7ace18f7-6350-4fc9-de90-2b626ad4d53c"
      },
      "execution_count": 51,
      "outputs": [
        {
          "output_type": "stream",
          "name": "stdout",
          "text": [
            "SVM: -0.88\n",
            "RF: -0.875\n",
            "KNN: -1.19\n"
          ]
        }
      ]
    }
  ],
  "metadata": {
    "kernelspec": {
      "display_name": "Python 3",
      "language": "python",
      "name": "python3"
    },
    "language_info": {
      "codemirror_mode": {
        "name": "ipython",
        "version": 3
      },
      "file_extension": ".py",
      "mimetype": "text/x-python",
      "name": "python",
      "nbconvert_exporter": "python",
      "pygments_lexer": "ipython3",
      "version": "3.7.6"
    },
    "colab": {
      "provenance": [],
      "include_colab_link": true
    }
  },
  "nbformat": 4,
  "nbformat_minor": 0
}